{
 "cells": [
  {
   "cell_type": "code",
   "execution_count": 1,
   "metadata": {},
   "outputs": [],
   "source": [
    "import numpy as np\n",
    "from sklearn.metrics import roc_curve\n",
    "from sklearn.neighbors import KNeighborsClassifier\n",
    "import random\n",
    "import matplotlib.patheffects as PathEffects"
   ]
  },
  {
   "cell_type": "code",
   "execution_count": 2,
   "metadata": {},
   "outputs": [],
   "source": [
    "from keras.layers import Input, Conv2D, Lambda, Dense, Flatten,MaxPooling2D, concatenate,Dropout\n",
    "from keras.models import Model, Sequential\n",
    "from keras.regularizers import l2\n",
    "from keras import backend as K\n",
    "from tensorflow.keras.optimizers import Adam, SGD, RMSprop\n",
    "from keras.losses import binary_crossentropy\n",
    "import tensorflow as tf\n",
    "import os\n",
    "import pickle\n",
    "import matplotlib.pyplot as plt"
   ]
  },
  {
   "cell_type": "code",
   "execution_count": 3,
   "metadata": {},
   "outputs": [],
   "source": [
    "from itertools import permutations"
   ]
  },
  {
   "cell_type": "code",
   "execution_count": 4,
   "metadata": {},
   "outputs": [],
   "source": [
    "import seaborn as sns"
   ]
  },
  {
   "cell_type": "code",
   "execution_count": 5,
   "metadata": {},
   "outputs": [],
   "source": [
    "from keras.datasets import mnist\n",
    "from sklearn.manifold import TSNE"
   ]
  },
  {
   "cell_type": "code",
   "execution_count": 6,
   "metadata": {},
   "outputs": [],
   "source": [
    "from sklearn.svm import SVC"
   ]
  },
  {
   "cell_type": "code",
   "execution_count": 7,
   "metadata": {},
   "outputs": [],
   "source": [
    "from DataLoader import DataLoader"
   ]
  },
  {
   "cell_type": "code",
   "execution_count": 8,
   "metadata": {},
   "outputs": [],
   "source": [
    "import visualkeras"
   ]
  },
  {
   "cell_type": "raw",
   "metadata": {},
   "source": [
    "    model = Sequential()\n",
    "\n",
    "    # 1st Convolutional Layer\n",
    "    model.add(Conv2D(filters=64, input_shape=(256,256,3), kernel_size=(11,11), strides=(4,4), padding='valid', activation='relu'))\n",
    "    # Pooling \n",
    "    model.add(MaxPooling2D(pool_size=(2,2), strides=(2,2), padding='valid'))\n",
    "\n",
    "    # 2nd Convolutional Layer\n",
    "    model.add(Conv2D(filters=64, kernel_size=(5,5), strides=(1,1), padding='same', activation='relu'))\n",
    "    # Pooling\n",
    "    model.add(MaxPooling2D(pool_size=(3,3), strides=(2,2), padding='valid'))\n",
    "\n",
    "    # 3rd Convolutional Layer\n",
    "    model.add(Conv2D(filters=64, kernel_size=(3,3), strides=(1,1), padding='same', activation='relu'))\n",
    "\n",
    "    # 4th Convolutional Layer\n",
    "    model.add(Conv2D(filters=64, kernel_size=(3,3), strides=(1,1), padding='same', activation='relu'))\n",
    "    # Pooling\n",
    "    model.add(MaxPooling2D(pool_size=(3,3), strides=(2,2), padding='valid'))\n",
    "\n",
    "    # Passing it to a dense layer\n",
    "    model.add(Flatten())\n",
    "\n",
    "    # Add Dropout to prevent overfitting\n",
    "    model.add(Dropout(0.5))\n",
    "\n",
    "    # Dense Layer\n",
    "    model.add(Dense(units=128, activation='relu')) # antes con 256\n",
    "\n",
    "    # Output Layer \n",
    "    model.add(Dense(units=n_classes, activation='softmax'))"
   ]
  },
  {
   "cell_type": "raw",
   "metadata": {},
   "source": [
    "model.summary()"
   ]
  },
  {
   "cell_type": "raw",
   "metadata": {},
   "source": [
    "visualkeras.layered_view(model, to_file='./Images/example_arc.png', legend=True)"
   ]
  },
  {
   "cell_type": "code",
   "execution_count": null,
   "metadata": {},
   "outputs": [],
   "source": [
    "im_size = 96\n",
    "channels = 3\n",
    "flat_dim = im_size*im_size*channels\n",
    "n_classes = 5 # we get rid of Ns as we have only 5 examples"
   ]
  },
  {
   "cell_type": "code",
   "execution_count": 10,
   "metadata": {},
   "outputs": [
    {
     "name": "stderr",
     "output_type": "stream",
     "text": [
      "100%|███████████████████████████████████████████████████████████████████████████████████████████████████████████████████████████████████████████████████████████████████████████████████| 6/6 [00:07<00:00,  1.26s/it]\n"
     ]
    }
   ],
   "source": [
    "# load Fabra\n",
    "data = DataLoader(\"ViT\")\n",
    "data.load_data(\"/Users/marcosplazagonzalez/Desktop/Ground-based_CloudClassification/Datasets/FabraSwimcatClean_TrainTest/train\", im_size, channels)"
   ]
  },
  {
   "cell_type": "code",
   "execution_count": 31,
   "metadata": {},
   "outputs": [],
   "source": [
    "from sklearn.model_selection import train_test_split\n",
    "\n",
    "# split into train and validation\n",
    "x_train, x_test, y_train, y_test = train_test_split(data.X, data.y, test_size=0.3, random_state=42)\n",
    "y_train = y_train.flatten()\n",
    "y_test = y_test.flatten()"
   ]
  },
  {
   "cell_type": "code",
   "execution_count": 32,
   "metadata": {},
   "outputs": [
    {
     "data": {
      "text/plain": [
       "(474, 96, 96, 3)"
      ]
     },
     "execution_count": 32,
     "metadata": {},
     "output_type": "execute_result"
    }
   ],
   "source": [
    "x_train.shape"
   ]
  },
  {
   "cell_type": "markdown",
   "metadata": {},
   "source": [
    "### We need to do data augmentation"
   ]
  },
  {
   "cell_type": "code",
   "execution_count": 71,
   "metadata": {},
   "outputs": [],
   "source": [
    "uniq, counts = np.unique(y_train, return_counts=True)"
   ]
  },
  {
   "cell_type": "code",
   "execution_count": 72,
   "metadata": {},
   "outputs": [
    {
     "name": "stdout",
     "output_type": "stream",
     "text": [
      "Pattern  => label  0  => samples  38\n",
      "Sky  => label  1  => samples  106\n",
      "Thick Dark  => label  2  => samples  131\n",
      "Thick White  => label  3  => samples  68\n",
      "Veil  => label  4  => samples  39\n"
     ]
    }
   ],
   "source": [
    "for i in range(len(uniq)):\n",
    "    print(data.class_names[i], \" => label \", uniq[i], \" => samples \", counts[i])"
   ]
  },
  {
   "cell_type": "code",
   "execution_count": 73,
   "metadata": {},
   "outputs": [],
   "source": [
    "from keras.preprocessing.image import ImageDataGenerator\n",
    "from tqdm import tqdm\n",
    "\n",
    "def data_aug(src_X, height=96, width=96, channels=3, n_times=1):\n",
    "    datagen = ImageDataGenerator(\n",
    "        horizontal_flip=True, # horizontal flip\n",
    "        brightness_range=[0.75,1.35], # brightness\n",
    "        zoom_range=[0.75,1.0]) # zoom\n",
    "\n",
    "    # fit parameters from data\n",
    "    datagen.fit(src_X)\n",
    "\n",
    "    N = src_X.shape[0]\n",
    "    X = np.zeros((N*n_times, height, width, channels))\n",
    "    \n",
    "    for n in range(n_times):\n",
    "        for X_batch in datagen.flow(src_X, batch_size=N):\n",
    "            for i in tqdm(range(0, N)):\n",
    "                X[N*n+i,:,:,:] = X_batch[i]/255. # normalize images\n",
    "            break\n",
    "\n",
    "    return X"
   ]
  },
  {
   "cell_type": "code",
   "execution_count": 20,
   "metadata": {},
   "outputs": [
    {
     "name": "stderr",
     "output_type": "stream",
     "text": [
      "100%|██████████████████████████████████████████████████████████████████████████████████████████████████████████████████████████████████████████████████████████████████████████████| 43/43 [00:00<00:00, 20964.21it/s]\n",
      "100%|██████████████████████████████████████████████████████████████████████████████████████████████████████████████████████████████████████████████████████████████████████████████| 43/43 [00:00<00:00, 20180.72it/s]\n",
      "100%|██████████████████████████████████████████████████████████████████████████████████████████████████████████████████████████████████████████████████████████████████████████████| 43/43 [00:00<00:00, 20903.46it/s]\n",
      "100%|██████████████████████████████████████████████████████████████████████████████████████████████████████████████████████████████████████████████████████████████████████████████| 43/43 [00:00<00:00, 19283.13it/s]\n",
      "100%|██████████████████████████████████████████████████████████████████████████████████████████████████████████████████████████████████████████████████████████████████████████████| 43/43 [00:00<00:00, 19413.89it/s]\n",
      "100%|██████████████████████████████████████████████████████████████████████████████████████████████████████████████████████████████████████████████████████████████████████████████| 69/69 [00:00<00:00, 23967.45it/s]\n",
      "100%|██████████████████████████████████████████████████████████████████████████████████████████████████████████████████████████████████████████████████████████████████████████████| 69/69 [00:00<00:00, 23390.20it/s]\n",
      "100%|██████████████████████████████████████████████████████████████████████████████████████████████████████████████████████████████████████████████████████████████████████████████| 69/69 [00:00<00:00, 23247.41it/s]\n",
      "100%|██████████████████████████████████████████████████████████████████████████████████████████████████████████████████████████████████████████████████████████████████████████████| 69/69 [00:00<00:00, 22417.27it/s]\n",
      "100%|██████████████████████████████████████████████████████████████████████████████████████████████████████████████████████████████████████████████████████████████████████████████| 69/69 [00:00<00:00, 21794.34it/s]\n",
      "100%|██████████████████████████████████████████████████████████████████████████████████████████████████████████████████████████████████████████████████████████████████████████████| 50/50 [00:00<00:00, 23809.63it/s]\n",
      "100%|██████████████████████████████████████████████████████████████████████████████████████████████████████████████████████████████████████████████████████████████████████████████| 50/50 [00:00<00:00, 21375.52it/s]\n",
      "100%|██████████████████████████████████████████████████████████████████████████████████████████████████████████████████████████████████████████████████████████████████████████████| 50/50 [00:00<00:00, 20026.28it/s]\n",
      "100%|██████████████████████████████████████████████████████████████████████████████████████████████████████████████████████████████████████████████████████████████████████████████| 50/50 [00:00<00:00, 21312.52it/s]\n",
      "100%|██████████████████████████████████████████████████████████████████████████████████████████████████████████████████████████████████████████████████████████████████████████████| 50/50 [00:00<00:00, 21786.33it/s]\n",
      "100%|████████████████████████████████████████████████████████████████████████████████████████████████████████████████████████████████████████████████████████████████████████████| 159/159 [00:00<00:00, 25334.08it/s]\n",
      "100%|████████████████████████████████████████████████████████████████████████████████████████████████████████████████████████████████████████████████████████████████████████████| 159/159 [00:00<00:00, 24655.05it/s]\n",
      "100%|████████████████████████████████████████████████████████████████████████████████████████████████████████████████████████████████████████████████████████████████████████████| 191/191 [00:00<00:00, 30293.52it/s]\n",
      "100%|████████████████████████████████████████████████████████████████████████████████████████████████████████████████████████████████████████████████████████████████████████████| 191/191 [00:00<00:00, 26435.85it/s]\n",
      "100%|████████████████████████████████████████████████████████████████████████████████████████████████████████████████████████████████████████████████████████████████████████████| 163/163 [00:00<00:00, 28437.73it/s]\n",
      "100%|████████████████████████████████████████████████████████████████████████████████████████████████████████████████████████████████████████████████████████████████████████████| 163/163 [00:00<00:00, 26680.91it/s]\n",
      "100%|████████████████████████████████████████████████████████████████████████████████████████████████████████████████████████████████████████████████████████████████████████████| 145/145 [00:00<00:00, 28392.81it/s]\n",
      "100%|████████████████████████████████████████████████████████████████████████████████████████████████████████████████████████████████████████████████████████████████████████████| 145/145 [00:00<00:00, 27466.99it/s]\n"
     ]
    }
   ],
   "source": [
    "X_tmp = []\n",
    "y_tmp = []\n",
    "        \n",
    "avoid = [0]\n",
    "\n",
    "for idx, cl in enumerate(np.unique(data.y)):\n",
    "    X_n = x_train[np.where(y_train == cl)[0]]\n",
    "    if cl not in avoid: \n",
    "        if cl == 1 or cl == 2 or cl == 3:\n",
    "            X_n = data_aug(X_n, n_times=5)\n",
    "        else:\n",
    "            X_n = data_aug(X_n, n_times=2)\n",
    "    X_tmp.append(X_n)\n",
    "    y_aug_tmp = np.zeros((X_n.shape[0], 1))\n",
    "    y_aug_tmp += cl\n",
    "    y_tmp.append(y_aug_tmp)\n",
    "\n",
    "x_train = np.concatenate(X_tmp, axis=0)\n",
    "y_train = np.concatenate(y_tmp, axis=0).astype('int32')"
   ]
  },
  {
   "cell_type": "code",
   "execution_count": 21,
   "metadata": {},
   "outputs": [
    {
     "name": "stdout",
     "output_type": "stream",
     "text": [
      "(2377, 96, 96, 3)\n",
      "(459, 96, 96, 3)\n"
     ]
    }
   ],
   "source": [
    "print(x_train.shape)\n",
    "print(x_test.shape)"
   ]
  },
  {
   "cell_type": "code",
   "execution_count": 22,
   "metadata": {},
   "outputs": [],
   "source": [
    "from sklearn.utils import shuffle\n",
    "\n",
    "y_train = y_train.flatten()\n",
    "x_train, y_train = shuffle(x_train, y_train, random_state=42)"
   ]
  },
  {
   "cell_type": "code",
   "execution_count": 23,
   "metadata": {},
   "outputs": [],
   "source": [
    "uniq, counts = np.unique(y_train, return_counts=True)"
   ]
  },
  {
   "cell_type": "code",
   "execution_count": 24,
   "metadata": {},
   "outputs": [
    {
     "data": {
      "text/plain": [
       "array([0, 1, 2, 3, 4, 5, 6, 7], dtype=int32)"
      ]
     },
     "execution_count": 24,
     "metadata": {},
     "output_type": "execute_result"
    }
   ],
   "source": [
    "uniq"
   ]
  },
  {
   "cell_type": "code",
   "execution_count": 26,
   "metadata": {},
   "outputs": [
    {
     "name": "stdout",
     "output_type": "stream",
     "text": [
      "Ac  => label  0  => samples  251\n",
      "As  => label  1  => samples  215\n",
      "Cb  => label  2  => samples  345\n",
      "Cc  => label  3  => samples  250\n",
      "Ci  => label  4  => samples  318\n",
      "Cu  => label  5  => samples  382\n",
      "Sc  => label  6  => samples  326\n",
      "St  => label  7  => samples  290\n"
     ]
    }
   ],
   "source": [
    "for i in range(len(uniq)):\n",
    "    print(data.class_names[i], \" => label \", uniq[i], \" => samples \", counts[i])"
   ]
  },
  {
   "cell_type": "markdown",
   "metadata": {},
   "source": [
    "### End data augmentation"
   ]
  },
  {
   "cell_type": "code",
   "execution_count": 33,
   "metadata": {},
   "outputs": [],
   "source": [
    "# Define our own plot function\n",
    "def scatter(x, labels, n_classes, subtitle=None):\n",
    "    # We choose a color palette with seaborn.\n",
    "    palette = np.array(sns.color_palette(\"hls\", n_classes))\n",
    "\n",
    "    # We create a scatter plot.\n",
    "    f = plt.figure(figsize=(8, 8))\n",
    "    ax = plt.subplot(aspect='equal')\n",
    "    sc = ax.scatter(x[:,0], x[:,1], lw=0, s=40,\n",
    "                    c=palette[labels.astype(np.int)])\n",
    "    plt.xlim(-25, 25)\n",
    "    plt.ylim(-25, 25)\n",
    "    ax.axis('off')\n",
    "    ax.axis('tight')\n",
    "\n",
    "    # We add the labels for each digit.\n",
    "    txts = []\n",
    "    for i in range(5):\n",
    "        # Position of each label.\n",
    "        xtext, ytext = np.median(x[labels == i,:], axis=0) #np.median(x[np.where((labels == i).all(axis=1))[0]], axis=0)\n",
    "        txt = ax.text(xtext, ytext, str(i), fontsize=24)\n",
    "        txt.set_path_effects([\n",
    "            PathEffects.Stroke(linewidth=5, foreground=\"w\"),\n",
    "            PathEffects.Normal()])\n",
    "        txts.append(txt)\n",
    "        \n",
    "    if subtitle != None:\n",
    "        plt.suptitle(subtitle)\n",
    "        \n",
    "    plt.savefig(subtitle)"
   ]
  },
  {
   "cell_type": "code",
   "execution_count": 34,
   "metadata": {},
   "outputs": [],
   "source": [
    "x_train_flat = x_train.reshape(-1,flat_dim)\n",
    "x_test_flat = x_test.reshape(-1,flat_dim)"
   ]
  },
  {
   "cell_type": "code",
   "execution_count": 35,
   "metadata": {},
   "outputs": [
    {
     "name": "stderr",
     "output_type": "stream",
     "text": [
      "/Users/marcosplazagonzalez/miniforge3/lib/python3.9/site-packages/sklearn/manifold/_t_sne.py:795: FutureWarning: The default initialization in TSNE will change from 'random' to 'pca' in 1.2.\n",
      "  warnings.warn(\n",
      "/Users/marcosplazagonzalez/miniforge3/lib/python3.9/site-packages/sklearn/manifold/_t_sne.py:805: FutureWarning: The default learning rate in TSNE will change from 200.0 to 'auto' in 1.2.\n",
      "  warnings.warn(\n",
      "/Users/marcosplazagonzalez/miniforge3/lib/python3.9/site-packages/sklearn/manifold/_t_sne.py:795: FutureWarning: The default initialization in TSNE will change from 'random' to 'pca' in 1.2.\n",
      "  warnings.warn(\n",
      "/Users/marcosplazagonzalez/miniforge3/lib/python3.9/site-packages/sklearn/manifold/_t_sne.py:805: FutureWarning: The default learning rate in TSNE will change from 200.0 to 'auto' in 1.2.\n",
      "  warnings.warn(\n"
     ]
    },
    {
     "data": {
      "image/png": "[encoded data removed]",
      "text/plain": [
       "<Figure size 576x576 with 1 Axes>"
      ]
     },
     "metadata": {
      "needs_background": "light"
     },
     "output_type": "display_data"
    },
    {
     "data": {
      "image/png": "[encoded data removed]",
      "text/plain": [
       "<Figure size 576x576 with 1 Axes>"
      ]
     },
     "metadata": {
      "needs_background": "light"
     },
     "output_type": "display_data"
    }
   ],
   "source": [
    "tsne = TSNE()\n",
    "\n",
    "train_tsne_embeds = tsne.fit_transform(x_train_flat[:512])\n",
    "scatter(train_tsne_embeds, y_train[:512], n_classes, \"Samples from Training Data on CCSN dataset\")\n",
    "\n",
    "eval_tsne_embeds = tsne.fit_transform(x_test_flat[:512])\n",
    "scatter(eval_tsne_embeds, y_test[:512], n_classes, \"Samples from Validation Data on CCSN dataset\")"
   ]
  },
  {
   "cell_type": "markdown",
   "metadata": {},
   "source": [
    "### One-hot encoding of labels"
   ]
  },
  {
   "cell_type": "code",
   "execution_count": 36,
   "metadata": {},
   "outputs": [],
   "source": [
    "from sklearn.preprocessing import LabelBinarizer"
   ]
  },
  {
   "cell_type": "code",
   "execution_count": 37,
   "metadata": {},
   "outputs": [],
   "source": [
    "le = LabelBinarizer()"
   ]
  },
  {
   "cell_type": "code",
   "execution_count": 38,
   "metadata": {},
   "outputs": [],
   "source": [
    "y_train_onehot = le.fit_transform(y_train)\n",
    "y_test_onehot = le.transform(y_test)"
   ]
  },
  {
   "cell_type": "markdown",
   "metadata": {},
   "source": [
    "### Triplet generation"
   ]
  },
  {
   "cell_type": "code",
   "execution_count": 39,
   "metadata": {},
   "outputs": [],
   "source": [
    "def generate_triplet(x,y,testsize=0.3,ap_pairs=10,an_pairs=10):\n",
    "    data_xy = tuple([x,y])\n",
    "\n",
    "    trainsize = 1-testsize\n",
    "\n",
    "    triplet_train_pairs = []\n",
    "    triplet_test_pairs = []\n",
    "    for data_class in np.unique(data_xy[1]):\n",
    "        \n",
    "        same_class_idx = np.where(data_xy[1] == data_class)[0]\n",
    "        diff_class_idx = np.where(data_xy[1] != data_class)[0]\n",
    "        \n",
    "        A_P_pairs = random.sample(list(permutations(same_class_idx, 2)), k=ap_pairs) #Generating Anchor-Positive pairs\n",
    "        Neg_idx = random.sample(list(diff_class_idx),k=an_pairs)\n",
    "        \n",
    "        #train\n",
    "        A_P_len = len(A_P_pairs)\n",
    "        Neg_len = len(Neg_idx)\n",
    "        for ap in A_P_pairs[:int(A_P_len*trainsize)]:\n",
    "            Anchor = data_xy[0][ap[0]]\n",
    "            Positive = data_xy[0][ap[1]]\n",
    "            for n in Neg_idx:\n",
    "                Negative = data_xy[0][n]\n",
    "                triplet_train_pairs.append([Anchor,Positive,Negative])               \n",
    "        #test\n",
    "        for ap in A_P_pairs[int(A_P_len*trainsize):]:\n",
    "            Anchor = data_xy[0][ap[0]]\n",
    "            Positive = data_xy[0][ap[1]]\n",
    "            for n in Neg_idx:\n",
    "                Negative = data_xy[0][n]\n",
    "                triplet_test_pairs.append([Anchor,Positive,Negative])    \n",
    "                \n",
    "    return np.array(triplet_train_pairs), np.array(triplet_test_pairs)"
   ]
  },
  {
   "cell_type": "code",
   "execution_count": 40,
   "metadata": {},
   "outputs": [],
   "source": [
    "X_train, X_test = generate_triplet(x_train_flat, y_train, testsize=0.2, ap_pairs=50, an_pairs=50)"
   ]
  },
  {
   "cell_type": "code",
   "execution_count": 41,
   "metadata": {},
   "outputs": [
    {
     "name": "stdout",
     "output_type": "stream",
     "text": [
      "Triplets in train 10000\n",
      "Triplets in test 2500\n"
     ]
    }
   ],
   "source": [
    "print(\"Triplets in train {}\".format(X_train.shape[0]))\n",
    "print(\"Triplets in test {}\".format(X_test.shape[0]))"
   ]
  },
  {
   "cell_type": "markdown",
   "metadata": {},
   "source": [
    "## Triplet NN"
   ]
  },
  {
   "cell_type": "code",
   "execution_count": 42,
   "metadata": {},
   "outputs": [],
   "source": [
    "def triplet_loss(y_true, y_pred, alpha = 0.4):\n",
    "    \"\"\"\n",
    "    Implementation of the triplet loss function\n",
    "    Arguments:\n",
    "    y_true -- true labels, required when you define a loss in Keras, you don't need it in this function.\n",
    "    y_pred -- python list containing three objects:\n",
    "            anchor -- the encodings for the anchor data\n",
    "            positive -- the encodings for the positive data (similar to anchor)\n",
    "            negative -- the encodings for the negative data (different from anchor)\n",
    "    Returns:\n",
    "    loss -- real number, value of the loss\n",
    "    \"\"\"\n",
    "    print('y_pred.shape = ',y_pred)\n",
    "    \n",
    "    total_lenght = y_pred.shape.as_list()[-1]\n",
    "#     print('total_lenght=',  total_lenght)\n",
    "#     total_lenght =12\n",
    "    \n",
    "    anchor = y_pred[:,0:int(total_lenght*1/3)]\n",
    "    positive = y_pred[:,int(total_lenght*1/3):int(total_lenght*2/3)]\n",
    "    negative = y_pred[:,int(total_lenght*2/3):int(total_lenght*3/3)]\n",
    "\n",
    "    # distance between the anchor and the positive\n",
    "    pos_dist = K.sum(K.square(anchor-positive),axis=1)\n",
    "\n",
    "    # distance between the anchor and the negative\n",
    "    neg_dist = K.sum(K.square(anchor-negative),axis=1)\n",
    "\n",
    "    # compute loss\n",
    "    basic_loss = pos_dist-neg_dist+alpha\n",
    "    loss = K.maximum(basic_loss,0.0)\n",
    " \n",
    "    return loss"
   ]
  },
  {
   "cell_type": "code",
   "execution_count": 43,
   "metadata": {},
   "outputs": [],
   "source": [
    "def create_base_network(in_dims):\n",
    "    \"\"\"\n",
    "    Base network to be shared.\n",
    "    \"\"\"\n",
    "    model = Sequential()\n",
    "    #model.add(Conv2D(128,(7,7),padding='same',input_shape=(in_dims[0],in_dims[1],in_dims[2],),activation='relu',name='conv1'))\n",
    "    #model.add(MaxPooling2D((2,2),(2,2),padding='same',name='pool1'))\n",
    "    #model.add(Conv2D(256,(5,5),padding='same',activation='relu',name='conv2'))\n",
    "    #model.add(MaxPooling2D((2,2),(2,2),padding='same',name='pool2'))\n",
    "    #model.add(Flatten(name='flatten'))\n",
    "    #model.add(Dense(150,name='embeddings')) # ojo con los embeddings de esta dimension...\n",
    "    \n",
    "    # 1st Convolutional Layer\n",
    "    model.add(Conv2D(filters=64, input_shape=(in_dims[0],in_dims[1],in_dims[2],), kernel_size=(11,11), strides=(4,4), padding='valid', activation='relu', name='conv1'))\n",
    "    # Pooling \n",
    "    model.add(MaxPooling2D(pool_size=(2,2), strides=(2,2), padding='valid', name='pool1'))\n",
    "\n",
    "    # 2nd Convolutional Layer\n",
    "    model.add(Conv2D(filters=64, kernel_size=(5,5), strides=(1,1), padding='same', activation='relu', name='conv2'))\n",
    "    # Pooling\n",
    "    model.add(MaxPooling2D(pool_size=(3,3), strides=(2,2), padding='valid', name='pool2'))\n",
    "\n",
    "    # 3rd Convolutional Layer\n",
    "    model.add(Conv2D(filters=64, kernel_size=(3,3), strides=(1,1), padding='same', activation='relu', name='conv3'))\n",
    "\n",
    "    # 4th Convolutional Layer\n",
    "    model.add(Conv2D(filters=64, kernel_size=(3,3), strides=(1,1), padding='same', activation='relu', name='conv4'))\n",
    "    # Pooling\n",
    "    model.add(MaxPooling2D(pool_size=(3,3), strides=(2,2), padding='valid', name='pool3'))\n",
    "\n",
    "    # Passing it to a dense layer\n",
    "    model.add(Flatten(name='flatten'))\n",
    "\n",
    "    # Add Dropout to prevent overfitting\n",
    "    #model.add(Dropout(0.5))\n",
    "\n",
    "    # Dense Layer\n",
    "    model.add(Dense(units=128, activation='relu')) # antes con 256\n",
    "    # model.add(Dense(600))\n",
    "    \n",
    "    return model"
   ]
  },
  {
   "cell_type": "code",
   "execution_count": 44,
   "metadata": {},
   "outputs": [
    {
     "name": "stderr",
     "output_type": "stream",
     "text": [
      "/Users/marcosplazagonzalez/miniforge3/lib/python3.9/site-packages/keras/optimizer_v2/optimizer_v2.py:355: UserWarning: The `lr` argument is deprecated, use `learning_rate` instead.\n",
      "  warnings.warn(\n"
     ]
    }
   ],
   "source": [
    "adam_optim = Adam(lr=0.0001, beta_1=0.9, beta_2=0.999)"
   ]
  },
  {
   "cell_type": "code",
   "execution_count": 45,
   "metadata": {},
   "outputs": [],
   "source": [
    "anchor_input = Input((im_size,im_size,channels, ), name='anchor_input')\n",
    "positive_input = Input((im_size,im_size,channels, ), name='positive_input')\n",
    "negative_input = Input((im_size,im_size,channels, ), name='negative_input')\n",
    "\n",
    "# Shared embedding layer for positive and negative items\n",
    "Shared_DNN = create_base_network([im_size,im_size,channels,])\n",
    "\n",
    "\n",
    "encoded_anchor = Shared_DNN(anchor_input)\n",
    "encoded_positive = Shared_DNN(positive_input)\n",
    "encoded_negative = Shared_DNN(negative_input)\n",
    "\n",
    "\n",
    "merged_vector = concatenate([encoded_anchor, encoded_positive, encoded_negative], axis=-1, name='merged_layer')\n",
    "\n",
    "model = Model(inputs=[anchor_input,positive_input, negative_input], outputs=merged_vector)\n",
    "model.compile(loss=triplet_loss, optimizer=adam_optim)"
   ]
  },
  {
   "cell_type": "code",
   "execution_count": 46,
   "metadata": {},
   "outputs": [
    {
     "name": "stdout",
     "output_type": "stream",
     "text": [
      "Model: \"model_1\"\n",
      "__________________________________________________________________________________________________\n",
      "Layer (type)                    Output Shape         Param #     Connected to                     \n",
      "==================================================================================================\n",
      "anchor_input (InputLayer)       [(None, 96, 96, 3)]  0                                            \n",
      "__________________________________________________________________________________________________\n",
      "positive_input (InputLayer)     [(None, 96, 96, 3)]  0                                            \n",
      "__________________________________________________________________________________________________\n",
      "negative_input (InputLayer)     [(None, 96, 96, 3)]  0                                            \n",
      "__________________________________________________________________________________________________\n",
      "sequential_1 (Sequential)       (None, 128)          232512      anchor_input[0][0]               \n",
      "                                                                 positive_input[0][0]             \n",
      "                                                                 negative_input[0][0]             \n",
      "__________________________________________________________________________________________________\n",
      "merged_layer (Concatenate)      (None, 384)          0           sequential_1[0][0]               \n",
      "                                                                 sequential_1[1][0]               \n",
      "                                                                 sequential_1[2][0]               \n",
      "==================================================================================================\n",
      "Total params: 232,512\n",
      "Trainable params: 232,512\n",
      "Non-trainable params: 0\n",
      "__________________________________________________________________________________________________\n"
     ]
    }
   ],
   "source": [
    "model.summary()"
   ]
  },
  {
   "cell_type": "code",
   "execution_count": 47,
   "metadata": {},
   "outputs": [],
   "source": [
    "Anchor = X_train[:,0,:].reshape(-1,im_size,im_size,channels)\n",
    "Positive = X_train[:,1,:].reshape(-1,im_size,im_size,channels)\n",
    "Negative = X_train[:,2,:].reshape(-1,im_size,im_size,channels)\n",
    "Anchor_test = X_test[:,0,:].reshape(-1,im_size,im_size,channels)\n",
    "Positive_test = X_test[:,1,:].reshape(-1,im_size,im_size,channels)\n",
    "Negative_test = X_test[:,2,:].reshape(-1,im_size,im_size,channels)"
   ]
  },
  {
   "cell_type": "code",
   "execution_count": 48,
   "metadata": {},
   "outputs": [],
   "source": [
    "Y_dummy = np.empty((Anchor.shape[0],300))\n",
    "Y_dummy2 = np.empty((Anchor_test.shape[0],1))"
   ]
  },
  {
   "cell_type": "code",
   "execution_count": 49,
   "metadata": {},
   "outputs": [
    {
     "name": "stderr",
     "output_type": "stream",
     "text": [
      "2022-06-30 20:45:48.422495: I tensorflow/compiler/mlir/mlir_graph_optimization_pass.cc:185] None of the MLIR Optimization Passes are enabled (registered 2)\n",
      "2022-06-30 20:45:48.428148: W tensorflow/core/platform/profile_utils/cpu_utils.cc:128] Failed to get CPU frequency: 0 Hz\n"
     ]
    },
    {
     "name": "stdout",
     "output_type": "stream",
     "text": [
      "Epoch 1/50\n",
      "y_pred.shape =  Tensor(\"model_1/merged_layer/concat:0\", shape=(None, 384), dtype=float32)\n",
      "y_pred.shape =  Tensor(\"model_1/merged_layer/concat:0\", shape=(None, 384), dtype=float32)\n"
     ]
    },
    {
     "name": "stderr",
     "output_type": "stream",
     "text": [
      "2022-06-30 20:45:48.757188: I tensorflow/core/grappler/optimizers/custom_graph_optimizer_registry.cc:112] Plugin optimizer for device_type GPU is enabled.\n"
     ]
    },
    {
     "name": "stdout",
     "output_type": "stream",
     "text": [
      "20/20 [==============================] - ETA: 0s - loss: 0.2609y_pred.shape =  Tensor(\"model_1/merged_layer/concat:0\", shape=(None, 384), dtype=float32)\n"
     ]
    },
    {
     "name": "stderr",
     "output_type": "stream",
     "text": [
      "2022-06-30 20:46:01.747306: I tensorflow/core/grappler/optimizers/custom_graph_optimizer_registry.cc:112] Plugin optimizer for device_type GPU is enabled.\n"
     ]
    },
    {
     "name": "stdout",
     "output_type": "stream",
     "text": [
      "20/20 [==============================] - 15s 622ms/step - loss: 0.2609 - val_loss: 0.2543\n",
      "Epoch 2/50\n",
      "20/20 [==============================] - 7s 340ms/step - loss: 0.1772 - val_loss: 0.2001\n",
      "Epoch 3/50\n",
      "20/20 [==============================] - 8s 387ms/step - loss: 0.1236 - val_loss: 0.1824\n",
      "Epoch 4/50\n",
      "20/20 [==============================] - 6s 301ms/step - loss: 0.0828 - val_loss: 0.1852\n",
      "Epoch 5/50\n",
      "20/20 [==============================] - 6s 302ms/step - loss: 0.0549 - val_loss: 0.1778\n",
      "Epoch 6/50\n",
      "20/20 [==============================] - 6s 301ms/step - loss: 0.0369 - val_loss: 0.1796\n",
      "Epoch 7/50\n",
      "20/20 [==============================] - 6s 298ms/step - loss: 0.0244 - val_loss: 0.2000\n",
      "Epoch 8/50\n",
      "20/20 [==============================] - 5s 267ms/step - loss: 0.0166 - val_loss: 0.2090\n",
      "Epoch 9/50\n",
      "20/20 [==============================] - 5s 276ms/step - loss: 0.0104 - val_loss: 0.2051\n",
      "Epoch 10/50\n",
      "20/20 [==============================] - 6s 303ms/step - loss: 0.0065 - val_loss: 0.2002\n",
      "Epoch 11/50\n",
      "20/20 [==============================] - 6s 293ms/step - loss: 0.0041 - val_loss: 0.2055\n",
      "Epoch 12/50\n",
      "20/20 [==============================] - 6s 313ms/step - loss: 0.0030 - val_loss: 0.1853\n",
      "Epoch 13/50\n",
      "20/20 [==============================] - 5s 239ms/step - loss: 0.0019 - val_loss: 0.1687\n",
      "Epoch 14/50\n",
      "20/20 [==============================] - 6s 281ms/step - loss: 0.0014 - val_loss: 0.1619\n",
      "Epoch 15/50\n",
      "20/20 [==============================] - 6s 287ms/step - loss: 0.0016 - val_loss: 0.1660\n",
      "Epoch 16/50\n",
      "20/20 [==============================] - 6s 284ms/step - loss: 0.0016 - val_loss: 0.1853\n",
      "Epoch 17/50\n",
      "20/20 [==============================] - 5s 271ms/step - loss: 0.0011 - val_loss: 0.1775\n",
      "Epoch 18/50\n",
      "20/20 [==============================] - 6s 307ms/step - loss: 4.8872e-04 - val_loss: 0.1960\n",
      "Epoch 19/50\n",
      "20/20 [==============================] - 6s 284ms/step - loss: 2.7480e-04 - val_loss: 0.1838\n",
      "Epoch 20/50\n",
      "20/20 [==============================] - 6s 308ms/step - loss: 3.1967e-04 - val_loss: 0.1651\n",
      "Epoch 21/50\n",
      "20/20 [==============================] - 6s 317ms/step - loss: 2.4083e-04 - val_loss: 0.1868\n",
      "Epoch 22/50\n",
      "20/20 [==============================] - 6s 297ms/step - loss: 1.1329e-04 - val_loss: 0.1835\n",
      "Epoch 23/50\n",
      "20/20 [==============================] - 6s 309ms/step - loss: 1.0615e-04 - val_loss: 0.1664\n",
      "Epoch 24/50\n",
      "20/20 [==============================] - 6s 326ms/step - loss: 8.2816e-05 - val_loss: 0.1736\n",
      "Epoch 25/50\n",
      "20/20 [==============================] - 5s 272ms/step - loss: 6.9303e-05 - val_loss: 0.2162\n",
      "Epoch 26/50\n",
      "20/20 [==============================] - 5s 267ms/step - loss: 1.3028e-04 - val_loss: 0.2064\n",
      "Epoch 27/50\n",
      "20/20 [==============================] - 5s 268ms/step - loss: 2.2715e-04 - val_loss: 0.2275\n",
      "Epoch 28/50\n",
      "20/20 [==============================] - 5s 262ms/step - loss: 2.4074e-04 - val_loss: 0.1857\n",
      "Epoch 29/50\n",
      "20/20 [==============================] - 5s 268ms/step - loss: 1.0145e-04 - val_loss: 0.2188\n",
      "Epoch 30/50\n",
      "20/20 [==============================] - 6s 278ms/step - loss: 5.4645e-05 - val_loss: 0.1841\n",
      "Epoch 31/50\n",
      "20/20 [==============================] - 5s 270ms/step - loss: 7.9500e-05 - val_loss: 0.2157\n",
      "Epoch 32/50\n",
      "20/20 [==============================] - 5s 265ms/step - loss: 1.1889e-04 - val_loss: 0.2464\n",
      "Epoch 33/50\n",
      "20/20 [==============================] - 6s 324ms/step - loss: 1.4087e-04 - val_loss: 0.2217\n",
      "Epoch 34/50\n",
      "20/20 [==============================] - 5s 257ms/step - loss: 8.0616e-05 - val_loss: 0.2599\n",
      "Epoch 35/50\n",
      "20/20 [==============================] - 5s 254ms/step - loss: 5.7765e-05 - val_loss: 0.2284\n",
      "Epoch 36/50\n",
      "20/20 [==============================] - 5s 276ms/step - loss: 8.2192e-05 - val_loss: 0.1870\n",
      "Epoch 37/50\n",
      "20/20 [==============================] - 5s 268ms/step - loss: 8.2570e-05 - val_loss: 0.2386\n",
      "Epoch 38/50\n",
      "20/20 [==============================] - 5s 262ms/step - loss: 2.0335e-04 - val_loss: 0.1854\n",
      "Epoch 39/50\n",
      "20/20 [==============================] - 5s 275ms/step - loss: 2.6547e-04 - val_loss: 0.2281\n",
      "Epoch 40/50\n",
      "20/20 [==============================] - 5s 269ms/step - loss: 5.1068e-05 - val_loss: 0.2422\n",
      "Epoch 41/50\n",
      "20/20 [==============================] - 5s 263ms/step - loss: 9.3286e-05 - val_loss: 0.2062\n",
      "Epoch 42/50\n",
      "20/20 [==============================] - 5s 258ms/step - loss: 4.0000e-05 - val_loss: 0.2084\n",
      "Epoch 43/50\n",
      "20/20 [==============================] - 6s 286ms/step - loss: 5.6295e-05 - val_loss: 0.2337\n",
      "Epoch 44/50\n",
      "20/20 [==============================] - 5s 269ms/step - loss: 4.9762e-05 - val_loss: 0.2180\n",
      "Epoch 45/50\n",
      "20/20 [==============================] - 5s 268ms/step - loss: 7.9018e-05 - val_loss: 0.2129\n",
      "Epoch 46/50\n",
      "20/20 [==============================] - 5s 274ms/step - loss: 5.6597e-05 - val_loss: 0.2704\n",
      "Epoch 47/50\n",
      "20/20 [==============================] - 5s 256ms/step - loss: 1.0063e-04 - val_loss: 0.2059\n",
      "Epoch 48/50\n",
      "20/20 [==============================] - 5s 243ms/step - loss: 4.8507e-05 - val_loss: 0.2169\n",
      "Epoch 49/50\n",
      "20/20 [==============================] - 5s 267ms/step - loss: 6.3235e-05 - val_loss: 0.2128\n",
      "Epoch 50/50\n",
      "20/20 [==============================] - 4s 224ms/step - loss: 5.3339e-05 - val_loss: 0.2467\n"
     ]
    },
    {
     "data": {
      "text/plain": [
       "<keras.callbacks.History at 0x4bed807f0>"
      ]
     },
     "execution_count": 49,
     "metadata": {},
     "output_type": "execute_result"
    }
   ],
   "source": [
    "model.fit([Anchor,Positive,Negative],y=Y_dummy,validation_data=([Anchor_test,Positive_test,Negative_test],Y_dummy2), batch_size=512, epochs=50)"
   ]
  },
  {
   "cell_type": "code",
   "execution_count": 50,
   "metadata": {},
   "outputs": [],
   "source": [
    "trained_model = Model(inputs=anchor_input, outputs=encoded_anchor)"
   ]
  },
  {
   "cell_type": "code",
   "execution_count": 51,
   "metadata": {},
   "outputs": [
    {
     "name": "stdout",
     "output_type": "stream",
     "text": [
      "Saved model to disk\n"
     ]
    }
   ],
   "source": [
    "#trained_model.save_weights(\"./Models/test18_ccsn_triplet_model.h5\")\n",
    "trained_model.save_weights(\"./Models/test20_triplet_fabraclouds.h5\")\n",
    "print(\"Saved model to disk\")"
   ]
  },
  {
   "cell_type": "code",
   "execution_count": 52,
   "metadata": {},
   "outputs": [
    {
     "name": "stderr",
     "output_type": "stream",
     "text": [
      "2022-06-30 20:50:38.546391: I tensorflow/core/grappler/optimizers/custom_graph_optimizer_registry.cc:112] Plugin optimizer for device_type GPU is enabled.\n",
      "/Users/marcosplazagonzalez/miniforge3/lib/python3.9/site-packages/sklearn/manifold/_t_sne.py:795: FutureWarning: The default initialization in TSNE will change from 'random' to 'pca' in 1.2.\n",
      "  warnings.warn(\n",
      "/Users/marcosplazagonzalez/miniforge3/lib/python3.9/site-packages/sklearn/manifold/_t_sne.py:805: FutureWarning: The default learning rate in TSNE will change from 200.0 to 'auto' in 1.2.\n",
      "  warnings.warn(\n",
      "/Users/marcosplazagonzalez/miniforge3/lib/python3.9/site-packages/sklearn/manifold/_t_sne.py:795: FutureWarning: The default initialization in TSNE will change from 'random' to 'pca' in 1.2.\n",
      "  warnings.warn(\n",
      "/Users/marcosplazagonzalez/miniforge3/lib/python3.9/site-packages/sklearn/manifold/_t_sne.py:805: FutureWarning: The default learning rate in TSNE will change from 200.0 to 'auto' in 1.2.\n",
      "  warnings.warn(\n"
     ]
    }
   ],
   "source": [
    "tsne = TSNE()\n",
    "X_train_trm = trained_model.predict(x_train[:512].reshape(-1,im_size,im_size,channels))\n",
    "X_test_trm = trained_model.predict(x_test[:512].reshape(-1,im_size,im_size,channels))\n",
    "train_tsne_embeds = tsne.fit_transform(X_train_trm)\n",
    "eval_tsne_embeds = tsne.fit_transform(X_test_trm)"
   ]
  },
  {
   "cell_type": "code",
   "execution_count": 53,
   "metadata": {},
   "outputs": [
    {
     "data": {
      "image/png": "[encoded data removed]",
      "text/plain": [
       "<Figure size 576x576 with 1 Axes>"
      ]
     },
     "metadata": {
      "needs_background": "light"
     },
     "output_type": "display_data"
    }
   ],
   "source": [
    "scatter(train_tsne_embeds, y_train[:512], n_classes, \"Training Data After TNN on FabraClouds dataset\")"
   ]
  },
  {
   "cell_type": "code",
   "execution_count": 54,
   "metadata": {},
   "outputs": [
    {
     "data": {
      "image/png": "[encoded data removed]",
      "text/plain": [
       "<Figure size 576x576 with 1 Axes>"
      ]
     },
     "metadata": {
      "needs_background": "light"
     },
     "output_type": "display_data"
    }
   ],
   "source": [
    "scatter(eval_tsne_embeds, y_test[:512], n_classes, \"Validation Data After TNN on FabraClouds dataset\")"
   ]
  },
  {
   "cell_type": "markdown",
   "metadata": {},
   "source": [
    "### Training a classifier once we have the embeddings"
   ]
  },
  {
   "cell_type": "code",
   "execution_count": 57,
   "metadata": {},
   "outputs": [
    {
     "name": "stdout",
     "output_type": "stream",
     "text": [
      "Epoch 1/500\n",
      " 1/15 [=>............................] - ETA: 3s - loss: 1.7556 - accuracy: 0.2188"
     ]
    },
    {
     "name": "stderr",
     "output_type": "stream",
     "text": [
      "2022-06-30 20:52:42.836164: I tensorflow/core/grappler/optimizers/custom_graph_optimizer_registry.cc:112] Plugin optimizer for device_type GPU is enabled.\n"
     ]
    },
    {
     "name": "stdout",
     "output_type": "stream",
     "text": [
      "15/15 [==============================] - 0s 17ms/step - loss: 1.7189 - accuracy: 0.1097 - val_loss: 1.6254 - val_accuracy: 0.0980\n",
      "Epoch 2/500\n",
      "15/15 [==============================] - 0s 8ms/step - loss: 1.6002 - accuracy: 0.1582 - val_loss: 1.5524 - val_accuracy: 0.2451\n",
      "Epoch 3/500\n",
      " 1/15 [=>............................] - ETA: 0s - loss: 1.5594 - accuracy: 0.0938"
     ]
    },
    {
     "name": "stderr",
     "output_type": "stream",
     "text": [
      "2022-06-30 20:52:43.168852: I tensorflow/core/grappler/optimizers/custom_graph_optimizer_registry.cc:112] Plugin optimizer for device_type GPU is enabled.\n"
     ]
    },
    {
     "name": "stdout",
     "output_type": "stream",
     "text": [
      "15/15 [==============================] - 0s 9ms/step - loss: 1.5324 - accuracy: 0.2236 - val_loss: 1.5003 - val_accuracy: 0.2941\n",
      "Epoch 4/500\n",
      "15/15 [==============================] - 0s 8ms/step - loss: 1.4750 - accuracy: 0.4409 - val_loss: 1.4561 - val_accuracy: 0.5196\n",
      "Epoch 5/500\n",
      "15/15 [==============================] - 0s 8ms/step - loss: 1.4267 - accuracy: 0.6055 - val_loss: 1.4146 - val_accuracy: 0.5784\n",
      "Epoch 6/500\n",
      "15/15 [==============================] - 0s 9ms/step - loss: 1.3804 - accuracy: 0.6730 - val_loss: 1.3815 - val_accuracy: 0.6029\n",
      "Epoch 7/500\n",
      "15/15 [==============================] - 0s 9ms/step - loss: 1.3366 - accuracy: 0.6857 - val_loss: 1.3406 - val_accuracy: 0.6324\n",
      "Epoch 8/500\n",
      "15/15 [==============================] - 0s 9ms/step - loss: 1.2941 - accuracy: 0.7089 - val_loss: 1.3086 - val_accuracy: 0.6275\n",
      "Epoch 9/500\n",
      "15/15 [==============================] - 0s 9ms/step - loss: 1.2542 - accuracy: 0.7278 - val_loss: 1.2764 - val_accuracy: 0.6569\n",
      "Epoch 10/500\n",
      "15/15 [==============================] - 0s 8ms/step - loss: 1.2165 - accuracy: 0.7321 - val_loss: 1.2427 - val_accuracy: 0.6618\n",
      "Epoch 11/500\n",
      "15/15 [==============================] - 0s 9ms/step - loss: 1.1804 - accuracy: 0.7426 - val_loss: 1.2131 - val_accuracy: 0.6569\n",
      "Epoch 12/500\n",
      "15/15 [==============================] - 0s 10ms/step - loss: 1.1464 - accuracy: 0.7426 - val_loss: 1.1877 - val_accuracy: 0.6618\n",
      "Epoch 13/500\n",
      "15/15 [==============================] - 0s 9ms/step - loss: 1.1143 - accuracy: 0.7511 - val_loss: 1.1609 - val_accuracy: 0.6716\n",
      "Epoch 14/500\n",
      "15/15 [==============================] - 0s 8ms/step - loss: 1.0839 - accuracy: 0.7553 - val_loss: 1.1391 - val_accuracy: 0.6716\n",
      "Epoch 15/500\n",
      "15/15 [==============================] - 0s 9ms/step - loss: 1.0549 - accuracy: 0.7595 - val_loss: 1.1137 - val_accuracy: 0.6912\n",
      "Epoch 16/500\n",
      "15/15 [==============================] - 0s 9ms/step - loss: 1.0283 - accuracy: 0.7658 - val_loss: 1.0960 - val_accuracy: 0.6863\n",
      "Epoch 17/500\n",
      "15/15 [==============================] - 0s 9ms/step - loss: 1.0014 - accuracy: 0.7700 - val_loss: 1.0716 - val_accuracy: 0.7059\n",
      "Epoch 18/500\n",
      "15/15 [==============================] - 0s 8ms/step - loss: 0.9771 - accuracy: 0.7806 - val_loss: 1.0536 - val_accuracy: 0.6961\n",
      "Epoch 19/500\n",
      "15/15 [==============================] - 0s 9ms/step - loss: 0.9531 - accuracy: 0.7869 - val_loss: 1.0336 - val_accuracy: 0.7157\n",
      "Epoch 20/500\n",
      "15/15 [==============================] - 0s 9ms/step - loss: 0.9313 - accuracy: 0.7890 - val_loss: 1.0183 - val_accuracy: 0.7059\n",
      "Epoch 21/500\n",
      "15/15 [==============================] - 0s 10ms/step - loss: 0.9103 - accuracy: 0.8101 - val_loss: 1.0030 - val_accuracy: 0.7059\n",
      "Epoch 22/500\n",
      "15/15 [==============================] - 0s 9ms/step - loss: 0.8897 - accuracy: 0.8207 - val_loss: 0.9872 - val_accuracy: 0.7108\n",
      "Epoch 23/500\n",
      "15/15 [==============================] - 0s 9ms/step - loss: 0.8711 - accuracy: 0.8207 - val_loss: 0.9735 - val_accuracy: 0.7059\n",
      "Epoch 24/500\n",
      "15/15 [==============================] - 0s 9ms/step - loss: 0.8523 - accuracy: 0.8207 - val_loss: 0.9575 - val_accuracy: 0.7304\n",
      "Epoch 25/500\n",
      "15/15 [==============================] - 0s 8ms/step - loss: 0.8352 - accuracy: 0.8270 - val_loss: 0.9447 - val_accuracy: 0.7255\n",
      "Epoch 26/500\n",
      "15/15 [==============================] - 0s 9ms/step - loss: 0.8185 - accuracy: 0.8249 - val_loss: 0.9348 - val_accuracy: 0.7206\n",
      "Epoch 27/500\n",
      "15/15 [==============================] - 0s 9ms/step - loss: 0.8033 - accuracy: 0.8270 - val_loss: 0.9232 - val_accuracy: 0.7108\n",
      "Epoch 28/500\n",
      "15/15 [==============================] - 0s 10ms/step - loss: 0.7884 - accuracy: 0.8312 - val_loss: 0.9133 - val_accuracy: 0.7157\n",
      "Epoch 29/500\n",
      "15/15 [==============================] - 0s 9ms/step - loss: 0.7740 - accuracy: 0.8249 - val_loss: 0.9009 - val_accuracy: 0.7304\n",
      "Epoch 30/500\n",
      "15/15 [==============================] - 0s 9ms/step - loss: 0.7607 - accuracy: 0.8354 - val_loss: 0.8906 - val_accuracy: 0.7255\n",
      "Epoch 31/500\n",
      "15/15 [==============================] - 0s 9ms/step - loss: 0.7475 - accuracy: 0.8312 - val_loss: 0.8809 - val_accuracy: 0.7304\n",
      "Epoch 32/500\n",
      "15/15 [==============================] - 0s 9ms/step - loss: 0.7350 - accuracy: 0.8333 - val_loss: 0.8734 - val_accuracy: 0.7353\n",
      "Epoch 33/500\n",
      "15/15 [==============================] - 0s 9ms/step - loss: 0.7237 - accuracy: 0.8333 - val_loss: 0.8668 - val_accuracy: 0.7255\n",
      "Epoch 34/500\n",
      "15/15 [==============================] - 0s 9ms/step - loss: 0.7123 - accuracy: 0.8354 - val_loss: 0.8571 - val_accuracy: 0.7353\n",
      "Epoch 35/500\n",
      "15/15 [==============================] - 0s 9ms/step - loss: 0.7011 - accuracy: 0.8376 - val_loss: 0.8494 - val_accuracy: 0.7304\n",
      "Epoch 36/500\n",
      "15/15 [==============================] - 0s 9ms/step - loss: 0.6914 - accuracy: 0.8397 - val_loss: 0.8417 - val_accuracy: 0.7402\n",
      "Epoch 37/500\n",
      "15/15 [==============================] - 0s 9ms/step - loss: 0.6812 - accuracy: 0.8418 - val_loss: 0.8356 - val_accuracy: 0.7402\n",
      "Epoch 38/500\n",
      "15/15 [==============================] - 0s 9ms/step - loss: 0.6717 - accuracy: 0.8397 - val_loss: 0.8311 - val_accuracy: 0.7304\n",
      "Epoch 39/500\n",
      "15/15 [==============================] - 0s 9ms/step - loss: 0.6628 - accuracy: 0.8397 - val_loss: 0.8248 - val_accuracy: 0.7304\n",
      "Epoch 40/500\n",
      "15/15 [==============================] - 0s 9ms/step - loss: 0.6545 - accuracy: 0.8439 - val_loss: 0.8189 - val_accuracy: 0.7304\n",
      "Epoch 41/500\n",
      "15/15 [==============================] - 0s 9ms/step - loss: 0.6458 - accuracy: 0.8481 - val_loss: 0.8105 - val_accuracy: 0.7402\n",
      "Epoch 42/500\n",
      "15/15 [==============================] - 0s 10ms/step - loss: 0.6379 - accuracy: 0.8502 - val_loss: 0.8049 - val_accuracy: 0.7451\n",
      "Epoch 43/500\n",
      "15/15 [==============================] - 0s 9ms/step - loss: 0.6305 - accuracy: 0.8502 - val_loss: 0.7998 - val_accuracy: 0.7451\n",
      "Epoch 44/500\n",
      "15/15 [==============================] - 0s 9ms/step - loss: 0.6229 - accuracy: 0.8460 - val_loss: 0.7979 - val_accuracy: 0.7353\n",
      "Epoch 45/500\n",
      "15/15 [==============================] - 0s 9ms/step - loss: 0.6158 - accuracy: 0.8460 - val_loss: 0.7927 - val_accuracy: 0.7451\n",
      "Epoch 46/500\n",
      "15/15 [==============================] - 0s 9ms/step - loss: 0.6094 - accuracy: 0.8523 - val_loss: 0.7890 - val_accuracy: 0.7402\n",
      "Epoch 47/500\n",
      "15/15 [==============================] - 0s 9ms/step - loss: 0.6024 - accuracy: 0.8565 - val_loss: 0.7820 - val_accuracy: 0.7451\n",
      "Epoch 48/500\n",
      "15/15 [==============================] - 0s 9ms/step - loss: 0.5970 - accuracy: 0.8608 - val_loss: 0.7772 - val_accuracy: 0.7500\n",
      "Epoch 49/500\n",
      "15/15 [==============================] - 0s 9ms/step - loss: 0.5897 - accuracy: 0.8523 - val_loss: 0.7770 - val_accuracy: 0.7500\n",
      "Epoch 50/500\n",
      "15/15 [==============================] - 0s 9ms/step - loss: 0.5844 - accuracy: 0.8523 - val_loss: 0.7743 - val_accuracy: 0.7451\n",
      "Epoch 51/500\n",
      "15/15 [==============================] - 0s 10ms/step - loss: 0.5788 - accuracy: 0.8565 - val_loss: 0.7698 - val_accuracy: 0.7500\n",
      "Epoch 52/500\n",
      "15/15 [==============================] - 0s 9ms/step - loss: 0.5735 - accuracy: 0.8629 - val_loss: 0.7634 - val_accuracy: 0.7500\n",
      "Epoch 53/500\n",
      "15/15 [==============================] - 0s 9ms/step - loss: 0.5679 - accuracy: 0.8565 - val_loss: 0.7616 - val_accuracy: 0.7402\n",
      "Epoch 54/500\n",
      "15/15 [==============================] - 0s 9ms/step - loss: 0.5624 - accuracy: 0.8586 - val_loss: 0.7588 - val_accuracy: 0.7402\n",
      "Epoch 55/500\n",
      "15/15 [==============================] - 0s 9ms/step - loss: 0.5576 - accuracy: 0.8608 - val_loss: 0.7555 - val_accuracy: 0.7402\n",
      "Epoch 56/500\n",
      "15/15 [==============================] - 0s 9ms/step - loss: 0.5529 - accuracy: 0.8608 - val_loss: 0.7525 - val_accuracy: 0.7402\n",
      "Epoch 57/500\n",
      "15/15 [==============================] - 0s 9ms/step - loss: 0.5480 - accuracy: 0.8586 - val_loss: 0.7512 - val_accuracy: 0.7451\n",
      "Epoch 58/500\n",
      "15/15 [==============================] - 0s 9ms/step - loss: 0.5444 - accuracy: 0.8565 - val_loss: 0.7499 - val_accuracy: 0.7402\n",
      "Epoch 59/500\n",
      "15/15 [==============================] - 0s 9ms/step - loss: 0.5406 - accuracy: 0.8608 - val_loss: 0.7433 - val_accuracy: 0.7598\n",
      "Epoch 60/500\n",
      "15/15 [==============================] - 0s 9ms/step - loss: 0.5358 - accuracy: 0.8586 - val_loss: 0.7437 - val_accuracy: 0.7451\n"
     ]
    },
    {
     "name": "stdout",
     "output_type": "stream",
     "text": [
      "Epoch 61/500\n",
      "15/15 [==============================] - 0s 9ms/step - loss: 0.5315 - accuracy: 0.8608 - val_loss: 0.7412 - val_accuracy: 0.7402\n",
      "Epoch 62/500\n",
      "15/15 [==============================] - 0s 9ms/step - loss: 0.5273 - accuracy: 0.8608 - val_loss: 0.7379 - val_accuracy: 0.7402\n",
      "Epoch 63/500\n",
      "15/15 [==============================] - 0s 9ms/step - loss: 0.5239 - accuracy: 0.8608 - val_loss: 0.7364 - val_accuracy: 0.7451\n",
      "Epoch 64/500\n",
      "15/15 [==============================] - 0s 9ms/step - loss: 0.5202 - accuracy: 0.8586 - val_loss: 0.7340 - val_accuracy: 0.7402\n",
      "Epoch 65/500\n",
      "15/15 [==============================] - 0s 9ms/step - loss: 0.5162 - accuracy: 0.8586 - val_loss: 0.7322 - val_accuracy: 0.7402\n",
      "Epoch 66/500\n",
      "15/15 [==============================] - 0s 8ms/step - loss: 0.5129 - accuracy: 0.8608 - val_loss: 0.7303 - val_accuracy: 0.7402\n",
      "Epoch 67/500\n",
      "15/15 [==============================] - 0s 8ms/step - loss: 0.5093 - accuracy: 0.8608 - val_loss: 0.7287 - val_accuracy: 0.7402\n",
      "Epoch 68/500\n",
      "15/15 [==============================] - 0s 8ms/step - loss: 0.5067 - accuracy: 0.8608 - val_loss: 0.7278 - val_accuracy: 0.7402\n",
      "Epoch 69/500\n",
      "15/15 [==============================] - 0s 8ms/step - loss: 0.5029 - accuracy: 0.8650 - val_loss: 0.7247 - val_accuracy: 0.7353\n",
      "Epoch 70/500\n",
      "15/15 [==============================] - 0s 8ms/step - loss: 0.4997 - accuracy: 0.8608 - val_loss: 0.7240 - val_accuracy: 0.7353\n",
      "Epoch 71/500\n",
      "15/15 [==============================] - 0s 8ms/step - loss: 0.4969 - accuracy: 0.8608 - val_loss: 0.7217 - val_accuracy: 0.7304\n",
      "Epoch 72/500\n",
      "15/15 [==============================] - 0s 9ms/step - loss: 0.4941 - accuracy: 0.8608 - val_loss: 0.7206 - val_accuracy: 0.7304\n",
      "Epoch 73/500\n",
      "15/15 [==============================] - 0s 8ms/step - loss: 0.4917 - accuracy: 0.8671 - val_loss: 0.7219 - val_accuracy: 0.7353\n",
      "Epoch 74/500\n",
      "15/15 [==============================] - 0s 8ms/step - loss: 0.4884 - accuracy: 0.8650 - val_loss: 0.7185 - val_accuracy: 0.7304\n",
      "Epoch 75/500\n",
      "15/15 [==============================] - 0s 9ms/step - loss: 0.4862 - accuracy: 0.8650 - val_loss: 0.7154 - val_accuracy: 0.7402\n",
      "Epoch 76/500\n",
      "15/15 [==============================] - 0s 9ms/step - loss: 0.4833 - accuracy: 0.8650 - val_loss: 0.7156 - val_accuracy: 0.7304\n",
      "Epoch 77/500\n",
      "15/15 [==============================] - 0s 9ms/step - loss: 0.4803 - accuracy: 0.8608 - val_loss: 0.7135 - val_accuracy: 0.7304\n",
      "Epoch 78/500\n",
      "15/15 [==============================] - 0s 9ms/step - loss: 0.4776 - accuracy: 0.8650 - val_loss: 0.7121 - val_accuracy: 0.7304\n",
      "Epoch 79/500\n",
      "15/15 [==============================] - 0s 9ms/step - loss: 0.4755 - accuracy: 0.8671 - val_loss: 0.7116 - val_accuracy: 0.7353\n",
      "Epoch 80/500\n",
      "15/15 [==============================] - 0s 9ms/step - loss: 0.4737 - accuracy: 0.8608 - val_loss: 0.7106 - val_accuracy: 0.7304\n",
      "Epoch 81/500\n",
      "15/15 [==============================] - 0s 8ms/step - loss: 0.4704 - accuracy: 0.8608 - val_loss: 0.7096 - val_accuracy: 0.7304\n",
      "Epoch 82/500\n",
      "15/15 [==============================] - 0s 9ms/step - loss: 0.4689 - accuracy: 0.8650 - val_loss: 0.7087 - val_accuracy: 0.7304\n",
      "Epoch 83/500\n",
      "15/15 [==============================] - 0s 9ms/step - loss: 0.4661 - accuracy: 0.8671 - val_loss: 0.7068 - val_accuracy: 0.7353\n",
      "Epoch 84/500\n",
      "15/15 [==============================] - 0s 9ms/step - loss: 0.4639 - accuracy: 0.8692 - val_loss: 0.7055 - val_accuracy: 0.7451\n",
      "Epoch 85/500\n",
      "15/15 [==============================] - 0s 9ms/step - loss: 0.4616 - accuracy: 0.8671 - val_loss: 0.7051 - val_accuracy: 0.7353\n",
      "Epoch 86/500\n",
      "15/15 [==============================] - 0s 8ms/step - loss: 0.4600 - accuracy: 0.8629 - val_loss: 0.7044 - val_accuracy: 0.7402\n",
      "Epoch 87/500\n",
      "15/15 [==============================] - 0s 9ms/step - loss: 0.4580 - accuracy: 0.8671 - val_loss: 0.7038 - val_accuracy: 0.7402\n",
      "Epoch 88/500\n",
      "15/15 [==============================] - 0s 9ms/step - loss: 0.4556 - accuracy: 0.8692 - val_loss: 0.7032 - val_accuracy: 0.7402\n",
      "Epoch 89/500\n",
      "15/15 [==============================] - 0s 9ms/step - loss: 0.4539 - accuracy: 0.8671 - val_loss: 0.7028 - val_accuracy: 0.7402\n",
      "Epoch 90/500\n",
      "15/15 [==============================] - 0s 9ms/step - loss: 0.4517 - accuracy: 0.8692 - val_loss: 0.7003 - val_accuracy: 0.7451\n",
      "Epoch 91/500\n",
      "15/15 [==============================] - 0s 8ms/step - loss: 0.4500 - accuracy: 0.8713 - val_loss: 0.6998 - val_accuracy: 0.7451\n",
      "Epoch 92/500\n",
      "15/15 [==============================] - 0s 9ms/step - loss: 0.4482 - accuracy: 0.8692 - val_loss: 0.6992 - val_accuracy: 0.7451\n",
      "Epoch 93/500\n",
      "15/15 [==============================] - 0s 10ms/step - loss: 0.4467 - accuracy: 0.8671 - val_loss: 0.6998 - val_accuracy: 0.7451\n",
      "Epoch 94/500\n",
      "15/15 [==============================] - 0s 9ms/step - loss: 0.4449 - accuracy: 0.8692 - val_loss: 0.6989 - val_accuracy: 0.7402\n",
      "Epoch 95/500\n",
      "15/15 [==============================] - 0s 8ms/step - loss: 0.4428 - accuracy: 0.8713 - val_loss: 0.6981 - val_accuracy: 0.7353\n",
      "Epoch 96/500\n",
      "15/15 [==============================] - 0s 8ms/step - loss: 0.4415 - accuracy: 0.8671 - val_loss: 0.6963 - val_accuracy: 0.7402\n",
      "Epoch 97/500\n",
      "15/15 [==============================] - 0s 8ms/step - loss: 0.4398 - accuracy: 0.8713 - val_loss: 0.6982 - val_accuracy: 0.7402\n",
      "Epoch 98/500\n",
      "15/15 [==============================] - 0s 8ms/step - loss: 0.4386 - accuracy: 0.8734 - val_loss: 0.6951 - val_accuracy: 0.7451\n",
      "Epoch 99/500\n",
      "15/15 [==============================] - 0s 9ms/step - loss: 0.4362 - accuracy: 0.8713 - val_loss: 0.6957 - val_accuracy: 0.7402\n",
      "Epoch 100/500\n",
      "15/15 [==============================] - 0s 9ms/step - loss: 0.4347 - accuracy: 0.8713 - val_loss: 0.6956 - val_accuracy: 0.7353\n",
      "Epoch 101/500\n",
      "15/15 [==============================] - 0s 8ms/step - loss: 0.4334 - accuracy: 0.8713 - val_loss: 0.6933 - val_accuracy: 0.7402\n",
      "Epoch 102/500\n",
      "15/15 [==============================] - 0s 8ms/step - loss: 0.4320 - accuracy: 0.8692 - val_loss: 0.6932 - val_accuracy: 0.7402\n",
      "Epoch 103/500\n",
      "15/15 [==============================] - 0s 8ms/step - loss: 0.4305 - accuracy: 0.8755 - val_loss: 0.6929 - val_accuracy: 0.7500\n",
      "Epoch 104/500\n",
      "15/15 [==============================] - 0s 9ms/step - loss: 0.4288 - accuracy: 0.8734 - val_loss: 0.6933 - val_accuracy: 0.7353\n",
      "Epoch 105/500\n",
      "15/15 [==============================] - 0s 9ms/step - loss: 0.4275 - accuracy: 0.8755 - val_loss: 0.6930 - val_accuracy: 0.7353\n",
      "Epoch 106/500\n",
      "15/15 [==============================] - 0s 9ms/step - loss: 0.4261 - accuracy: 0.8713 - val_loss: 0.6904 - val_accuracy: 0.7549\n",
      "Epoch 107/500\n",
      "15/15 [==============================] - 0s 9ms/step - loss: 0.4246 - accuracy: 0.8734 - val_loss: 0.6903 - val_accuracy: 0.7500\n",
      "Epoch 108/500\n",
      "15/15 [==============================] - 0s 9ms/step - loss: 0.4238 - accuracy: 0.8734 - val_loss: 0.6923 - val_accuracy: 0.7353\n",
      "Epoch 109/500\n",
      "15/15 [==============================] - 0s 8ms/step - loss: 0.4220 - accuracy: 0.8755 - val_loss: 0.6897 - val_accuracy: 0.7451\n",
      "Epoch 110/500\n",
      "15/15 [==============================] - 0s 9ms/step - loss: 0.4206 - accuracy: 0.8734 - val_loss: 0.6892 - val_accuracy: 0.7402\n",
      "Epoch 111/500\n",
      "15/15 [==============================] - 0s 9ms/step - loss: 0.4196 - accuracy: 0.8734 - val_loss: 0.6888 - val_accuracy: 0.7451\n",
      "Epoch 112/500\n",
      "15/15 [==============================] - 0s 9ms/step - loss: 0.4181 - accuracy: 0.8734 - val_loss: 0.6887 - val_accuracy: 0.7451\n",
      "Epoch 113/500\n",
      "15/15 [==============================] - 0s 8ms/step - loss: 0.4181 - accuracy: 0.8734 - val_loss: 0.6892 - val_accuracy: 0.7304\n",
      "Epoch 114/500\n",
      "15/15 [==============================] - 0s 9ms/step - loss: 0.4156 - accuracy: 0.8734 - val_loss: 0.6886 - val_accuracy: 0.7304\n",
      "Epoch 115/500\n",
      "15/15 [==============================] - 0s 9ms/step - loss: 0.4148 - accuracy: 0.8734 - val_loss: 0.6866 - val_accuracy: 0.7500\n",
      "Epoch 116/500\n",
      "15/15 [==============================] - 0s 8ms/step - loss: 0.4134 - accuracy: 0.8734 - val_loss: 0.6876 - val_accuracy: 0.7304\n",
      "Epoch 117/500\n",
      "15/15 [==============================] - 0s 9ms/step - loss: 0.4123 - accuracy: 0.8734 - val_loss: 0.6864 - val_accuracy: 0.7353\n",
      "Epoch 118/500\n"
     ]
    },
    {
     "name": "stdout",
     "output_type": "stream",
     "text": [
      "15/15 [==============================] - 0s 9ms/step - loss: 0.4108 - accuracy: 0.8734 - val_loss: 0.6866 - val_accuracy: 0.7402\n",
      "Epoch 119/500\n",
      "15/15 [==============================] - 0s 9ms/step - loss: 0.4108 - accuracy: 0.8776 - val_loss: 0.6879 - val_accuracy: 0.7353\n",
      "Epoch 120/500\n",
      "15/15 [==============================] - 0s 8ms/step - loss: 0.4087 - accuracy: 0.8755 - val_loss: 0.6848 - val_accuracy: 0.7500\n",
      "Epoch 121/500\n",
      "15/15 [==============================] - 0s 9ms/step - loss: 0.4079 - accuracy: 0.8734 - val_loss: 0.6841 - val_accuracy: 0.7549\n",
      "Epoch 122/500\n",
      "15/15 [==============================] - 0s 10ms/step - loss: 0.4068 - accuracy: 0.8734 - val_loss: 0.6855 - val_accuracy: 0.7500\n",
      "Epoch 123/500\n",
      "15/15 [==============================] - 0s 10ms/step - loss: 0.4061 - accuracy: 0.8734 - val_loss: 0.6845 - val_accuracy: 0.7353\n",
      "Epoch 124/500\n",
      "15/15 [==============================] - 0s 9ms/step - loss: 0.4048 - accuracy: 0.8755 - val_loss: 0.6857 - val_accuracy: 0.7304\n",
      "Epoch 125/500\n",
      "15/15 [==============================] - 0s 10ms/step - loss: 0.4038 - accuracy: 0.8734 - val_loss: 0.6843 - val_accuracy: 0.7402\n",
      "Epoch 126/500\n",
      "15/15 [==============================] - 0s 10ms/step - loss: 0.4025 - accuracy: 0.8734 - val_loss: 0.6841 - val_accuracy: 0.7353\n",
      "Epoch 127/500\n",
      "15/15 [==============================] - 0s 10ms/step - loss: 0.4015 - accuracy: 0.8734 - val_loss: 0.6836 - val_accuracy: 0.7402\n",
      "Epoch 128/500\n",
      "15/15 [==============================] - 0s 9ms/step - loss: 0.4007 - accuracy: 0.8734 - val_loss: 0.6841 - val_accuracy: 0.7353\n",
      "Epoch 129/500\n",
      "15/15 [==============================] - 0s 9ms/step - loss: 0.3996 - accuracy: 0.8734 - val_loss: 0.6830 - val_accuracy: 0.7402\n",
      "Epoch 130/500\n",
      "15/15 [==============================] - 0s 9ms/step - loss: 0.3986 - accuracy: 0.8734 - val_loss: 0.6823 - val_accuracy: 0.7402\n",
      "Epoch 131/500\n",
      "15/15 [==============================] - 0s 8ms/step - loss: 0.3978 - accuracy: 0.8755 - val_loss: 0.6835 - val_accuracy: 0.7304\n",
      "Epoch 132/500\n",
      "15/15 [==============================] - 0s 8ms/step - loss: 0.3970 - accuracy: 0.8755 - val_loss: 0.6827 - val_accuracy: 0.7353\n",
      "Epoch 133/500\n",
      "15/15 [==============================] - 0s 9ms/step - loss: 0.3965 - accuracy: 0.8734 - val_loss: 0.6807 - val_accuracy: 0.7500\n",
      "Epoch 134/500\n",
      "15/15 [==============================] - 0s 9ms/step - loss: 0.3946 - accuracy: 0.8734 - val_loss: 0.6819 - val_accuracy: 0.7402\n",
      "Epoch 135/500\n",
      "15/15 [==============================] - 0s 9ms/step - loss: 0.3942 - accuracy: 0.8755 - val_loss: 0.6825 - val_accuracy: 0.7402\n",
      "Epoch 136/500\n",
      "15/15 [==============================] - 0s 10ms/step - loss: 0.3928 - accuracy: 0.8755 - val_loss: 0.6820 - val_accuracy: 0.7402\n",
      "Epoch 137/500\n",
      "15/15 [==============================] - 0s 9ms/step - loss: 0.3926 - accuracy: 0.8755 - val_loss: 0.6818 - val_accuracy: 0.7353\n",
      "Epoch 138/500\n",
      "15/15 [==============================] - 0s 9ms/step - loss: 0.3912 - accuracy: 0.8755 - val_loss: 0.6801 - val_accuracy: 0.7451\n",
      "Epoch 139/500\n",
      "15/15 [==============================] - 0s 9ms/step - loss: 0.3914 - accuracy: 0.8734 - val_loss: 0.6821 - val_accuracy: 0.7353\n",
      "Epoch 140/500\n",
      "15/15 [==============================] - 0s 9ms/step - loss: 0.3894 - accuracy: 0.8755 - val_loss: 0.6803 - val_accuracy: 0.7402\n",
      "Epoch 141/500\n",
      "15/15 [==============================] - 0s 8ms/step - loss: 0.3888 - accuracy: 0.8755 - val_loss: 0.6794 - val_accuracy: 0.7402\n",
      "Epoch 142/500\n",
      "15/15 [==============================] - 0s 9ms/step - loss: 0.3875 - accuracy: 0.8776 - val_loss: 0.6804 - val_accuracy: 0.7402\n",
      "Epoch 143/500\n",
      "15/15 [==============================] - 0s 9ms/step - loss: 0.3871 - accuracy: 0.8755 - val_loss: 0.6802 - val_accuracy: 0.7402\n",
      "Epoch 144/500\n",
      "15/15 [==============================] - 0s 9ms/step - loss: 0.3862 - accuracy: 0.8755 - val_loss: 0.6815 - val_accuracy: 0.7353\n",
      "Epoch 145/500\n",
      "15/15 [==============================] - 0s 9ms/step - loss: 0.3854 - accuracy: 0.8755 - val_loss: 0.6796 - val_accuracy: 0.7402\n",
      "Epoch 146/500\n",
      "15/15 [==============================] - 0s 9ms/step - loss: 0.3845 - accuracy: 0.8755 - val_loss: 0.6801 - val_accuracy: 0.7402\n",
      "Epoch 147/500\n",
      "15/15 [==============================] - 0s 8ms/step - loss: 0.3839 - accuracy: 0.8755 - val_loss: 0.6795 - val_accuracy: 0.7402\n",
      "Epoch 148/500\n",
      "15/15 [==============================] - 0s 8ms/step - loss: 0.3832 - accuracy: 0.8776 - val_loss: 0.6784 - val_accuracy: 0.7402\n",
      "Epoch 149/500\n",
      "15/15 [==============================] - 0s 9ms/step - loss: 0.3833 - accuracy: 0.8755 - val_loss: 0.6793 - val_accuracy: 0.7353\n",
      "Epoch 150/500\n",
      "15/15 [==============================] - 0s 8ms/step - loss: 0.3816 - accuracy: 0.8776 - val_loss: 0.6783 - val_accuracy: 0.7402\n",
      "Epoch 151/500\n",
      "15/15 [==============================] - 0s 8ms/step - loss: 0.3808 - accuracy: 0.8755 - val_loss: 0.6782 - val_accuracy: 0.7402\n",
      "Epoch 152/500\n",
      "15/15 [==============================] - 0s 8ms/step - loss: 0.3800 - accuracy: 0.8755 - val_loss: 0.6781 - val_accuracy: 0.7402\n",
      "Epoch 153/500\n",
      "15/15 [==============================] - 0s 8ms/step - loss: 0.3796 - accuracy: 0.8776 - val_loss: 0.6778 - val_accuracy: 0.7402\n",
      "Epoch 154/500\n",
      "15/15 [==============================] - 0s 8ms/step - loss: 0.3785 - accuracy: 0.8755 - val_loss: 0.6778 - val_accuracy: 0.7402\n",
      "Epoch 155/500\n",
      "15/15 [==============================] - 0s 8ms/step - loss: 0.3777 - accuracy: 0.8797 - val_loss: 0.6779 - val_accuracy: 0.7402\n",
      "Epoch 156/500\n",
      "15/15 [==============================] - 0s 9ms/step - loss: 0.3772 - accuracy: 0.8797 - val_loss: 0.6780 - val_accuracy: 0.7402\n",
      "Epoch 157/500\n",
      "15/15 [==============================] - 0s 8ms/step - loss: 0.3771 - accuracy: 0.8755 - val_loss: 0.6792 - val_accuracy: 0.7353\n",
      "Epoch 158/500\n",
      "15/15 [==============================] - 0s 8ms/step - loss: 0.3757 - accuracy: 0.8776 - val_loss: 0.6767 - val_accuracy: 0.7402\n",
      "Epoch 159/500\n",
      "15/15 [==============================] - 0s 8ms/step - loss: 0.3753 - accuracy: 0.8755 - val_loss: 0.6777 - val_accuracy: 0.7402\n",
      "Epoch 160/500\n",
      "15/15 [==============================] - 0s 8ms/step - loss: 0.3747 - accuracy: 0.8755 - val_loss: 0.6773 - val_accuracy: 0.7402\n",
      "Epoch 161/500\n",
      "15/15 [==============================] - 0s 8ms/step - loss: 0.3737 - accuracy: 0.8797 - val_loss: 0.6761 - val_accuracy: 0.7402\n",
      "Epoch 162/500\n",
      "15/15 [==============================] - 0s 8ms/step - loss: 0.3730 - accuracy: 0.8776 - val_loss: 0.6772 - val_accuracy: 0.7402\n",
      "Epoch 163/500\n",
      "15/15 [==============================] - 0s 8ms/step - loss: 0.3721 - accuracy: 0.8776 - val_loss: 0.6763 - val_accuracy: 0.7402\n",
      "Epoch 164/500\n",
      "15/15 [==============================] - 0s 8ms/step - loss: 0.3716 - accuracy: 0.8797 - val_loss: 0.6755 - val_accuracy: 0.7402\n",
      "Epoch 165/500\n",
      "15/15 [==============================] - 0s 9ms/step - loss: 0.3718 - accuracy: 0.8797 - val_loss: 0.6773 - val_accuracy: 0.7402\n",
      "Epoch 166/500\n",
      "15/15 [==============================] - 0s 8ms/step - loss: 0.3711 - accuracy: 0.8776 - val_loss: 0.6756 - val_accuracy: 0.7402\n",
      "Epoch 167/500\n",
      "15/15 [==============================] - 0s 8ms/step - loss: 0.3699 - accuracy: 0.8797 - val_loss: 0.6759 - val_accuracy: 0.7402\n",
      "Epoch 168/500\n",
      "15/15 [==============================] - 0s 8ms/step - loss: 0.3689 - accuracy: 0.8776 - val_loss: 0.6763 - val_accuracy: 0.7402\n",
      "Epoch 169/500\n",
      "15/15 [==============================] - 0s 8ms/step - loss: 0.3685 - accuracy: 0.8797 - val_loss: 0.6764 - val_accuracy: 0.7402\n",
      "Epoch 170/500\n",
      "15/15 [==============================] - 0s 8ms/step - loss: 0.3679 - accuracy: 0.8797 - val_loss: 0.6753 - val_accuracy: 0.7402\n",
      "Epoch 171/500\n",
      "15/15 [==============================] - 0s 8ms/step - loss: 0.3675 - accuracy: 0.8840 - val_loss: 0.6748 - val_accuracy: 0.7402\n",
      "Epoch 172/500\n",
      "15/15 [==============================] - 0s 8ms/step - loss: 0.3665 - accuracy: 0.8797 - val_loss: 0.6751 - val_accuracy: 0.7402\n",
      "Epoch 173/500\n",
      "15/15 [==============================] - 0s 8ms/step - loss: 0.3656 - accuracy: 0.8797 - val_loss: 0.6771 - val_accuracy: 0.7304\n",
      "Epoch 174/500\n",
      "15/15 [==============================] - 0s 12ms/step - loss: 0.3664 - accuracy: 0.8734 - val_loss: 0.6757 - val_accuracy: 0.7451\n",
      "Epoch 175/500\n"
     ]
    },
    {
     "name": "stdout",
     "output_type": "stream",
     "text": [
      "15/15 [==============================] - 0s 8ms/step - loss: 0.3646 - accuracy: 0.8776 - val_loss: 0.6750 - val_accuracy: 0.7451\n",
      "Epoch 176/500\n",
      "15/15 [==============================] - 0s 8ms/step - loss: 0.3644 - accuracy: 0.8776 - val_loss: 0.6761 - val_accuracy: 0.7451\n",
      "Epoch 177/500\n",
      "15/15 [==============================] - 0s 9ms/step - loss: 0.3632 - accuracy: 0.8797 - val_loss: 0.6745 - val_accuracy: 0.7402\n",
      "Epoch 178/500\n",
      "15/15 [==============================] - 0s 8ms/step - loss: 0.3629 - accuracy: 0.8819 - val_loss: 0.6739 - val_accuracy: 0.7402\n",
      "Epoch 179/500\n",
      "15/15 [==============================] - 0s 8ms/step - loss: 0.3623 - accuracy: 0.8819 - val_loss: 0.6742 - val_accuracy: 0.7402\n",
      "Epoch 180/500\n",
      "15/15 [==============================] - 0s 9ms/step - loss: 0.3621 - accuracy: 0.8840 - val_loss: 0.6743 - val_accuracy: 0.7402\n",
      "Epoch 181/500\n",
      "15/15 [==============================] - 0s 8ms/step - loss: 0.3622 - accuracy: 0.8797 - val_loss: 0.6757 - val_accuracy: 0.7402\n",
      "Epoch 182/500\n",
      "15/15 [==============================] - 0s 9ms/step - loss: 0.3606 - accuracy: 0.8819 - val_loss: 0.6744 - val_accuracy: 0.7402\n",
      "Epoch 183/500\n",
      "15/15 [==============================] - 0s 8ms/step - loss: 0.3601 - accuracy: 0.8819 - val_loss: 0.6734 - val_accuracy: 0.7402\n",
      "Epoch 184/500\n",
      "15/15 [==============================] - 0s 9ms/step - loss: 0.3600 - accuracy: 0.8797 - val_loss: 0.6744 - val_accuracy: 0.7451\n",
      "Epoch 185/500\n",
      "15/15 [==============================] - 0s 9ms/step - loss: 0.3592 - accuracy: 0.8819 - val_loss: 0.6742 - val_accuracy: 0.7402\n",
      "Epoch 186/500\n",
      "15/15 [==============================] - 0s 9ms/step - loss: 0.3585 - accuracy: 0.8819 - val_loss: 0.6740 - val_accuracy: 0.7451\n",
      "Epoch 187/500\n",
      "15/15 [==============================] - 0s 9ms/step - loss: 0.3583 - accuracy: 0.8840 - val_loss: 0.6727 - val_accuracy: 0.7402\n",
      "Epoch 188/500\n",
      "15/15 [==============================] - 0s 8ms/step - loss: 0.3574 - accuracy: 0.8819 - val_loss: 0.6732 - val_accuracy: 0.7402\n",
      "Epoch 189/500\n",
      "15/15 [==============================] - 0s 8ms/step - loss: 0.3568 - accuracy: 0.8819 - val_loss: 0.6741 - val_accuracy: 0.7451\n",
      "Epoch 190/500\n",
      "15/15 [==============================] - 0s 8ms/step - loss: 0.3565 - accuracy: 0.8819 - val_loss: 0.6731 - val_accuracy: 0.7451\n",
      "Epoch 191/500\n",
      "15/15 [==============================] - 0s 8ms/step - loss: 0.3560 - accuracy: 0.8819 - val_loss: 0.6742 - val_accuracy: 0.7402\n",
      "Epoch 192/500\n",
      "15/15 [==============================] - 0s 8ms/step - loss: 0.3556 - accuracy: 0.8819 - val_loss: 0.6731 - val_accuracy: 0.7402\n",
      "Epoch 193/500\n",
      "15/15 [==============================] - 0s 9ms/step - loss: 0.3549 - accuracy: 0.8819 - val_loss: 0.6728 - val_accuracy: 0.7451\n",
      "Epoch 194/500\n",
      "15/15 [==============================] - 0s 8ms/step - loss: 0.3542 - accuracy: 0.8819 - val_loss: 0.6725 - val_accuracy: 0.7451\n",
      "Epoch 195/500\n",
      "15/15 [==============================] - 0s 8ms/step - loss: 0.3540 - accuracy: 0.8819 - val_loss: 0.6731 - val_accuracy: 0.7451\n",
      "Epoch 196/500\n",
      "15/15 [==============================] - 0s 8ms/step - loss: 0.3534 - accuracy: 0.8819 - val_loss: 0.6731 - val_accuracy: 0.7451\n",
      "Epoch 197/500\n",
      "15/15 [==============================] - 0s 8ms/step - loss: 0.3530 - accuracy: 0.8819 - val_loss: 0.6722 - val_accuracy: 0.7451\n",
      "Epoch 198/500\n",
      "15/15 [==============================] - 0s 8ms/step - loss: 0.3526 - accuracy: 0.8819 - val_loss: 0.6725 - val_accuracy: 0.7451\n",
      "Epoch 199/500\n",
      "15/15 [==============================] - 0s 8ms/step - loss: 0.3517 - accuracy: 0.8819 - val_loss: 0.6721 - val_accuracy: 0.7451\n",
      "Epoch 200/500\n",
      "15/15 [==============================] - 0s 8ms/step - loss: 0.3515 - accuracy: 0.8819 - val_loss: 0.6716 - val_accuracy: 0.7402\n",
      "Epoch 201/500\n",
      "15/15 [==============================] - 0s 8ms/step - loss: 0.3507 - accuracy: 0.8819 - val_loss: 0.6736 - val_accuracy: 0.7451\n",
      "Epoch 202/500\n",
      "15/15 [==============================] - 0s 9ms/step - loss: 0.3503 - accuracy: 0.8819 - val_loss: 0.6737 - val_accuracy: 0.7451\n",
      "Epoch 203/500\n",
      "15/15 [==============================] - 0s 8ms/step - loss: 0.3498 - accuracy: 0.8819 - val_loss: 0.6723 - val_accuracy: 0.7451\n",
      "Epoch 204/500\n",
      "15/15 [==============================] - 0s 8ms/step - loss: 0.3492 - accuracy: 0.8819 - val_loss: 0.6709 - val_accuracy: 0.7451\n",
      "Epoch 205/500\n",
      "15/15 [==============================] - 0s 8ms/step - loss: 0.3490 - accuracy: 0.8840 - val_loss: 0.6717 - val_accuracy: 0.7451\n",
      "Epoch 206/500\n",
      "15/15 [==============================] - 0s 8ms/step - loss: 0.3486 - accuracy: 0.8819 - val_loss: 0.6718 - val_accuracy: 0.7451\n",
      "Epoch 207/500\n",
      "15/15 [==============================] - 0s 8ms/step - loss: 0.3481 - accuracy: 0.8819 - val_loss: 0.6717 - val_accuracy: 0.7451\n",
      "Epoch 208/500\n",
      "15/15 [==============================] - 0s 8ms/step - loss: 0.3479 - accuracy: 0.8819 - val_loss: 0.6724 - val_accuracy: 0.7451\n",
      "Epoch 209/500\n",
      "15/15 [==============================] - 0s 8ms/step - loss: 0.3476 - accuracy: 0.8819 - val_loss: 0.6702 - val_accuracy: 0.7451\n",
      "Epoch 210/500\n",
      "15/15 [==============================] - 0s 8ms/step - loss: 0.3467 - accuracy: 0.8840 - val_loss: 0.6712 - val_accuracy: 0.7451\n",
      "Epoch 211/500\n",
      "15/15 [==============================] - 0s 8ms/step - loss: 0.3459 - accuracy: 0.8840 - val_loss: 0.6710 - val_accuracy: 0.7451\n",
      "Epoch 212/500\n",
      "15/15 [==============================] - 0s 8ms/step - loss: 0.3458 - accuracy: 0.8840 - val_loss: 0.6714 - val_accuracy: 0.7500\n",
      "Epoch 213/500\n",
      "15/15 [==============================] - 0s 8ms/step - loss: 0.3456 - accuracy: 0.8819 - val_loss: 0.6716 - val_accuracy: 0.7451\n",
      "Epoch 214/500\n",
      "15/15 [==============================] - 0s 8ms/step - loss: 0.3447 - accuracy: 0.8819 - val_loss: 0.6708 - val_accuracy: 0.7451\n",
      "Epoch 215/500\n",
      "15/15 [==============================] - 0s 8ms/step - loss: 0.3448 - accuracy: 0.8840 - val_loss: 0.6701 - val_accuracy: 0.7451\n",
      "Epoch 216/500\n",
      "15/15 [==============================] - 0s 8ms/step - loss: 0.3440 - accuracy: 0.8819 - val_loss: 0.6711 - val_accuracy: 0.7451\n",
      "Epoch 217/500\n",
      "15/15 [==============================] - 0s 8ms/step - loss: 0.3435 - accuracy: 0.8819 - val_loss: 0.6709 - val_accuracy: 0.7500\n",
      "Epoch 218/500\n",
      "15/15 [==============================] - 0s 8ms/step - loss: 0.3429 - accuracy: 0.8819 - val_loss: 0.6708 - val_accuracy: 0.7451\n",
      "Epoch 219/500\n",
      "15/15 [==============================] - 0s 8ms/step - loss: 0.3431 - accuracy: 0.8840 - val_loss: 0.6706 - val_accuracy: 0.7451\n",
      "Epoch 220/500\n",
      "15/15 [==============================] - 0s 8ms/step - loss: 0.3423 - accuracy: 0.8840 - val_loss: 0.6700 - val_accuracy: 0.7451\n",
      "Epoch 221/500\n",
      "15/15 [==============================] - 0s 8ms/step - loss: 0.3415 - accuracy: 0.8840 - val_loss: 0.6704 - val_accuracy: 0.7451\n",
      "Epoch 222/500\n",
      "15/15 [==============================] - 0s 8ms/step - loss: 0.3417 - accuracy: 0.8797 - val_loss: 0.6718 - val_accuracy: 0.7451\n",
      "Epoch 223/500\n",
      "15/15 [==============================] - 0s 8ms/step - loss: 0.3409 - accuracy: 0.8797 - val_loss: 0.6706 - val_accuracy: 0.7451\n",
      "Epoch 224/500\n",
      "15/15 [==============================] - 0s 8ms/step - loss: 0.3408 - accuracy: 0.8840 - val_loss: 0.6690 - val_accuracy: 0.7402\n",
      "Epoch 225/500\n",
      "15/15 [==============================] - 0s 8ms/step - loss: 0.3404 - accuracy: 0.8840 - val_loss: 0.6698 - val_accuracy: 0.7500\n",
      "Epoch 226/500\n",
      "15/15 [==============================] - 0s 8ms/step - loss: 0.3396 - accuracy: 0.8840 - val_loss: 0.6694 - val_accuracy: 0.7451\n",
      "Epoch 227/500\n",
      "15/15 [==============================] - 0s 8ms/step - loss: 0.3393 - accuracy: 0.8840 - val_loss: 0.6697 - val_accuracy: 0.7451\n",
      "Epoch 228/500\n",
      "15/15 [==============================] - 0s 9ms/step - loss: 0.3390 - accuracy: 0.8819 - val_loss: 0.6695 - val_accuracy: 0.7451\n",
      "Epoch 229/500\n",
      "15/15 [==============================] - 0s 8ms/step - loss: 0.3388 - accuracy: 0.8840 - val_loss: 0.6686 - val_accuracy: 0.7451\n",
      "Epoch 230/500\n",
      "15/15 [==============================] - 0s 8ms/step - loss: 0.3385 - accuracy: 0.8819 - val_loss: 0.6703 - val_accuracy: 0.7451\n",
      "Epoch 231/500\n",
      "15/15 [==============================] - 0s 8ms/step - loss: 0.3374 - accuracy: 0.8840 - val_loss: 0.6690 - val_accuracy: 0.7500\n",
      "Epoch 232/500\n"
     ]
    },
    {
     "name": "stdout",
     "output_type": "stream",
     "text": [
      "15/15 [==============================] - 0s 8ms/step - loss: 0.3376 - accuracy: 0.8819 - val_loss: 0.6703 - val_accuracy: 0.7451\n",
      "Epoch 233/500\n",
      "15/15 [==============================] - 0s 8ms/step - loss: 0.3384 - accuracy: 0.8861 - val_loss: 0.6676 - val_accuracy: 0.7402\n",
      "Epoch 234/500\n",
      "15/15 [==============================] - 0s 8ms/step - loss: 0.3364 - accuracy: 0.8840 - val_loss: 0.6694 - val_accuracy: 0.7451\n",
      "Epoch 235/500\n",
      "15/15 [==============================] - 0s 8ms/step - loss: 0.3369 - accuracy: 0.8797 - val_loss: 0.6703 - val_accuracy: 0.7451\n",
      "Epoch 236/500\n",
      "15/15 [==============================] - 0s 8ms/step - loss: 0.3362 - accuracy: 0.8840 - val_loss: 0.6681 - val_accuracy: 0.7451\n",
      "Epoch 237/500\n",
      "15/15 [==============================] - 0s 8ms/step - loss: 0.3353 - accuracy: 0.8840 - val_loss: 0.6682 - val_accuracy: 0.7451\n",
      "Epoch 238/500\n",
      "15/15 [==============================] - 0s 8ms/step - loss: 0.3349 - accuracy: 0.8840 - val_loss: 0.6694 - val_accuracy: 0.7451\n",
      "Epoch 239/500\n",
      "15/15 [==============================] - 0s 8ms/step - loss: 0.3349 - accuracy: 0.8819 - val_loss: 0.6697 - val_accuracy: 0.7451\n",
      "Epoch 240/500\n",
      "15/15 [==============================] - 0s 8ms/step - loss: 0.3342 - accuracy: 0.8819 - val_loss: 0.6695 - val_accuracy: 0.7451\n",
      "Epoch 241/500\n",
      "15/15 [==============================] - 0s 8ms/step - loss: 0.3340 - accuracy: 0.8819 - val_loss: 0.6683 - val_accuracy: 0.7451\n",
      "Epoch 242/500\n",
      "15/15 [==============================] - 0s 8ms/step - loss: 0.3341 - accuracy: 0.8840 - val_loss: 0.6671 - val_accuracy: 0.7402\n",
      "Epoch 243/500\n",
      "15/15 [==============================] - 0s 8ms/step - loss: 0.3335 - accuracy: 0.8840 - val_loss: 0.6691 - val_accuracy: 0.7451\n",
      "Epoch 244/500\n",
      "15/15 [==============================] - 0s 8ms/step - loss: 0.3326 - accuracy: 0.8819 - val_loss: 0.6675 - val_accuracy: 0.7451\n",
      "Epoch 245/500\n",
      "15/15 [==============================] - 0s 8ms/step - loss: 0.3327 - accuracy: 0.8840 - val_loss: 0.6675 - val_accuracy: 0.7500\n",
      "Epoch 246/500\n",
      "15/15 [==============================] - 0s 8ms/step - loss: 0.3327 - accuracy: 0.8819 - val_loss: 0.6689 - val_accuracy: 0.7451\n",
      "Epoch 247/500\n",
      "15/15 [==============================] - 0s 8ms/step - loss: 0.3313 - accuracy: 0.8840 - val_loss: 0.6677 - val_accuracy: 0.7451\n",
      "Epoch 248/500\n",
      "15/15 [==============================] - 0s 8ms/step - loss: 0.3312 - accuracy: 0.8840 - val_loss: 0.6674 - val_accuracy: 0.7451\n",
      "Epoch 249/500\n",
      "15/15 [==============================] - 0s 8ms/step - loss: 0.3313 - accuracy: 0.8840 - val_loss: 0.6677 - val_accuracy: 0.7402\n",
      "Epoch 250/500\n",
      "15/15 [==============================] - 0s 8ms/step - loss: 0.3306 - accuracy: 0.8819 - val_loss: 0.6671 - val_accuracy: 0.7451\n",
      "Epoch 251/500\n",
      "15/15 [==============================] - 0s 8ms/step - loss: 0.3302 - accuracy: 0.8840 - val_loss: 0.6672 - val_accuracy: 0.7500\n",
      "Epoch 252/500\n",
      "15/15 [==============================] - 0s 8ms/step - loss: 0.3298 - accuracy: 0.8840 - val_loss: 0.6670 - val_accuracy: 0.7500\n",
      "Epoch 253/500\n",
      "15/15 [==============================] - 0s 8ms/step - loss: 0.3295 - accuracy: 0.8797 - val_loss: 0.6683 - val_accuracy: 0.7451\n",
      "Epoch 254/500\n",
      "15/15 [==============================] - 0s 8ms/step - loss: 0.3295 - accuracy: 0.8819 - val_loss: 0.6672 - val_accuracy: 0.7402\n",
      "Epoch 255/500\n",
      "15/15 [==============================] - 0s 8ms/step - loss: 0.3290 - accuracy: 0.8840 - val_loss: 0.6668 - val_accuracy: 0.7451\n",
      "Epoch 256/500\n",
      "15/15 [==============================] - 0s 8ms/step - loss: 0.3295 - accuracy: 0.8776 - val_loss: 0.6684 - val_accuracy: 0.7451\n",
      "Epoch 257/500\n",
      "15/15 [==============================] - 0s 8ms/step - loss: 0.3279 - accuracy: 0.8819 - val_loss: 0.6671 - val_accuracy: 0.7500\n",
      "Epoch 258/500\n",
      "15/15 [==============================] - 0s 8ms/step - loss: 0.3277 - accuracy: 0.8840 - val_loss: 0.6658 - val_accuracy: 0.7500\n",
      "Epoch 259/500\n",
      "15/15 [==============================] - 0s 8ms/step - loss: 0.3273 - accuracy: 0.8840 - val_loss: 0.6665 - val_accuracy: 0.7500\n",
      "Epoch 260/500\n",
      "15/15 [==============================] - 0s 8ms/step - loss: 0.3268 - accuracy: 0.8861 - val_loss: 0.6677 - val_accuracy: 0.7451\n",
      "Epoch 261/500\n",
      "15/15 [==============================] - 0s 8ms/step - loss: 0.3265 - accuracy: 0.8840 - val_loss: 0.6664 - val_accuracy: 0.7451\n",
      "Epoch 262/500\n",
      "15/15 [==============================] - 0s 8ms/step - loss: 0.3263 - accuracy: 0.8840 - val_loss: 0.6659 - val_accuracy: 0.7402\n",
      "Epoch 263/500\n",
      "15/15 [==============================] - 0s 8ms/step - loss: 0.3261 - accuracy: 0.8840 - val_loss: 0.6670 - val_accuracy: 0.7451\n",
      "Epoch 264/500\n",
      "15/15 [==============================] - 0s 8ms/step - loss: 0.3258 - accuracy: 0.8861 - val_loss: 0.6659 - val_accuracy: 0.7451\n",
      "Epoch 265/500\n",
      "15/15 [==============================] - 0s 8ms/step - loss: 0.3253 - accuracy: 0.8840 - val_loss: 0.6664 - val_accuracy: 0.7500\n",
      "Epoch 266/500\n",
      "15/15 [==============================] - 0s 8ms/step - loss: 0.3253 - accuracy: 0.8797 - val_loss: 0.6673 - val_accuracy: 0.7451\n",
      "Epoch 267/500\n",
      "15/15 [==============================] - 0s 8ms/step - loss: 0.3244 - accuracy: 0.8840 - val_loss: 0.6662 - val_accuracy: 0.7451\n",
      "Epoch 268/500\n",
      "15/15 [==============================] - 0s 8ms/step - loss: 0.3243 - accuracy: 0.8840 - val_loss: 0.6653 - val_accuracy: 0.7500\n",
      "Epoch 269/500\n",
      "15/15 [==============================] - 0s 8ms/step - loss: 0.3239 - accuracy: 0.8840 - val_loss: 0.6656 - val_accuracy: 0.7402\n",
      "Epoch 270/500\n",
      "15/15 [==============================] - 0s 8ms/step - loss: 0.3237 - accuracy: 0.8861 - val_loss: 0.6664 - val_accuracy: 0.7451\n",
      "Epoch 271/500\n",
      "15/15 [==============================] - 0s 8ms/step - loss: 0.3232 - accuracy: 0.8861 - val_loss: 0.6665 - val_accuracy: 0.7451\n",
      "Epoch 272/500\n",
      "15/15 [==============================] - 0s 8ms/step - loss: 0.3230 - accuracy: 0.8840 - val_loss: 0.6653 - val_accuracy: 0.7500\n",
      "Epoch 273/500\n",
      "15/15 [==============================] - 0s 8ms/step - loss: 0.3227 - accuracy: 0.8840 - val_loss: 0.6652 - val_accuracy: 0.7451\n",
      "Epoch 274/500\n",
      "15/15 [==============================] - 0s 8ms/step - loss: 0.3233 - accuracy: 0.8861 - val_loss: 0.6653 - val_accuracy: 0.7402\n",
      "Epoch 275/500\n",
      "15/15 [==============================] - 0s 8ms/step - loss: 0.3224 - accuracy: 0.8882 - val_loss: 0.6645 - val_accuracy: 0.7500\n",
      "Epoch 276/500\n",
      "15/15 [==============================] - 0s 8ms/step - loss: 0.3219 - accuracy: 0.8840 - val_loss: 0.6664 - val_accuracy: 0.7500\n",
      "Epoch 277/500\n",
      "15/15 [==============================] - 0s 8ms/step - loss: 0.3221 - accuracy: 0.8819 - val_loss: 0.6675 - val_accuracy: 0.7402\n",
      "Epoch 278/500\n",
      "15/15 [==============================] - 0s 8ms/step - loss: 0.3210 - accuracy: 0.8819 - val_loss: 0.6654 - val_accuracy: 0.7500\n",
      "Epoch 279/500\n",
      "15/15 [==============================] - 0s 8ms/step - loss: 0.3206 - accuracy: 0.8861 - val_loss: 0.6646 - val_accuracy: 0.7500\n",
      "Epoch 280/500\n",
      "15/15 [==============================] - 0s 8ms/step - loss: 0.3208 - accuracy: 0.8840 - val_loss: 0.6636 - val_accuracy: 0.7451\n",
      "Epoch 281/500\n",
      "15/15 [==============================] - 0s 8ms/step - loss: 0.3200 - accuracy: 0.8840 - val_loss: 0.6645 - val_accuracy: 0.7451\n",
      "Epoch 282/500\n",
      "15/15 [==============================] - 0s 8ms/step - loss: 0.3200 - accuracy: 0.8861 - val_loss: 0.6649 - val_accuracy: 0.7402\n",
      "Epoch 283/500\n",
      "15/15 [==============================] - 0s 8ms/step - loss: 0.3195 - accuracy: 0.8840 - val_loss: 0.6654 - val_accuracy: 0.7500\n",
      "Epoch 284/500\n",
      "15/15 [==============================] - 0s 8ms/step - loss: 0.3195 - accuracy: 0.8840 - val_loss: 0.6661 - val_accuracy: 0.7451\n",
      "Epoch 285/500\n",
      "15/15 [==============================] - 0s 8ms/step - loss: 0.3189 - accuracy: 0.8840 - val_loss: 0.6652 - val_accuracy: 0.7500\n",
      "Epoch 286/500\n",
      "15/15 [==============================] - 0s 8ms/step - loss: 0.3188 - accuracy: 0.8861 - val_loss: 0.6641 - val_accuracy: 0.7500\n",
      "Epoch 287/500\n",
      "15/15 [==============================] - 0s 8ms/step - loss: 0.3185 - accuracy: 0.8861 - val_loss: 0.6637 - val_accuracy: 0.7451\n",
      "Epoch 288/500\n",
      "15/15 [==============================] - 0s 8ms/step - loss: 0.3179 - accuracy: 0.8861 - val_loss: 0.6643 - val_accuracy: 0.7451\n",
      "Epoch 289/500\n"
     ]
    },
    {
     "name": "stdout",
     "output_type": "stream",
     "text": [
      "15/15 [==============================] - 0s 8ms/step - loss: 0.3178 - accuracy: 0.8840 - val_loss: 0.6643 - val_accuracy: 0.7500\n",
      "Epoch 290/500\n",
      "15/15 [==============================] - 0s 8ms/step - loss: 0.3179 - accuracy: 0.8840 - val_loss: 0.6630 - val_accuracy: 0.7451\n",
      "Epoch 291/500\n",
      "15/15 [==============================] - 0s 8ms/step - loss: 0.3171 - accuracy: 0.8861 - val_loss: 0.6636 - val_accuracy: 0.7451\n",
      "Epoch 292/500\n",
      "15/15 [==============================] - 0s 8ms/step - loss: 0.3171 - accuracy: 0.8840 - val_loss: 0.6654 - val_accuracy: 0.7500\n",
      "Epoch 293/500\n",
      "15/15 [==============================] - 0s 8ms/step - loss: 0.3168 - accuracy: 0.8819 - val_loss: 0.6649 - val_accuracy: 0.7500\n",
      "Epoch 294/500\n",
      "15/15 [==============================] - 0s 8ms/step - loss: 0.3170 - accuracy: 0.8840 - val_loss: 0.6650 - val_accuracy: 0.7451\n",
      "Epoch 295/500\n",
      "15/15 [==============================] - 0s 8ms/step - loss: 0.3161 - accuracy: 0.8819 - val_loss: 0.6619 - val_accuracy: 0.7500\n",
      "Epoch 296/500\n",
      "15/15 [==============================] - 0s 8ms/step - loss: 0.3161 - accuracy: 0.8861 - val_loss: 0.6622 - val_accuracy: 0.7451\n",
      "Epoch 297/500\n",
      "15/15 [==============================] - 0s 8ms/step - loss: 0.3153 - accuracy: 0.8861 - val_loss: 0.6646 - val_accuracy: 0.7500\n",
      "Epoch 298/500\n",
      "15/15 [==============================] - 0s 8ms/step - loss: 0.3151 - accuracy: 0.8840 - val_loss: 0.6639 - val_accuracy: 0.7451\n",
      "Epoch 299/500\n",
      "15/15 [==============================] - 0s 8ms/step - loss: 0.3147 - accuracy: 0.8840 - val_loss: 0.6642 - val_accuracy: 0.7451\n",
      "Epoch 300/500\n",
      "15/15 [==============================] - 0s 8ms/step - loss: 0.3150 - accuracy: 0.8861 - val_loss: 0.6631 - val_accuracy: 0.7451\n",
      "Epoch 301/500\n",
      "15/15 [==============================] - 0s 8ms/step - loss: 0.3142 - accuracy: 0.8840 - val_loss: 0.6638 - val_accuracy: 0.7500\n",
      "Epoch 302/500\n",
      "15/15 [==============================] - 0s 8ms/step - loss: 0.3143 - accuracy: 0.8840 - val_loss: 0.6639 - val_accuracy: 0.7500\n",
      "Epoch 303/500\n",
      "15/15 [==============================] - 0s 8ms/step - loss: 0.3140 - accuracy: 0.8840 - val_loss: 0.6620 - val_accuracy: 0.7451\n",
      "Epoch 304/500\n",
      "15/15 [==============================] - 0s 9ms/step - loss: 0.3133 - accuracy: 0.8861 - val_loss: 0.6626 - val_accuracy: 0.7451\n",
      "Epoch 305/500\n",
      "15/15 [==============================] - 0s 8ms/step - loss: 0.3134 - accuracy: 0.8882 - val_loss: 0.6626 - val_accuracy: 0.7451\n",
      "Epoch 306/500\n",
      "15/15 [==============================] - 0s 8ms/step - loss: 0.3126 - accuracy: 0.8882 - val_loss: 0.6623 - val_accuracy: 0.7451\n",
      "Epoch 307/500\n",
      "15/15 [==============================] - 0s 8ms/step - loss: 0.3129 - accuracy: 0.8861 - val_loss: 0.6626 - val_accuracy: 0.7451\n",
      "Epoch 308/500\n",
      "15/15 [==============================] - 0s 8ms/step - loss: 0.3127 - accuracy: 0.8861 - val_loss: 0.6627 - val_accuracy: 0.7402\n",
      "Epoch 309/500\n",
      "15/15 [==============================] - 0s 8ms/step - loss: 0.3120 - accuracy: 0.8861 - val_loss: 0.6624 - val_accuracy: 0.7451\n",
      "Epoch 310/500\n",
      "15/15 [==============================] - 0s 8ms/step - loss: 0.3119 - accuracy: 0.8861 - val_loss: 0.6624 - val_accuracy: 0.7500\n",
      "Epoch 311/500\n",
      "15/15 [==============================] - 0s 8ms/step - loss: 0.3115 - accuracy: 0.8861 - val_loss: 0.6621 - val_accuracy: 0.7451\n",
      "Epoch 312/500\n",
      "15/15 [==============================] - 0s 8ms/step - loss: 0.3115 - accuracy: 0.8861 - val_loss: 0.6607 - val_accuracy: 0.7451\n",
      "Epoch 313/500\n",
      "15/15 [==============================] - 0s 8ms/step - loss: 0.3109 - accuracy: 0.8903 - val_loss: 0.6617 - val_accuracy: 0.7451\n",
      "Epoch 314/500\n",
      "15/15 [==============================] - 0s 8ms/step - loss: 0.3114 - accuracy: 0.8840 - val_loss: 0.6645 - val_accuracy: 0.7451\n",
      "Epoch 315/500\n",
      "15/15 [==============================] - 0s 8ms/step - loss: 0.3103 - accuracy: 0.8861 - val_loss: 0.6623 - val_accuracy: 0.7451\n",
      "Epoch 316/500\n",
      "15/15 [==============================] - 0s 8ms/step - loss: 0.3099 - accuracy: 0.8840 - val_loss: 0.6612 - val_accuracy: 0.7451\n",
      "Epoch 317/500\n",
      "15/15 [==============================] - 0s 8ms/step - loss: 0.3104 - accuracy: 0.8903 - val_loss: 0.6602 - val_accuracy: 0.7451\n",
      "Epoch 318/500\n",
      "15/15 [==============================] - 0s 8ms/step - loss: 0.3096 - accuracy: 0.8861 - val_loss: 0.6613 - val_accuracy: 0.7451\n",
      "Epoch 319/500\n",
      "15/15 [==============================] - 0s 8ms/step - loss: 0.3093 - accuracy: 0.8882 - val_loss: 0.6628 - val_accuracy: 0.7500\n",
      "Epoch 320/500\n",
      "15/15 [==============================] - 0s 8ms/step - loss: 0.3093 - accuracy: 0.8861 - val_loss: 0.6619 - val_accuracy: 0.7451\n",
      "Epoch 321/500\n",
      "15/15 [==============================] - 0s 8ms/step - loss: 0.3092 - accuracy: 0.8861 - val_loss: 0.6604 - val_accuracy: 0.7451\n",
      "Epoch 322/500\n",
      "15/15 [==============================] - 0s 8ms/step - loss: 0.3086 - accuracy: 0.8861 - val_loss: 0.6620 - val_accuracy: 0.7451\n",
      "Epoch 323/500\n",
      "15/15 [==============================] - 0s 8ms/step - loss: 0.3083 - accuracy: 0.8861 - val_loss: 0.6613 - val_accuracy: 0.7451\n",
      "Epoch 324/500\n",
      "15/15 [==============================] - 0s 9ms/step - loss: 0.3079 - accuracy: 0.8861 - val_loss: 0.6610 - val_accuracy: 0.7451\n",
      "Epoch 325/500\n",
      "15/15 [==============================] - 0s 8ms/step - loss: 0.3081 - accuracy: 0.8861 - val_loss: 0.6621 - val_accuracy: 0.7500\n",
      "Epoch 326/500\n",
      "15/15 [==============================] - 0s 8ms/step - loss: 0.3075 - accuracy: 0.8861 - val_loss: 0.6611 - val_accuracy: 0.7500\n",
      "Epoch 327/500\n",
      "15/15 [==============================] - 0s 8ms/step - loss: 0.3074 - accuracy: 0.8861 - val_loss: 0.6613 - val_accuracy: 0.7500\n",
      "Epoch 328/500\n",
      "15/15 [==============================] - 0s 8ms/step - loss: 0.3069 - accuracy: 0.8861 - val_loss: 0.6604 - val_accuracy: 0.7451\n",
      "Epoch 329/500\n",
      "15/15 [==============================] - 0s 8ms/step - loss: 0.3068 - accuracy: 0.8861 - val_loss: 0.6597 - val_accuracy: 0.7451\n",
      "Epoch 330/500\n",
      "15/15 [==============================] - 0s 8ms/step - loss: 0.3071 - accuracy: 0.8903 - val_loss: 0.6593 - val_accuracy: 0.7451\n",
      "Epoch 331/500\n",
      "15/15 [==============================] - 0s 8ms/step - loss: 0.3067 - accuracy: 0.8882 - val_loss: 0.6620 - val_accuracy: 0.7500\n",
      "Epoch 332/500\n",
      "15/15 [==============================] - 0s 8ms/step - loss: 0.3064 - accuracy: 0.8840 - val_loss: 0.6613 - val_accuracy: 0.7451\n",
      "Epoch 333/500\n",
      "15/15 [==============================] - 0s 8ms/step - loss: 0.3057 - accuracy: 0.8861 - val_loss: 0.6593 - val_accuracy: 0.7451\n",
      "Epoch 334/500\n",
      "15/15 [==============================] - 0s 8ms/step - loss: 0.3057 - accuracy: 0.8903 - val_loss: 0.6603 - val_accuracy: 0.7500\n",
      "Epoch 335/500\n",
      "15/15 [==============================] - 0s 8ms/step - loss: 0.3052 - accuracy: 0.8903 - val_loss: 0.6598 - val_accuracy: 0.7451\n",
      "Epoch 336/500\n",
      "15/15 [==============================] - 0s 8ms/step - loss: 0.3053 - accuracy: 0.8903 - val_loss: 0.6596 - val_accuracy: 0.7451\n",
      "Epoch 337/500\n",
      "15/15 [==============================] - 0s 8ms/step - loss: 0.3048 - accuracy: 0.8903 - val_loss: 0.6607 - val_accuracy: 0.7451\n",
      "Epoch 338/500\n",
      "15/15 [==============================] - 0s 8ms/step - loss: 0.3050 - accuracy: 0.8861 - val_loss: 0.6608 - val_accuracy: 0.7500\n",
      "Epoch 339/500\n",
      "15/15 [==============================] - 0s 8ms/step - loss: 0.3042 - accuracy: 0.8861 - val_loss: 0.6611 - val_accuracy: 0.7451\n",
      "Epoch 340/500\n",
      "15/15 [==============================] - 0s 8ms/step - loss: 0.3043 - accuracy: 0.8882 - val_loss: 0.6604 - val_accuracy: 0.7451\n",
      "Epoch 341/500\n",
      "15/15 [==============================] - 0s 8ms/step - loss: 0.3038 - accuracy: 0.8882 - val_loss: 0.6599 - val_accuracy: 0.7451\n",
      "Epoch 342/500\n",
      "15/15 [==============================] - 0s 8ms/step - loss: 0.3038 - accuracy: 0.8903 - val_loss: 0.6583 - val_accuracy: 0.7451\n",
      "Epoch 343/500\n",
      "15/15 [==============================] - 0s 8ms/step - loss: 0.3039 - accuracy: 0.8882 - val_loss: 0.6609 - val_accuracy: 0.7500\n",
      "Epoch 344/500\n",
      "15/15 [==============================] - 0s 8ms/step - loss: 0.3032 - accuracy: 0.8882 - val_loss: 0.6597 - val_accuracy: 0.7500\n",
      "Epoch 345/500\n",
      "15/15 [==============================] - 0s 8ms/step - loss: 0.3028 - accuracy: 0.8861 - val_loss: 0.6599 - val_accuracy: 0.7451\n",
      "Epoch 346/500\n"
     ]
    },
    {
     "name": "stdout",
     "output_type": "stream",
     "text": [
      "15/15 [==============================] - 0s 8ms/step - loss: 0.3023 - accuracy: 0.8861 - val_loss: 0.6598 - val_accuracy: 0.7451\n",
      "Epoch 347/500\n",
      "15/15 [==============================] - 0s 8ms/step - loss: 0.3029 - accuracy: 0.8882 - val_loss: 0.6607 - val_accuracy: 0.7451\n",
      "Epoch 348/500\n",
      "15/15 [==============================] - 0s 8ms/step - loss: 0.3019 - accuracy: 0.8882 - val_loss: 0.6587 - val_accuracy: 0.7451\n",
      "Epoch 349/500\n",
      "15/15 [==============================] - 0s 9ms/step - loss: 0.3019 - accuracy: 0.8924 - val_loss: 0.6582 - val_accuracy: 0.7451\n",
      "Epoch 350/500\n",
      "15/15 [==============================] - 0s 8ms/step - loss: 0.3018 - accuracy: 0.8903 - val_loss: 0.6589 - val_accuracy: 0.7451\n",
      "Epoch 351/500\n",
      "15/15 [==============================] - 0s 8ms/step - loss: 0.3018 - accuracy: 0.8903 - val_loss: 0.6590 - val_accuracy: 0.7451\n",
      "Epoch 352/500\n",
      "15/15 [==============================] - 0s 8ms/step - loss: 0.3012 - accuracy: 0.8882 - val_loss: 0.6597 - val_accuracy: 0.7451\n",
      "Epoch 353/500\n",
      "15/15 [==============================] - 0s 8ms/step - loss: 0.3010 - accuracy: 0.8882 - val_loss: 0.6590 - val_accuracy: 0.7451\n",
      "Epoch 354/500\n",
      "15/15 [==============================] - 0s 9ms/step - loss: 0.3013 - accuracy: 0.8903 - val_loss: 0.6592 - val_accuracy: 0.7451\n",
      "Epoch 355/500\n",
      "15/15 [==============================] - 0s 8ms/step - loss: 0.3003 - accuracy: 0.8882 - val_loss: 0.6600 - val_accuracy: 0.7500\n",
      "Epoch 356/500\n",
      "15/15 [==============================] - 0s 8ms/step - loss: 0.3006 - accuracy: 0.8903 - val_loss: 0.6584 - val_accuracy: 0.7451\n",
      "Epoch 357/500\n",
      "15/15 [==============================] - 0s 8ms/step - loss: 0.3003 - accuracy: 0.8924 - val_loss: 0.6582 - val_accuracy: 0.7451\n",
      "Epoch 358/500\n",
      "15/15 [==============================] - 0s 8ms/step - loss: 0.3001 - accuracy: 0.8903 - val_loss: 0.6600 - val_accuracy: 0.7451\n",
      "Epoch 359/500\n",
      "15/15 [==============================] - 0s 8ms/step - loss: 0.3001 - accuracy: 0.8903 - val_loss: 0.6586 - val_accuracy: 0.7451\n",
      "Epoch 360/500\n",
      "15/15 [==============================] - 0s 8ms/step - loss: 0.2995 - accuracy: 0.8882 - val_loss: 0.6594 - val_accuracy: 0.7451\n",
      "Epoch 361/500\n",
      "15/15 [==============================] - 0s 8ms/step - loss: 0.2992 - accuracy: 0.8903 - val_loss: 0.6579 - val_accuracy: 0.7451\n",
      "Epoch 362/500\n",
      "15/15 [==============================] - 0s 8ms/step - loss: 0.2993 - accuracy: 0.8903 - val_loss: 0.6583 - val_accuracy: 0.7451\n",
      "Epoch 363/500\n",
      "15/15 [==============================] - 0s 8ms/step - loss: 0.2988 - accuracy: 0.8903 - val_loss: 0.6584 - val_accuracy: 0.7451\n",
      "Epoch 364/500\n",
      "15/15 [==============================] - 0s 8ms/step - loss: 0.2985 - accuracy: 0.8882 - val_loss: 0.6583 - val_accuracy: 0.7451\n",
      "Epoch 365/500\n",
      "15/15 [==============================] - 0s 8ms/step - loss: 0.2983 - accuracy: 0.8903 - val_loss: 0.6577 - val_accuracy: 0.7451\n",
      "Epoch 366/500\n",
      "15/15 [==============================] - 0s 9ms/step - loss: 0.2978 - accuracy: 0.8903 - val_loss: 0.6573 - val_accuracy: 0.7451\n",
      "Epoch 367/500\n",
      "15/15 [==============================] - 0s 8ms/step - loss: 0.2982 - accuracy: 0.8945 - val_loss: 0.6565 - val_accuracy: 0.7451\n",
      "Epoch 368/500\n",
      "15/15 [==============================] - 0s 8ms/step - loss: 0.2974 - accuracy: 0.8924 - val_loss: 0.6588 - val_accuracy: 0.7451\n",
      "Epoch 369/500\n",
      "15/15 [==============================] - 0s 8ms/step - loss: 0.2974 - accuracy: 0.8903 - val_loss: 0.6582 - val_accuracy: 0.7451\n",
      "Epoch 370/500\n",
      "15/15 [==============================] - 0s 8ms/step - loss: 0.2972 - accuracy: 0.8882 - val_loss: 0.6595 - val_accuracy: 0.7402\n",
      "Epoch 371/500\n",
      "15/15 [==============================] - 0s 8ms/step - loss: 0.2971 - accuracy: 0.8882 - val_loss: 0.6586 - val_accuracy: 0.7500\n",
      "Epoch 372/500\n",
      "15/15 [==============================] - 0s 8ms/step - loss: 0.2966 - accuracy: 0.8903 - val_loss: 0.6572 - val_accuracy: 0.7451\n",
      "Epoch 373/500\n",
      "15/15 [==============================] - 0s 9ms/step - loss: 0.2966 - accuracy: 0.8903 - val_loss: 0.6571 - val_accuracy: 0.7451\n",
      "Epoch 374/500\n",
      "15/15 [==============================] - 0s 8ms/step - loss: 0.2961 - accuracy: 0.8945 - val_loss: 0.6563 - val_accuracy: 0.7451\n",
      "Epoch 375/500\n",
      "15/15 [==============================] - 0s 8ms/step - loss: 0.2964 - accuracy: 0.8903 - val_loss: 0.6578 - val_accuracy: 0.7451\n",
      "Epoch 376/500\n",
      "15/15 [==============================] - 0s 8ms/step - loss: 0.2956 - accuracy: 0.8903 - val_loss: 0.6575 - val_accuracy: 0.7451\n",
      "Epoch 377/500\n",
      "15/15 [==============================] - 0s 9ms/step - loss: 0.2961 - accuracy: 0.8903 - val_loss: 0.6567 - val_accuracy: 0.7451\n",
      "Epoch 378/500\n",
      "15/15 [==============================] - 0s 8ms/step - loss: 0.2957 - accuracy: 0.8903 - val_loss: 0.6578 - val_accuracy: 0.7451\n",
      "Epoch 379/500\n",
      "15/15 [==============================] - 0s 8ms/step - loss: 0.2958 - accuracy: 0.8945 - val_loss: 0.6572 - val_accuracy: 0.7451\n",
      "Epoch 380/500\n",
      "15/15 [==============================] - 0s 8ms/step - loss: 0.2948 - accuracy: 0.8903 - val_loss: 0.6570 - val_accuracy: 0.7451\n",
      "Epoch 381/500\n",
      "15/15 [==============================] - 0s 8ms/step - loss: 0.2948 - accuracy: 0.8903 - val_loss: 0.6572 - val_accuracy: 0.7451\n",
      "Epoch 382/500\n",
      "15/15 [==============================] - 0s 8ms/step - loss: 0.2946 - accuracy: 0.8903 - val_loss: 0.6569 - val_accuracy: 0.7451\n",
      "Epoch 383/500\n",
      "15/15 [==============================] - 0s 8ms/step - loss: 0.2952 - accuracy: 0.8966 - val_loss: 0.6558 - val_accuracy: 0.7451\n",
      "Epoch 384/500\n",
      "15/15 [==============================] - 0s 8ms/step - loss: 0.2941 - accuracy: 0.8966 - val_loss: 0.6564 - val_accuracy: 0.7500\n",
      "Epoch 385/500\n",
      "15/15 [==============================] - 0s 8ms/step - loss: 0.2947 - accuracy: 0.8903 - val_loss: 0.6568 - val_accuracy: 0.7451\n",
      "Epoch 386/500\n",
      "15/15 [==============================] - 0s 8ms/step - loss: 0.2937 - accuracy: 0.8882 - val_loss: 0.6583 - val_accuracy: 0.7500\n",
      "Epoch 387/500\n",
      "15/15 [==============================] - 0s 8ms/step - loss: 0.2934 - accuracy: 0.8882 - val_loss: 0.6572 - val_accuracy: 0.7451\n",
      "Epoch 388/500\n",
      "15/15 [==============================] - 0s 8ms/step - loss: 0.2934 - accuracy: 0.8903 - val_loss: 0.6570 - val_accuracy: 0.7451\n",
      "Epoch 389/500\n",
      "15/15 [==============================] - 0s 8ms/step - loss: 0.2931 - accuracy: 0.8966 - val_loss: 0.6555 - val_accuracy: 0.7451\n",
      "Epoch 390/500\n",
      "15/15 [==============================] - 0s 8ms/step - loss: 0.2928 - accuracy: 0.8903 - val_loss: 0.6563 - val_accuracy: 0.7500\n",
      "Epoch 391/500\n",
      "15/15 [==============================] - 0s 8ms/step - loss: 0.2928 - accuracy: 0.8903 - val_loss: 0.6562 - val_accuracy: 0.7500\n",
      "Epoch 392/500\n",
      "15/15 [==============================] - 0s 8ms/step - loss: 0.2924 - accuracy: 0.8945 - val_loss: 0.6562 - val_accuracy: 0.7451\n",
      "Epoch 393/500\n",
      "15/15 [==============================] - 0s 8ms/step - loss: 0.2922 - accuracy: 0.8966 - val_loss: 0.6562 - val_accuracy: 0.7451\n",
      "Epoch 394/500\n",
      "15/15 [==============================] - 0s 8ms/step - loss: 0.2925 - accuracy: 0.8945 - val_loss: 0.6555 - val_accuracy: 0.7451\n",
      "Epoch 395/500\n",
      "15/15 [==============================] - 0s 8ms/step - loss: 0.2920 - accuracy: 0.8924 - val_loss: 0.6571 - val_accuracy: 0.7500\n",
      "Epoch 396/500\n",
      "15/15 [==============================] - 0s 8ms/step - loss: 0.2919 - accuracy: 0.8903 - val_loss: 0.6566 - val_accuracy: 0.7500\n",
      "Epoch 397/500\n",
      "15/15 [==============================] - 0s 8ms/step - loss: 0.2916 - accuracy: 0.8924 - val_loss: 0.6550 - val_accuracy: 0.7451\n",
      "Epoch 398/500\n",
      "15/15 [==============================] - 0s 8ms/step - loss: 0.2913 - accuracy: 0.8966 - val_loss: 0.6558 - val_accuracy: 0.7451\n",
      "Epoch 399/500\n",
      "15/15 [==============================] - 0s 9ms/step - loss: 0.2913 - accuracy: 0.8924 - val_loss: 0.6571 - val_accuracy: 0.7500\n",
      "Epoch 400/500\n",
      "15/15 [==============================] - 0s 8ms/step - loss: 0.2914 - accuracy: 0.8945 - val_loss: 0.6545 - val_accuracy: 0.7451\n",
      "Epoch 401/500\n",
      "15/15 [==============================] - 0s 8ms/step - loss: 0.2912 - accuracy: 0.8945 - val_loss: 0.6566 - val_accuracy: 0.7500\n",
      "Epoch 402/500\n",
      "15/15 [==============================] - 0s 8ms/step - loss: 0.2905 - accuracy: 0.8903 - val_loss: 0.6558 - val_accuracy: 0.7451\n",
      "Epoch 403/500\n"
     ]
    },
    {
     "name": "stdout",
     "output_type": "stream",
     "text": [
      "15/15 [==============================] - 0s 8ms/step - loss: 0.2901 - accuracy: 0.8924 - val_loss: 0.6553 - val_accuracy: 0.7451\n",
      "Epoch 404/500\n",
      "15/15 [==============================] - 0s 8ms/step - loss: 0.2907 - accuracy: 0.8966 - val_loss: 0.6545 - val_accuracy: 0.7451\n",
      "Epoch 405/500\n",
      "15/15 [==============================] - 0s 8ms/step - loss: 0.2899 - accuracy: 0.8966 - val_loss: 0.6558 - val_accuracy: 0.7500\n",
      "Epoch 406/500\n",
      "15/15 [==============================] - 0s 8ms/step - loss: 0.2896 - accuracy: 0.8924 - val_loss: 0.6562 - val_accuracy: 0.7500\n",
      "Epoch 407/500\n",
      "15/15 [==============================] - 0s 8ms/step - loss: 0.2895 - accuracy: 0.8924 - val_loss: 0.6555 - val_accuracy: 0.7500\n",
      "Epoch 408/500\n",
      "15/15 [==============================] - 0s 8ms/step - loss: 0.2893 - accuracy: 0.8924 - val_loss: 0.6554 - val_accuracy: 0.7451\n",
      "Epoch 409/500\n",
      "15/15 [==============================] - 0s 8ms/step - loss: 0.2890 - accuracy: 0.8924 - val_loss: 0.6560 - val_accuracy: 0.7451\n",
      "Epoch 410/500\n",
      "15/15 [==============================] - 0s 8ms/step - loss: 0.2892 - accuracy: 0.8945 - val_loss: 0.6542 - val_accuracy: 0.7500\n",
      "Epoch 411/500\n",
      "15/15 [==============================] - 0s 8ms/step - loss: 0.2886 - accuracy: 0.8945 - val_loss: 0.6548 - val_accuracy: 0.7451\n",
      "Epoch 412/500\n",
      "15/15 [==============================] - 0s 8ms/step - loss: 0.2885 - accuracy: 0.8966 - val_loss: 0.6557 - val_accuracy: 0.7500\n",
      "Epoch 413/500\n",
      "15/15 [==============================] - 0s 8ms/step - loss: 0.2883 - accuracy: 0.8924 - val_loss: 0.6549 - val_accuracy: 0.7500\n",
      "Epoch 414/500\n",
      "15/15 [==============================] - 0s 8ms/step - loss: 0.2884 - accuracy: 0.8924 - val_loss: 0.6561 - val_accuracy: 0.7500\n",
      "Epoch 415/500\n",
      "15/15 [==============================] - 0s 8ms/step - loss: 0.2880 - accuracy: 0.8924 - val_loss: 0.6552 - val_accuracy: 0.7500\n",
      "Epoch 416/500\n",
      "15/15 [==============================] - 0s 8ms/step - loss: 0.2876 - accuracy: 0.8945 - val_loss: 0.6547 - val_accuracy: 0.7451\n",
      "Epoch 417/500\n",
      "15/15 [==============================] - 0s 8ms/step - loss: 0.2877 - accuracy: 0.8945 - val_loss: 0.6543 - val_accuracy: 0.7500\n",
      "Epoch 418/500\n",
      "15/15 [==============================] - 0s 8ms/step - loss: 0.2876 - accuracy: 0.8945 - val_loss: 0.6554 - val_accuracy: 0.7500\n",
      "Epoch 419/500\n",
      "15/15 [==============================] - 0s 8ms/step - loss: 0.2883 - accuracy: 0.8924 - val_loss: 0.6523 - val_accuracy: 0.7451\n",
      "Epoch 420/500\n",
      "15/15 [==============================] - 0s 8ms/step - loss: 0.2876 - accuracy: 0.8987 - val_loss: 0.6554 - val_accuracy: 0.7451\n",
      "Epoch 421/500\n",
      "15/15 [==============================] - 0s 8ms/step - loss: 0.2870 - accuracy: 0.8924 - val_loss: 0.6558 - val_accuracy: 0.7500\n",
      "Epoch 422/500\n",
      "15/15 [==============================] - 0s 8ms/step - loss: 0.2865 - accuracy: 0.8924 - val_loss: 0.6536 - val_accuracy: 0.7451\n",
      "Epoch 423/500\n",
      "15/15 [==============================] - 0s 8ms/step - loss: 0.2868 - accuracy: 0.8966 - val_loss: 0.6532 - val_accuracy: 0.7500\n",
      "Epoch 424/500\n",
      "15/15 [==============================] - 0s 8ms/step - loss: 0.2863 - accuracy: 0.8966 - val_loss: 0.6531 - val_accuracy: 0.7500\n",
      "Epoch 425/500\n",
      "15/15 [==============================] - 0s 8ms/step - loss: 0.2862 - accuracy: 0.8966 - val_loss: 0.6552 - val_accuracy: 0.7500\n",
      "Epoch 426/500\n",
      "15/15 [==============================] - 0s 8ms/step - loss: 0.2859 - accuracy: 0.8924 - val_loss: 0.6545 - val_accuracy: 0.7451\n",
      "Epoch 427/500\n",
      "15/15 [==============================] - 0s 8ms/step - loss: 0.2857 - accuracy: 0.8966 - val_loss: 0.6538 - val_accuracy: 0.7451\n",
      "Epoch 428/500\n",
      "15/15 [==============================] - 0s 8ms/step - loss: 0.2857 - accuracy: 0.8966 - val_loss: 0.6538 - val_accuracy: 0.7451\n",
      "Epoch 429/500\n",
      "15/15 [==============================] - 0s 8ms/step - loss: 0.2856 - accuracy: 0.8987 - val_loss: 0.6526 - val_accuracy: 0.7451\n",
      "Epoch 430/500\n",
      "15/15 [==============================] - 0s 8ms/step - loss: 0.2854 - accuracy: 0.8966 - val_loss: 0.6535 - val_accuracy: 0.7451\n",
      "Epoch 431/500\n",
      "15/15 [==============================] - 0s 8ms/step - loss: 0.2848 - accuracy: 0.8966 - val_loss: 0.6537 - val_accuracy: 0.7500\n",
      "Epoch 432/500\n",
      "15/15 [==============================] - 0s 8ms/step - loss: 0.2847 - accuracy: 0.8966 - val_loss: 0.6536 - val_accuracy: 0.7500\n",
      "Epoch 433/500\n",
      "15/15 [==============================] - 0s 8ms/step - loss: 0.2849 - accuracy: 0.8966 - val_loss: 0.6533 - val_accuracy: 0.7500\n",
      "Epoch 434/500\n",
      "15/15 [==============================] - 0s 8ms/step - loss: 0.2843 - accuracy: 0.8966 - val_loss: 0.6544 - val_accuracy: 0.7451\n",
      "Epoch 435/500\n",
      "15/15 [==============================] - 0s 8ms/step - loss: 0.2843 - accuracy: 0.8966 - val_loss: 0.6544 - val_accuracy: 0.7500\n",
      "Epoch 436/500\n",
      "15/15 [==============================] - 0s 8ms/step - loss: 0.2849 - accuracy: 0.8966 - val_loss: 0.6536 - val_accuracy: 0.7500\n",
      "Epoch 437/500\n",
      "15/15 [==============================] - 0s 8ms/step - loss: 0.2845 - accuracy: 0.8945 - val_loss: 0.6546 - val_accuracy: 0.7500\n",
      "Epoch 438/500\n",
      "15/15 [==============================] - 0s 8ms/step - loss: 0.2838 - accuracy: 0.8945 - val_loss: 0.6545 - val_accuracy: 0.7500\n",
      "Epoch 439/500\n",
      "15/15 [==============================] - 0s 8ms/step - loss: 0.2835 - accuracy: 0.8966 - val_loss: 0.6526 - val_accuracy: 0.7500\n",
      "Epoch 440/500\n",
      "15/15 [==============================] - 0s 8ms/step - loss: 0.2832 - accuracy: 0.8966 - val_loss: 0.6523 - val_accuracy: 0.7451\n",
      "Epoch 441/500\n",
      "15/15 [==============================] - 0s 8ms/step - loss: 0.2832 - accuracy: 0.8966 - val_loss: 0.6537 - val_accuracy: 0.7500\n",
      "Epoch 442/500\n",
      "15/15 [==============================] - 0s 8ms/step - loss: 0.2830 - accuracy: 0.8966 - val_loss: 0.6530 - val_accuracy: 0.7500\n",
      "Epoch 443/500\n",
      "15/15 [==============================] - 0s 8ms/step - loss: 0.2829 - accuracy: 0.8966 - val_loss: 0.6531 - val_accuracy: 0.7451\n",
      "Epoch 444/500\n",
      "15/15 [==============================] - 0s 8ms/step - loss: 0.2830 - accuracy: 0.8966 - val_loss: 0.6517 - val_accuracy: 0.7500\n",
      "Epoch 445/500\n",
      "15/15 [==============================] - 0s 8ms/step - loss: 0.2827 - accuracy: 0.8966 - val_loss: 0.6529 - val_accuracy: 0.7500\n",
      "Epoch 446/500\n",
      "15/15 [==============================] - 0s 8ms/step - loss: 0.2822 - accuracy: 0.8966 - val_loss: 0.6533 - val_accuracy: 0.7500\n",
      "Epoch 447/500\n",
      "15/15 [==============================] - 0s 8ms/step - loss: 0.2820 - accuracy: 0.8966 - val_loss: 0.6534 - val_accuracy: 0.7500\n",
      "Epoch 448/500\n",
      "15/15 [==============================] - 0s 8ms/step - loss: 0.2823 - accuracy: 0.8966 - val_loss: 0.6518 - val_accuracy: 0.7500\n",
      "Epoch 449/500\n",
      "15/15 [==============================] - 0s 8ms/step - loss: 0.2818 - accuracy: 0.8987 - val_loss: 0.6521 - val_accuracy: 0.7500\n",
      "Epoch 450/500\n",
      "15/15 [==============================] - 0s 8ms/step - loss: 0.2814 - accuracy: 0.8987 - val_loss: 0.6526 - val_accuracy: 0.7500\n",
      "Epoch 451/500\n",
      "15/15 [==============================] - 0s 8ms/step - loss: 0.2818 - accuracy: 0.8945 - val_loss: 0.6524 - val_accuracy: 0.7451\n",
      "Epoch 452/500\n",
      "15/15 [==============================] - 0s 8ms/step - loss: 0.2814 - accuracy: 0.8966 - val_loss: 0.6529 - val_accuracy: 0.7451\n",
      "Epoch 453/500\n",
      "15/15 [==============================] - 0s 8ms/step - loss: 0.2815 - accuracy: 0.8987 - val_loss: 0.6515 - val_accuracy: 0.7500\n",
      "Epoch 454/500\n",
      "15/15 [==============================] - 0s 8ms/step - loss: 0.2815 - accuracy: 0.8987 - val_loss: 0.6513 - val_accuracy: 0.7500\n",
      "Epoch 455/500\n",
      "15/15 [==============================] - 0s 8ms/step - loss: 0.2806 - accuracy: 0.8966 - val_loss: 0.6537 - val_accuracy: 0.7500\n",
      "Epoch 456/500\n",
      "15/15 [==============================] - 0s 8ms/step - loss: 0.2805 - accuracy: 0.8966 - val_loss: 0.6534 - val_accuracy: 0.7500\n",
      "Epoch 457/500\n",
      "15/15 [==============================] - 0s 8ms/step - loss: 0.2803 - accuracy: 0.8966 - val_loss: 0.6536 - val_accuracy: 0.7549\n",
      "Epoch 458/500\n",
      "15/15 [==============================] - 0s 8ms/step - loss: 0.2806 - accuracy: 0.8987 - val_loss: 0.6510 - val_accuracy: 0.7500\n",
      "Epoch 459/500\n",
      "15/15 [==============================] - 0s 8ms/step - loss: 0.2800 - accuracy: 0.9008 - val_loss: 0.6521 - val_accuracy: 0.7500\n",
      "Epoch 460/500\n"
     ]
    },
    {
     "name": "stdout",
     "output_type": "stream",
     "text": [
      "15/15 [==============================] - 0s 8ms/step - loss: 0.2801 - accuracy: 0.8966 - val_loss: 0.6531 - val_accuracy: 0.7500\n",
      "Epoch 461/500\n",
      "15/15 [==============================] - 0s 8ms/step - loss: 0.2803 - accuracy: 0.8966 - val_loss: 0.6539 - val_accuracy: 0.7451\n",
      "Epoch 462/500\n",
      "15/15 [==============================] - 0s 8ms/step - loss: 0.2804 - accuracy: 0.8987 - val_loss: 0.6504 - val_accuracy: 0.7549\n",
      "Epoch 463/500\n",
      "15/15 [==============================] - 0s 8ms/step - loss: 0.2796 - accuracy: 0.8987 - val_loss: 0.6521 - val_accuracy: 0.7500\n",
      "Epoch 464/500\n",
      "15/15 [==============================] - 0s 8ms/step - loss: 0.2798 - accuracy: 0.8945 - val_loss: 0.6524 - val_accuracy: 0.7500\n",
      "Epoch 465/500\n",
      "15/15 [==============================] - 0s 8ms/step - loss: 0.2792 - accuracy: 0.8945 - val_loss: 0.6523 - val_accuracy: 0.7500\n",
      "Epoch 466/500\n",
      "15/15 [==============================] - 0s 8ms/step - loss: 0.2791 - accuracy: 0.8987 - val_loss: 0.6512 - val_accuracy: 0.7500\n",
      "Epoch 467/500\n",
      "15/15 [==============================] - 0s 8ms/step - loss: 0.2786 - accuracy: 0.9008 - val_loss: 0.6515 - val_accuracy: 0.7500\n",
      "Epoch 468/500\n",
      "15/15 [==============================] - 0s 8ms/step - loss: 0.2792 - accuracy: 0.8966 - val_loss: 0.6518 - val_accuracy: 0.7500\n",
      "Epoch 469/500\n",
      "15/15 [==============================] - 0s 8ms/step - loss: 0.2786 - accuracy: 0.8945 - val_loss: 0.6546 - val_accuracy: 0.7500\n",
      "Epoch 470/500\n",
      "15/15 [==============================] - 0s 8ms/step - loss: 0.2782 - accuracy: 0.8945 - val_loss: 0.6529 - val_accuracy: 0.7500\n",
      "Epoch 471/500\n",
      "15/15 [==============================] - 0s 8ms/step - loss: 0.2780 - accuracy: 0.8966 - val_loss: 0.6513 - val_accuracy: 0.7500\n",
      "Epoch 472/500\n",
      "15/15 [==============================] - 0s 8ms/step - loss: 0.2781 - accuracy: 0.9008 - val_loss: 0.6506 - val_accuracy: 0.7500\n",
      "Epoch 473/500\n",
      "15/15 [==============================] - 0s 8ms/step - loss: 0.2778 - accuracy: 0.9008 - val_loss: 0.6505 - val_accuracy: 0.7549\n",
      "Epoch 474/500\n",
      "15/15 [==============================] - 0s 8ms/step - loss: 0.2775 - accuracy: 0.8987 - val_loss: 0.6527 - val_accuracy: 0.7500\n",
      "Epoch 475/500\n",
      "15/15 [==============================] - 0s 8ms/step - loss: 0.2782 - accuracy: 0.8966 - val_loss: 0.6527 - val_accuracy: 0.7500\n",
      "Epoch 476/500\n",
      "15/15 [==============================] - 0s 8ms/step - loss: 0.2775 - accuracy: 0.8945 - val_loss: 0.6530 - val_accuracy: 0.7500\n",
      "Epoch 477/500\n",
      "15/15 [==============================] - 0s 8ms/step - loss: 0.2768 - accuracy: 0.8966 - val_loss: 0.6511 - val_accuracy: 0.7500\n",
      "Epoch 478/500\n",
      "15/15 [==============================] - 0s 8ms/step - loss: 0.2768 - accuracy: 0.8987 - val_loss: 0.6512 - val_accuracy: 0.7500\n",
      "Epoch 479/500\n",
      "15/15 [==============================] - 0s 8ms/step - loss: 0.2771 - accuracy: 0.9008 - val_loss: 0.6499 - val_accuracy: 0.7549\n",
      "Epoch 480/500\n",
      "15/15 [==============================] - 0s 8ms/step - loss: 0.2764 - accuracy: 0.9008 - val_loss: 0.6514 - val_accuracy: 0.7500\n",
      "Epoch 481/500\n",
      "15/15 [==============================] - 0s 8ms/step - loss: 0.2770 - accuracy: 0.8966 - val_loss: 0.6512 - val_accuracy: 0.7500\n",
      "Epoch 482/500\n",
      "15/15 [==============================] - 0s 8ms/step - loss: 0.2765 - accuracy: 0.8966 - val_loss: 0.6525 - val_accuracy: 0.7500\n",
      "Epoch 483/500\n",
      "15/15 [==============================] - 0s 8ms/step - loss: 0.2763 - accuracy: 0.8966 - val_loss: 0.6511 - val_accuracy: 0.7500\n",
      "Epoch 484/500\n",
      "15/15 [==============================] - 0s 8ms/step - loss: 0.2761 - accuracy: 0.8987 - val_loss: 0.6505 - val_accuracy: 0.7500\n",
      "Epoch 485/500\n",
      "15/15 [==============================] - 0s 8ms/step - loss: 0.2758 - accuracy: 0.8987 - val_loss: 0.6510 - val_accuracy: 0.7500\n",
      "Epoch 486/500\n",
      "15/15 [==============================] - 0s 8ms/step - loss: 0.2759 - accuracy: 0.8966 - val_loss: 0.6523 - val_accuracy: 0.7500\n",
      "Epoch 487/500\n",
      "15/15 [==============================] - 0s 8ms/step - loss: 0.2766 - accuracy: 0.8945 - val_loss: 0.6531 - val_accuracy: 0.7598\n",
      "Epoch 488/500\n",
      "15/15 [==============================] - 0s 8ms/step - loss: 0.2755 - accuracy: 0.8966 - val_loss: 0.6501 - val_accuracy: 0.7549\n",
      "Epoch 489/500\n",
      "15/15 [==============================] - 0s 8ms/step - loss: 0.2755 - accuracy: 0.8966 - val_loss: 0.6488 - val_accuracy: 0.7500\n",
      "Epoch 490/500\n",
      "15/15 [==============================] - 0s 8ms/step - loss: 0.2752 - accuracy: 0.8987 - val_loss: 0.6519 - val_accuracy: 0.7500\n",
      "Epoch 491/500\n",
      "15/15 [==============================] - 0s 8ms/step - loss: 0.2749 - accuracy: 0.8987 - val_loss: 0.6501 - val_accuracy: 0.7500\n",
      "Epoch 492/500\n",
      "15/15 [==============================] - 0s 8ms/step - loss: 0.2752 - accuracy: 0.9008 - val_loss: 0.6509 - val_accuracy: 0.7500\n",
      "Epoch 493/500\n",
      "15/15 [==============================] - 0s 8ms/step - loss: 0.2745 - accuracy: 0.9008 - val_loss: 0.6498 - val_accuracy: 0.7549\n",
      "Epoch 494/500\n",
      "15/15 [==============================] - 0s 8ms/step - loss: 0.2743 - accuracy: 0.8987 - val_loss: 0.6515 - val_accuracy: 0.7500\n",
      "Epoch 495/500\n",
      "15/15 [==============================] - 0s 8ms/step - loss: 0.2746 - accuracy: 0.9030 - val_loss: 0.6501 - val_accuracy: 0.7500\n",
      "Epoch 496/500\n",
      "15/15 [==============================] - 0s 8ms/step - loss: 0.2743 - accuracy: 0.9008 - val_loss: 0.6507 - val_accuracy: 0.7500\n",
      "Epoch 497/500\n",
      "15/15 [==============================] - 0s 8ms/step - loss: 0.2739 - accuracy: 0.9008 - val_loss: 0.6512 - val_accuracy: 0.7500\n",
      "Epoch 498/500\n",
      "15/15 [==============================] - 0s 8ms/step - loss: 0.2738 - accuracy: 0.8987 - val_loss: 0.6494 - val_accuracy: 0.7549\n",
      "Epoch 499/500\n",
      "15/15 [==============================] - 0s 8ms/step - loss: 0.2743 - accuracy: 0.9008 - val_loss: 0.6510 - val_accuracy: 0.7500\n",
      "Epoch 500/500\n",
      "15/15 [==============================] - 0s 8ms/step - loss: 0.2734 - accuracy: 0.8987 - val_loss: 0.6510 - val_accuracy: 0.7500\n"
     ]
    },
    {
     "data": {
      "text/plain": [
       "<keras.callbacks.History at 0x2b5806b20>"
      ]
     },
     "execution_count": 57,
     "metadata": {},
     "output_type": "execute_result"
    }
   ],
   "source": [
    "X_train_trm = trained_model.predict(x_train.reshape(-1,im_size,im_size,channels))\n",
    "X_test_trm = trained_model.predict(x_test.reshape(-1,im_size,im_size,channels))\n",
    "\n",
    "Classifier_input = Input((128,))\n",
    "Classifier_output = Dense(5, activation='softmax')(Classifier_input)\n",
    "Classifier_model = Model(Classifier_input, Classifier_output)\n",
    "\n",
    "\n",
    "Classifier_model.compile(optimizer='adam',loss='categorical_crossentropy',metrics=['accuracy'])\n",
    "\n",
    "Classifier_model.fit(X_train_trm, y_train_onehot, validation_data=(X_test_trm,y_test_onehot), epochs=500)"
   ]
  },
  {
   "cell_type": "code",
   "execution_count": 58,
   "metadata": {},
   "outputs": [
    {
     "name": "stderr",
     "output_type": "stream",
     "text": [
      "2022-06-30 20:53:44.863883: I tensorflow/core/grappler/optimizers/custom_graph_optimizer_registry.cc:112] Plugin optimizer for device_type GPU is enabled.\n"
     ]
    }
   ],
   "source": [
    "# load test data\n",
    "#testdata = DataLoader(\"ViT\")\n",
    "#testdata.load_data(\"/Users/marcosplazagonzalez/Desktop/Ground-based_CloudClassification/Datasets/FabraSwimcatClean_TrainTest/test\", im_size, channels)\n",
    "\n",
    "# predict with the trained_model (triplet loss model) to obtain the embeddings\n",
    "X_datatest_trm = trained_model.predict(x_test.reshape(-1,im_size,im_size,channels))\n",
    "\n",
    "# once we have the embeddings (flattened matrices of dimension 100) we have to do the predict with the last classifier\n",
    "y_pred = Classifier_model.predict(X_datatest_trm)"
   ]
  },
  {
   "cell_type": "code",
   "execution_count": 59,
   "metadata": {},
   "outputs": [
    {
     "data": {
      "text/plain": [
       "array([[0, 0, 0, 0, 1],\n",
       "       [0, 0, 1, 0, 0],\n",
       "       [0, 1, 0, 0, 0],\n",
       "       ...,\n",
       "       [1, 0, 0, 0, 0],\n",
       "       [0, 0, 0, 1, 0],\n",
       "       [0, 0, 0, 1, 0]])"
      ]
     },
     "execution_count": 59,
     "metadata": {},
     "output_type": "execute_result"
    }
   ],
   "source": [
    "y_test_onehot"
   ]
  },
  {
   "cell_type": "code",
   "execution_count": 60,
   "metadata": {},
   "outputs": [],
   "source": [
    "y_predonehot = le.fit_transform(y_pred.argmax(axis=1))"
   ]
  },
  {
   "cell_type": "code",
   "execution_count": 61,
   "metadata": {},
   "outputs": [
    {
     "data": {
      "text/plain": [
       "array([[0, 0, 0, 0, 1],\n",
       "       [0, 0, 1, 0, 0],\n",
       "       [0, 1, 0, 0, 0],\n",
       "       ...,\n",
       "       [1, 0, 0, 0, 0],\n",
       "       [0, 1, 0, 0, 0],\n",
       "       [0, 0, 0, 1, 0]])"
      ]
     },
     "execution_count": 61,
     "metadata": {},
     "output_type": "execute_result"
    }
   ],
   "source": [
    "y_predonehot"
   ]
  },
  {
   "cell_type": "code",
   "execution_count": 62,
   "metadata": {},
   "outputs": [
    {
     "data": {
      "text/plain": [
       "5"
      ]
     },
     "execution_count": 62,
     "metadata": {},
     "output_type": "execute_result"
    }
   ],
   "source": [
    "len(y_test_onehot[1])"
   ]
  },
  {
   "cell_type": "code",
   "execution_count": 63,
   "metadata": {},
   "outputs": [
    {
     "data": {
      "text/plain": [
       "5"
      ]
     },
     "execution_count": 63,
     "metadata": {},
     "output_type": "execute_result"
    }
   ],
   "source": [
    "len(y_predonehot[1])"
   ]
  },
  {
   "cell_type": "code",
   "execution_count": 64,
   "metadata": {},
   "outputs": [
    {
     "data": {
      "text/plain": [
       "0.75"
      ]
     },
     "execution_count": 64,
     "metadata": {},
     "output_type": "execute_result"
    }
   ],
   "source": [
    "n = 0\n",
    "total = y_test_onehot.shape[0]\n",
    "for i in range(total):\n",
    "    if (y_test_onehot[i] == y_predonehot[i]).all():\n",
    "        n += 1\n",
    "        \n",
    "n / total"
   ]
  },
  {
   "cell_type": "code",
   "execution_count": 65,
   "metadata": {},
   "outputs": [
    {
     "data": {
      "image/png": "[encoded data removed]",
      "text/plain": [
       "<Figure size 432x288 with 1 Axes>"
      ]
     },
     "metadata": {
      "needs_background": "light"
     },
     "output_type": "display_data"
    }
   ],
   "source": [
    "# todo reformar\n",
    "from sklearn.metrics import confusion_matrix, ConfusionMatrixDisplay, classification_report\n",
    "from IPython.display import display, HTML\n",
    "\n",
    "matrix = confusion_matrix(y_test_onehot.argmax(axis=1), y_predonehot.argmax(axis=1))\n",
    "disp = ConfusionMatrixDisplay(confusion_matrix=matrix, display_labels=data.class_names)\n",
    "disp.plot(colorbar=False, cmap='plasma', xticks_rotation='vertical')\n",
    "plt.title(\"Confusion matrix on SWIMCAT's clategories for CCSN\")\n",
    "plt.show()"
   ]
  },
  {
   "cell_type": "code",
   "execution_count": null,
   "metadata": {},
   "outputs": [],
   "source": []
  }
 ],
 "metadata": {
  "kernelspec": {
   "display_name": "Python 3 (ipykernel)",
   "language": "python",
   "name": "python3"
  },
  "language_info": {
   "codemirror_mode": {
    "name": "ipython",
    "version": 3
   },
   "file_extension": ".py",
   "mimetype": "text/x-python",
   "name": "python",
   "nbconvert_exporter": "python",
   "pygments_lexer": "ipython3",
   "version": "3.9.13"
  }
 },
 "nbformat": 4,
 "nbformat_minor": 2
}
