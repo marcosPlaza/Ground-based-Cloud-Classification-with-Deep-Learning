{
 "cells": [
  {
   "cell_type": "code",
   "execution_count": 1,
   "id": "c9fb933f",
   "metadata": {},
   "outputs": [],
   "source": [
    "import numpy as np \n",
    "import pandas as pd \n",
    "import seaborn as sns\n",
    "import matplotlib.pyplot as plt\n",
    "import os\n",
    "import datetime\n",
    "import warnings\n",
    "warnings.filterwarnings('ignore')\n",
    "import imageio\n",
    "from skimage import transform,io\n",
    "import keras\n",
    "import tensorflow as tf\n",
    "from tensorflow.keras.applications import MobileNetV2\n",
    "from keras.models import Sequential\n",
    "from keras.layers import Dense, Conv2D, MaxPool2D , Flatten, Dropout\n",
    "from keras.preprocessing.image import ImageDataGenerator\n",
    "from keras.callbacks import ModelCheckpoint, EarlyStopping, LearningRateScheduler, TensorBoard\n",
    "from tensorflow.keras.optimizers import Adam, SGD, RMSprop\n",
    "import math\n",
    "from sklearn.model_selection import train_test_split\n",
    "import pickle\n",
    "from tensorflow.keras.models import Model, load_model\n",
    "from keras.preprocessing.image import ImageDataGenerator\n",
    "from tensorflow.keras.applications.mobilenet_v2 import preprocess_input"
   ]
  },
  {
   "cell_type": "code",
   "execution_count": 2,
   "id": "c12b23dc",
   "metadata": {},
   "outputs": [],
   "source": [
    "def get_dummies(labels, class_name, index):\n",
    "    dummy_arr = np.zeros((len(labels)))\n",
    "    dummy_arr[index] += 1\n",
    "    return dummy_arr"
   ]
  },
  {
   "cell_type": "code",
   "execution_count": 3,
   "id": "329d553d",
   "metadata": {},
   "outputs": [],
   "source": [
    "#@title Data tools V2 -> Preprocess test!\n",
    "def mobilenet_v2_preprocessing(X_input):\n",
    "    X_input = np.array(X_input)\n",
    "    for i in range(0,X_input.shape[0]):\n",
    "        x = X_train[i,:,:,:]\n",
    "        x = np.expand_dims(x, axis=0)\n",
    "        X_input[i,] = preprocess_input(x)\n",
    "    return X_input"
   ]
  },
  {
   "cell_type": "code",
   "execution_count": 4,
   "id": "c0df25ab",
   "metadata": {},
   "outputs": [],
   "source": [
    "def load_and_split_data():\n",
    "    N = 0\n",
    "    labels = []\n",
    "\n",
    "    for dirname, _, filenames in os.walk('./train/'):\n",
    "        for filename in filenames:\n",
    "            path = os.path.join(dirname, filename)\n",
    "            splits = dirname.split('/')\n",
    "            N += 1\n",
    "            class_name = splits[-1]\n",
    "\n",
    "            if class_name not in labels and class_name != '': labels.append(splits[-1])\n",
    "\n",
    "    labels = np.array(labels)\n",
    "\n",
    "    count = 0\n",
    "\n",
    "    im_size = 224\n",
    "\n",
    "    X1 = np.zeros((N, im_size, im_size, 3))\n",
    "    y1 = np.zeros((N, len(labels)))\n",
    "\n",
    "    for dirname, _, filenames in os.walk('./train/'):\n",
    "        for filename in filenames:\n",
    "            if filename == '.DS_Store': continue\n",
    "\n",
    "            path = os.path.join(dirname, filename)        \n",
    "            l = path.split('/')[-2]\n",
    "\n",
    "            im = imageio.imread(path)/255. # normalize images\n",
    "            X1[count, :, :] = transform.resize(im, (im_size, im_size, 3), mode='symmetric', preserve_range=True) # downsampling original image\n",
    "            y1[count, :] = get_dummies(labels, l, np.where(labels == l)[0][0])\n",
    "\n",
    "            count +=1\n",
    "            \n",
    "    # create data generator\n",
    "    datagen = ImageDataGenerator( zoom_range=0.35, # zoom\n",
    "            horizontal_flip=True, # horizontal flip\n",
    "            brightness_range=[0.7,1.5]) # brightness\n",
    "\n",
    "    # fit parameters from data\n",
    "    datagen.fit(X1)\n",
    "\n",
    "    X2 = np.zeros((N, im_size, im_size, 3))\n",
    "    y2 = np.zeros((N, len(labels)))\n",
    "\n",
    "    # Configure batch size and retrieve one batch of images\n",
    "    for X_batch, y_batch in datagen.flow(X1, y1, batch_size=N):\n",
    "        for i in range(0, N, 1):\n",
    "            X2[i,:,:,:] = X_batch[i].reshape(im_size,im_size,3)/255.\n",
    "            y2[i] = y_batch[i]\n",
    "        # De esta manera paramos de generar imagenes aleatoriamente\n",
    "        break\n",
    "        \n",
    "    X3 = np.zeros((N, im_size, im_size, 3))\n",
    "    y3 = np.zeros((N, len(labels)))\n",
    "\n",
    "    # Configure batch size and retrieve one batch of images\n",
    "    for X_batch, y_batch in datagen.flow(X1, y1, batch_size=N):\n",
    "        for i in range(0, N, 1):\n",
    "            X3[i,:,:,:] = X_batch[i].reshape(im_size,im_size,3)/255.\n",
    "            y3[i] = y_batch[i]\n",
    "        # De esta manera paramos de generar imagenes aleatoriamente\n",
    "        break\n",
    "        \n",
    "    X4 = np.zeros((N, im_size, im_size, 3))\n",
    "    y4 = np.zeros((N, len(labels)))\n",
    "\n",
    "    # Configure batch size and retrieve one batch of images\n",
    "    for X_batch, y_batch in datagen.flow(X1, y1, batch_size=N):\n",
    "        for i in range(0, N, 1):\n",
    "            X4[i,:,:,:] = X_batch[i].reshape(im_size,im_size,3)/255.\n",
    "            y4[i] = y_batch[i]\n",
    "        # De esta manera paramos de generar imagenes aleatoriamente\n",
    "        break\n",
    "        \n",
    "    X5 = np.zeros((N, im_size, im_size, 3))\n",
    "    y5 = np.zeros((N, len(labels)))\n",
    "\n",
    "    # Configure batch size and retrieve one batch of images\n",
    "    for X_batch, y_batch in datagen.flow(X1, y1, batch_size=N):\n",
    "        for i in range(0, N, 1):\n",
    "            X5[i,:,:,:] = X_batch[i].reshape(im_size,im_size,3)/255.\n",
    "            y5[i] = y_batch[i]\n",
    "        # De esta manera paramos de generar imagenes aleatoriamente\n",
    "        break\n",
    "    \n",
    "    X = np.concatenate((X1,X2,X3,X4,X5))\n",
    "    y = np.concatenate((y1,y2,y3,y4,y5))\n",
    "\n",
    "    X_train, X_val, y_train, y_val = train_test_split(X, y, test_size=0.25, random_state=42)\n",
    "    print(\"X_train shape: \", X_train.shape)\n",
    "    print(\"y_train shape: \", y_train.shape)\n",
    "    print(\"X_val shape: \", X_val.shape)\n",
    "    print(\"y_val shape: \", y_val.shape)\n",
    "    \n",
    "    return X_train, X_val, y_train, y_val"
   ]
  },
  {
   "cell_type": "code",
   "execution_count": 5,
   "id": "47c71ff9",
   "metadata": {},
   "outputs": [
    {
     "name": "stdout",
     "output_type": "stream",
     "text": [
      "X_train shape:  (8715, 224, 224, 3)\n",
      "y_train shape:  (8715, 11)\n",
      "X_val shape:  (2905, 224, 224, 3)\n",
      "y_val shape:  (2905, 11)\n"
     ]
    }
   ],
   "source": [
    "X_train, X_val, y_train, y_val = load_and_split_data()\n"
   ]
  },
  {
   "cell_type": "code",
   "execution_count": 6,
   "id": "b28adbe3",
   "metadata": {},
   "outputs": [],
   "source": [
    "#@title Learning rate schedulers\n",
    "class LearningRateDecay:\n",
    "    def plot(self, epochs, title=\"Learning Rate Schedule\"):\n",
    "        # compute the set of learning rates for each corresponding\n",
    "        # epoch\n",
    "        lrs = [self(i) for i in epochs]\n",
    "        # the learning rate schedule\n",
    "        plt.style.use(\"ggplot\")\n",
    "        plt.figure()\n",
    "        plt.plot(epochs, lrs)\n",
    "        plt.title(title)\n",
    "        plt.xlabel(\"Epoch #\")\n",
    "        plt.ylabel(\"Learning Rate\")\n",
    "        \n",
    "class StepDecay(LearningRateDecay):\n",
    "    def __init__(self, initAlpha=1e-5, factor=0.5, dropEvery=10):\n",
    "        # store the base initial learning rate, drop factor, and\n",
    "        # epochs to drop every\n",
    "        self.initAlpha = initAlpha\n",
    "        self.factor = factor\n",
    "        self.dropEvery = dropEvery\n",
    "        \n",
    "    def __call__(self, epoch):\n",
    "        # compute the learning rate for the current epoch\n",
    "        exp = np.floor((1 + epoch) / self.dropEvery)\n",
    "        alpha = self.initAlpha * (self.factor ** exp)\n",
    "        \n",
    "        # return the learning rate\n",
    "        return float(alpha)"
   ]
  },
  {
   "cell_type": "code",
   "execution_count": 7,
   "id": "34b39563",
   "metadata": {},
   "outputs": [
    {
     "name": "stdout",
     "output_type": "stream",
     "text": [
      "Metal device set to: Apple M1 Pro\n"
     ]
    },
    {
     "name": "stderr",
     "output_type": "stream",
     "text": [
      "2022-03-16 11:44:10.184115: I tensorflow/core/common_runtime/pluggable_device/pluggable_device_factory.cc:305] Could not identify NUMA node of platform GPU ID 0, defaulting to 0. Your kernel may not have been built with NUMA support.\n",
      "2022-03-16 11:44:10.184270: I tensorflow/core/common_runtime/pluggable_device/pluggable_device_factory.cc:271] Created TensorFlow device (/job:localhost/replica:0/task:0/device:GPU:0 with 0 MB memory) -> physical PluggableDevice (device: 0, name: METAL, pci bus id: <undefined>)\n"
     ]
    }
   ],
   "source": [
    "saved_autoencoder = load_model('autoencoderX.h5')"
   ]
  },
  {
   "cell_type": "code",
   "execution_count": 8,
   "id": "e854b930",
   "metadata": {},
   "outputs": [
    {
     "name": "stdout",
     "output_type": "stream",
     "text": [
      "Model: \"sequential\"\n",
      "_________________________________________________________________\n",
      "Layer (type)                 Output Shape              Param #   \n",
      "=================================================================\n",
      "conv2d (Conv2D)              (None, 224, 224, 64)      1792      \n",
      "_________________________________________________________________\n",
      "max_pooling2d (MaxPooling2D) (None, 112, 112, 64)      0         \n",
      "_________________________________________________________________\n",
      "conv2d_1 (Conv2D)            (None, 112, 112, 32)      18464     \n",
      "_________________________________________________________________\n",
      "max_pooling2d_1 (MaxPooling2 (None, 56, 56, 32)        0         \n",
      "_________________________________________________________________\n",
      "conv2d_2 (Conv2D)            (None, 56, 56, 32)        9248      \n",
      "_________________________________________________________________\n",
      "max_pooling2d_2 (MaxPooling2 (None, 28, 28, 32)        0         \n",
      "_________________________________________________________________\n",
      "conv2d_3 (Conv2D)            (None, 28, 28, 32)        9248      \n",
      "_________________________________________________________________\n",
      "max_pooling2d_3 (MaxPooling2 (None, 14, 14, 32)        0         \n",
      "_________________________________________________________________\n",
      "conv2d_4 (Conv2D)            (None, 14, 14, 32)        9248      \n",
      "_________________________________________________________________\n",
      "up_sampling2d (UpSampling2D) (None, 28, 28, 32)        0         \n",
      "_________________________________________________________________\n",
      "conv2d_5 (Conv2D)            (None, 28, 28, 32)        9248      \n",
      "_________________________________________________________________\n",
      "up_sampling2d_1 (UpSampling2 (None, 56, 56, 32)        0         \n",
      "_________________________________________________________________\n",
      "conv2d_6 (Conv2D)            (None, 56, 56, 32)        9248      \n",
      "_________________________________________________________________\n",
      "up_sampling2d_2 (UpSampling2 (None, 112, 112, 32)      0         \n",
      "_________________________________________________________________\n",
      "conv2d_7 (Conv2D)            (None, 112, 112, 64)      18496     \n",
      "_________________________________________________________________\n",
      "up_sampling2d_3 (UpSampling2 (None, 224, 224, 64)      0         \n",
      "_________________________________________________________________\n",
      "conv2d_8 (Conv2D)            (None, 224, 224, 3)       1731      \n",
      "=================================================================\n",
      "Total params: 86,723\n",
      "Trainable params: 86,723\n",
      "Non-trainable params: 0\n",
      "_________________________________________________________________\n"
     ]
    }
   ],
   "source": [
    "saved_autoencoder.summary()"
   ]
  },
  {
   "cell_type": "code",
   "execution_count": 9,
   "id": "93da34bd",
   "metadata": {},
   "outputs": [
    {
     "name": "stdout",
     "output_type": "stream",
     "text": [
      "<keras.layers.convolutional.Conv2D object at 0x161579190>\n",
      "<keras.layers.pooling.MaxPooling2D object at 0x1616351f0>\n",
      "<keras.layers.convolutional.Conv2D object at 0x16166e3a0>\n",
      "<keras.layers.pooling.MaxPooling2D object at 0x1616810d0>\n",
      "<keras.layers.convolutional.Conv2D object at 0x161685310>\n",
      "<keras.layers.pooling.MaxPooling2D object at 0x161681580>\n",
      "<keras.layers.convolutional.Conv2D object at 0x16168c430>\n",
      "<keras.layers.pooling.MaxPooling2D object at 0x1616910d0>\n",
      "<keras.layers.convolutional.Conv2D object at 0x161691b50>\n",
      "<keras.layers.convolutional.UpSampling2D object at 0x16168c160>\n",
      "<keras.layers.convolutional.Conv2D object at 0x161635e80>\n",
      "<keras.layers.convolutional.UpSampling2D object at 0x161699d90>\n",
      "<keras.layers.convolutional.Conv2D object at 0x161699c10>\n",
      "<keras.layers.convolutional.UpSampling2D object at 0x16169dcd0>\n",
      "<keras.layers.convolutional.Conv2D object at 0x16169fd90>\n",
      "<keras.layers.convolutional.UpSampling2D object at 0x16169fca0>\n",
      "<keras.layers.convolutional.Conv2D object at 0x1616a62b0>\n"
     ]
    }
   ],
   "source": [
    "for l in saved_autoencoder.layers:\n",
    "    print(l)\n",
    "    l.trainable = False"
   ]
  },
  {
   "cell_type": "code",
   "execution_count": 10,
   "id": "89632137",
   "metadata": {},
   "outputs": [],
   "source": [
    "activation = \"relu\"\n",
    "classifier_model = keras.Sequential()\n",
    "\n",
    "# inicio encoder\n",
    "classifier_model.add(saved_autoencoder.layers[0])\n",
    "classifier_model.add(saved_autoencoder.layers[1])\n",
    "classifier_model.add(saved_autoencoder.layers[2])\n",
    "classifier_model.add(saved_autoencoder.layers[3])\n",
    "classifier_model.add(saved_autoencoder.layers[4])\n",
    "classifier_model.add(saved_autoencoder.layers[5])\n",
    "classifier_model.add(saved_autoencoder.layers[6])\n",
    "classifier_model.add(saved_autoencoder.layers[7])\n",
    "\n",
    "# final encoder \n",
    "classifier_model.add(Flatten())\n",
    "classifier_model.add(Dropout(0.5)) \n",
    "classifier_model.add(Dense(units=128,activation=activation))\n",
    "classifier_model.add(Dense(units=11, activation=\"softmax\"))"
   ]
  },
  {
   "cell_type": "code",
   "execution_count": 11,
   "id": "12fb20aa",
   "metadata": {},
   "outputs": [],
   "source": [
    "initial_lr = 1e-3"
   ]
  },
  {
   "cell_type": "code",
   "execution_count": 12,
   "id": "553c1065",
   "metadata": {},
   "outputs": [],
   "source": [
    "#compile model using accuracy to measure model performance\n",
    "classifier_model.compile(loss='categorical_crossentropy', optimizer=Adam(learning_rate=initial_lr), metrics=['accuracy'])"
   ]
  },
  {
   "cell_type": "code",
   "execution_count": 13,
   "id": "eaa436c1",
   "metadata": {},
   "outputs": [
    {
     "name": "stdout",
     "output_type": "stream",
     "text": [
      "Model: \"sequential\"\n",
      "_________________________________________________________________\n",
      "Layer (type)                 Output Shape              Param #   \n",
      "=================================================================\n",
      "conv2d (Conv2D)              (None, 224, 224, 64)      1792      \n",
      "_________________________________________________________________\n",
      "max_pooling2d (MaxPooling2D) (None, 112, 112, 64)      0         \n",
      "_________________________________________________________________\n",
      "conv2d_1 (Conv2D)            (None, 112, 112, 32)      18464     \n",
      "_________________________________________________________________\n",
      "max_pooling2d_1 (MaxPooling2 (None, 56, 56, 32)        0         \n",
      "_________________________________________________________________\n",
      "conv2d_2 (Conv2D)            (None, 56, 56, 32)        9248      \n",
      "_________________________________________________________________\n",
      "max_pooling2d_2 (MaxPooling2 (None, 28, 28, 32)        0         \n",
      "_________________________________________________________________\n",
      "conv2d_3 (Conv2D)            (None, 28, 28, 32)        9248      \n",
      "_________________________________________________________________\n",
      "max_pooling2d_3 (MaxPooling2 (None, 14, 14, 32)        0         \n",
      "_________________________________________________________________\n",
      "flatten (Flatten)            (None, 6272)              0         \n",
      "_________________________________________________________________\n",
      "dropout (Dropout)            (None, 6272)              0         \n",
      "_________________________________________________________________\n",
      "dense (Dense)                (None, 128)               802944    \n",
      "_________________________________________________________________\n",
      "dense_1 (Dense)              (None, 11)                1419      \n",
      "=================================================================\n",
      "Total params: 843,115\n",
      "Trainable params: 804,363\n",
      "Non-trainable params: 38,752\n",
      "_________________________________________________________________\n"
     ]
    }
   ],
   "source": [
    "classifier_model.summary()"
   ]
  },
  {
   "cell_type": "markdown",
   "id": "c0879e29",
   "metadata": {},
   "source": [
    "### Stage 1"
   ]
  },
  {
   "cell_type": "code",
   "execution_count": 14,
   "id": "7bfec1e4",
   "metadata": {},
   "outputs": [],
   "source": [
    "epochs = 50\n",
    "batch_size = 32 # todo set to 64\n",
    "steps_per_epoch = len(X_train)//batch_size\n",
    "validation_steps = len(X_val)//batch_size"
   ]
  },
  {
   "cell_type": "code",
   "execution_count": 15,
   "id": "161b0da0",
   "metadata": {},
   "outputs": [
    {
     "name": "stdout",
     "output_type": "stream",
     "text": [
      "WARNING:tensorflow:`period` argument is deprecated. Please use `save_freq` to specify the frequency in number of batches seen.\n"
     ]
    }
   ],
   "source": [
    "mc = ModelCheckpoint(\"stage1_autoencoderX.h5\", monitor='val_accuracy', verbose=1, save_best_only=True, save_weights_only=False, mode='auto', period=1)\n",
    "es = EarlyStopping(monitor='val_accuracy', min_delta=0, patience=5, verbose=1, mode='auto')\n",
    "lr_s = LearningRateScheduler(StepDecay(initAlpha=initial_lr), verbose=1)"
   ]
  },
  {
   "cell_type": "raw",
   "id": "c13c7f32",
   "metadata": {},
   "source": [
    "train_datagen = ImageDataGenerator(width_shift_range = 0.2,\n",
    "                                    height_shift_range=0.15,\n",
    "                                    brightness_range=(0.6,1.6),\n",
    "                                    rotation_range = 15, \n",
    "                                    shear_range = 10, \n",
    "                                    zoom_range=[0.8,1.2], \n",
    "                                    horizontal_flip=True,\n",
    "                                    fill_mode='nearest',\n",
    "                                    preprocessing_function = preprocess_input)\n",
    "\n",
    "val_datagen = ImageDataGenerator(preprocessing_function = preprocess_input)\n",
    "\n",
    "train_generator = train_datagen.flow(x=X_train, y=y_train, batch_size=batch_size)\n",
    "val_generator = val_datagen.flow(x=X_val, y=y_val, batch_size=batch_size)"
   ]
  },
  {
   "cell_type": "code",
   "execution_count": 16,
   "id": "91341ad0",
   "metadata": {},
   "outputs": [
    {
     "name": "stderr",
     "output_type": "stream",
     "text": [
      "2022-03-16 11:44:54.505221: I tensorflow/compiler/mlir/mlir_graph_optimization_pass.cc:185] None of the MLIR Optimization Passes are enabled (registered 2)\n",
      "2022-03-16 11:44:54.506667: W tensorflow/core/platform/profile_utils/cpu_utils.cc:128] Failed to get CPU frequency: 0 Hz\n"
     ]
    },
    {
     "name": "stdout",
     "output_type": "stream",
     "text": [
      "Epoch 1/50\n",
      "\n",
      "Epoch 00001: LearningRateScheduler setting learning rate to 0.001.\n"
     ]
    },
    {
     "name": "stderr",
     "output_type": "stream",
     "text": [
      "2022-03-16 11:44:54.765898: I tensorflow/core/grappler/optimizers/custom_graph_optimizer_registry.cc:112] Plugin optimizer for device_type GPU is enabled.\n"
     ]
    },
    {
     "name": "stdout",
     "output_type": "stream",
     "text": [
      "272/272 [==============================] - ETA: 0s - loss: 2.3869 - accuracy: 0.1382"
     ]
    },
    {
     "name": "stderr",
     "output_type": "stream",
     "text": [
      "2022-03-16 11:45:21.127499: I tensorflow/core/grappler/optimizers/custom_graph_optimizer_registry.cc:112] Plugin optimizer for device_type GPU is enabled.\n"
     ]
    },
    {
     "name": "stdout",
     "output_type": "stream",
     "text": [
      "272/272 [==============================] - 33s 119ms/step - loss: 2.3869 - accuracy: 0.1382 - val_loss: 2.2201 - val_accuracy: 0.1948\n",
      "\n",
      "Epoch 00001: val_accuracy improved from -inf to 0.19479, saving model to stage1_autoencoderX.h5\n",
      "Epoch 2/50\n",
      "\n",
      "Epoch 00002: LearningRateScheduler setting learning rate to 0.001.\n",
      "272/272 [==============================] - 28s 102ms/step - loss: 2.3483 - accuracy: 0.1467 - val_loss: 2.1740 - val_accuracy: 0.2014\n",
      "\n",
      "Epoch 00002: val_accuracy improved from 0.19479 to 0.20139, saving model to stage1_autoencoderX.h5\n",
      "Epoch 3/50\n",
      "\n",
      "Epoch 00003: LearningRateScheduler setting learning rate to 0.001.\n",
      "272/272 [==============================] - 28s 102ms/step - loss: 2.3324 - accuracy: 0.1572 - val_loss: 2.1594 - val_accuracy: 0.2149\n",
      "\n",
      "Epoch 00003: val_accuracy improved from 0.20139 to 0.21493, saving model to stage1_autoencoderX.h5\n",
      "Epoch 4/50\n",
      "\n",
      "Epoch 00004: LearningRateScheduler setting learning rate to 0.001.\n",
      "272/272 [==============================] - 28s 102ms/step - loss: 2.3211 - accuracy: 0.1597 - val_loss: 2.1214 - val_accuracy: 0.2385\n",
      "\n",
      "Epoch 00004: val_accuracy improved from 0.21493 to 0.23854, saving model to stage1_autoencoderX.h5\n",
      "Epoch 5/50\n",
      "\n",
      "Epoch 00005: LearningRateScheduler setting learning rate to 0.001.\n",
      "272/272 [==============================] - 28s 103ms/step - loss: 2.3117 - accuracy: 0.1634 - val_loss: 2.1070 - val_accuracy: 0.2420\n",
      "\n",
      "Epoch 00005: val_accuracy improved from 0.23854 to 0.24201, saving model to stage1_autoencoderX.h5\n",
      "Epoch 6/50\n",
      "\n",
      "Epoch 00006: LearningRateScheduler setting learning rate to 0.001.\n",
      "272/272 [==============================] - 28s 102ms/step - loss: 2.3088 - accuracy: 0.1630 - val_loss: 2.0954 - val_accuracy: 0.2337\n",
      "\n",
      "Epoch 00006: val_accuracy did not improve from 0.24201\n",
      "Epoch 7/50\n",
      "\n",
      "Epoch 00007: LearningRateScheduler setting learning rate to 0.001.\n",
      "272/272 [==============================] - 28s 103ms/step - loss: 2.3003 - accuracy: 0.1661 - val_loss: 2.0878 - val_accuracy: 0.2483\n",
      "\n",
      "Epoch 00007: val_accuracy improved from 0.24201 to 0.24826, saving model to stage1_autoencoderX.h5\n",
      "Epoch 8/50\n",
      "\n",
      "Epoch 00008: LearningRateScheduler setting learning rate to 0.001.\n",
      "272/272 [==============================] - 28s 102ms/step - loss: 2.2973 - accuracy: 0.1708 - val_loss: 2.0785 - val_accuracy: 0.2587\n",
      "\n",
      "Epoch 00008: val_accuracy improved from 0.24826 to 0.25868, saving model to stage1_autoencoderX.h5\n",
      "Epoch 9/50\n",
      "\n",
      "Epoch 00009: LearningRateScheduler setting learning rate to 0.001.\n",
      "272/272 [==============================] - 27s 101ms/step - loss: 2.2968 - accuracy: 0.1678 - val_loss: 2.0478 - val_accuracy: 0.2753\n",
      "\n",
      "Epoch 00009: val_accuracy improved from 0.25868 to 0.27535, saving model to stage1_autoencoderX.h5\n",
      "Epoch 10/50\n",
      "\n",
      "Epoch 00010: LearningRateScheduler setting learning rate to 0.0005.\n",
      "272/272 [==============================] - 27s 101ms/step - loss: 2.2832 - accuracy: 0.1740 - val_loss: 2.0022 - val_accuracy: 0.2812\n",
      "\n",
      "Epoch 00010: val_accuracy improved from 0.27535 to 0.28125, saving model to stage1_autoencoderX.h5\n",
      "Epoch 11/50\n",
      "\n",
      "Epoch 00011: LearningRateScheduler setting learning rate to 0.0005.\n",
      "272/272 [==============================] - 28s 102ms/step - loss: 2.2775 - accuracy: 0.1766 - val_loss: 2.0071 - val_accuracy: 0.2865\n",
      "\n",
      "Epoch 00011: val_accuracy improved from 0.28125 to 0.28646, saving model to stage1_autoencoderX.h5\n",
      "Epoch 12/50\n",
      "\n",
      "Epoch 00012: LearningRateScheduler setting learning rate to 0.0005.\n",
      "272/272 [==============================] - 28s 102ms/step - loss: 2.2806 - accuracy: 0.1741 - val_loss: 1.9912 - val_accuracy: 0.2885\n",
      "\n",
      "Epoch 00012: val_accuracy improved from 0.28646 to 0.28854, saving model to stage1_autoencoderX.h5\n",
      "Epoch 13/50\n",
      "\n",
      "Epoch 00013: LearningRateScheduler setting learning rate to 0.0005.\n",
      "272/272 [==============================] - 28s 101ms/step - loss: 2.2726 - accuracy: 0.1777 - val_loss: 1.9818 - val_accuracy: 0.2979\n",
      "\n",
      "Epoch 00013: val_accuracy improved from 0.28854 to 0.29792, saving model to stage1_autoencoderX.h5\n",
      "Epoch 14/50\n",
      "\n",
      "Epoch 00014: LearningRateScheduler setting learning rate to 0.0005.\n",
      "272/272 [==============================] - 28s 101ms/step - loss: 2.2730 - accuracy: 0.1782 - val_loss: 1.9798 - val_accuracy: 0.3073\n",
      "\n",
      "Epoch 00014: val_accuracy improved from 0.29792 to 0.30729, saving model to stage1_autoencoderX.h5\n",
      "Epoch 15/50\n",
      "\n",
      "Epoch 00015: LearningRateScheduler setting learning rate to 0.0005.\n",
      "272/272 [==============================] - 28s 103ms/step - loss: 2.2692 - accuracy: 0.1808 - val_loss: 1.9859 - val_accuracy: 0.2882\n",
      "\n",
      "Epoch 00015: val_accuracy did not improve from 0.30729\n",
      "Epoch 16/50\n",
      "\n",
      "Epoch 00016: LearningRateScheduler setting learning rate to 0.0005.\n",
      "272/272 [==============================] - 28s 103ms/step - loss: 2.2688 - accuracy: 0.1780 - val_loss: 1.9764 - val_accuracy: 0.3056\n",
      "\n",
      "Epoch 00016: val_accuracy did not improve from 0.30729\n",
      "Epoch 17/50\n",
      "\n",
      "Epoch 00017: LearningRateScheduler setting learning rate to 0.0005.\n",
      "272/272 [==============================] - 28s 103ms/step - loss: 2.2635 - accuracy: 0.1835 - val_loss: 1.9726 - val_accuracy: 0.2997\n",
      "\n",
      "Epoch 00017: val_accuracy did not improve from 0.30729\n",
      "Epoch 18/50\n",
      "\n",
      "Epoch 00018: LearningRateScheduler setting learning rate to 0.0005.\n",
      "272/272 [==============================] - 28s 103ms/step - loss: 2.2611 - accuracy: 0.1809 - val_loss: 1.9622 - val_accuracy: 0.3073\n",
      "\n",
      "Epoch 00018: val_accuracy did not improve from 0.30729\n",
      "Epoch 19/50\n",
      "\n",
      "Epoch 00019: LearningRateScheduler setting learning rate to 0.0005.\n",
      "272/272 [==============================] - 28s 103ms/step - loss: 2.2611 - accuracy: 0.1848 - val_loss: 1.9570 - val_accuracy: 0.3056\n",
      "\n",
      "Epoch 00019: val_accuracy did not improve from 0.30729\n",
      "Epoch 00019: early stopping\n"
     ]
    }
   ],
   "source": [
    "# training the model\n",
    "history = classifier_model.fit(\n",
    "    X_train, \n",
    "    y_train, \n",
    "    epochs=epochs,\n",
    "    batch_size=batch_size,\n",
    "    steps_per_epoch=steps_per_epoch,\n",
    "    validation_steps=validation_steps,\n",
    "    validation_data=(X_val,y_val),\n",
    "    callbacks=[mc,es,lr_s])\n",
    "\n",
    "# saving training history (for future visualization)\n",
    "with open('./train_history_s1_autoencoderX.pkl', 'wb') as handle:\n",
    "    pickle.dump(history.history, handle, protocol=pickle.HIGHEST_PROTOCOL)"
   ]
  },
  {
   "cell_type": "code",
   "execution_count": 17,
   "id": "5a2241f3",
   "metadata": {},
   "outputs": [
    {
     "data": {
      "text/plain": [
       "<matplotlib.legend.Legend at 0x151b79070>"
      ]
     },
     "execution_count": 17,
     "metadata": {},
     "output_type": "execute_result"
    },
    {
     "data": {
      "image/png": "[encoded data removed]",
      "text/plain": [
       "<Figure size 1080x288 with 2 Axes>"
      ]
     },
     "metadata": {
      "needs_background": "light"
     },
     "output_type": "display_data"
    }
   ],
   "source": [
    "import pickle\n",
    "from matplotlib import pyplot as plt\n",
    "\n",
    "train_hist = pickle.load(open(\"./train_history_s1_autoencoderX.pkl\",\"rb\"))\n",
    "\n",
    "# we plot both, the LOSS and MAE\n",
    "fig, (ax1, ax2) = plt.subplots(1, 2, figsize=(15, 4))\n",
    "fig.suptitle('Training history (stage 1)', fontsize=14, fontweight='bold')\n",
    "\n",
    "ax1.plot(train_hist['loss'])\n",
    "ax1.plot(train_hist['val_loss'])\n",
    "ax1.set(xlabel='epoch', ylabel='LOSS')\n",
    "ax1.legend(['train', 'valid'], loc='upper right')\n",
    "\n",
    "ax2.plot(train_hist['accuracy'])\n",
    "ax2.plot(train_hist['val_accuracy'])\n",
    "ax2.set(xlabel='epoch', ylabel='Accuracy')\n",
    "ax2.legend(['train', 'valid'], loc='upper right')  "
   ]
  },
  {
   "cell_type": "markdown",
   "id": "27880828",
   "metadata": {},
   "source": [
    "### Stage 2"
   ]
  },
  {
   "cell_type": "code",
   "execution_count": 18,
   "id": "dcf619dc",
   "metadata": {},
   "outputs": [],
   "source": [
    "saved_model = load_model('stage1_autoencoderX.h5')"
   ]
  },
  {
   "cell_type": "code",
   "execution_count": 19,
   "id": "e9ad9887",
   "metadata": {},
   "outputs": [],
   "source": [
    "# set only 10 blocks to trainable\n",
    "counter = 0\n",
    "for layer in saved_model.layers:\n",
    "    layer.trainable = True"
   ]
  },
  {
   "cell_type": "code",
   "execution_count": 20,
   "id": "c384c68d",
   "metadata": {},
   "outputs": [],
   "source": [
    "initial_lr = 1e-4\n",
    "#compile model using accuracy to measure model performance\n",
    "saved_model.compile(loss='categorical_crossentropy', optimizer=Adam(learning_rate=initial_lr), metrics=['accuracy'])"
   ]
  },
  {
   "cell_type": "code",
   "execution_count": 21,
   "id": "0c4a57ac",
   "metadata": {},
   "outputs": [
    {
     "name": "stdout",
     "output_type": "stream",
     "text": [
      "WARNING:tensorflow:`period` argument is deprecated. Please use `save_freq` to specify the frequency in number of batches seen.\n"
     ]
    }
   ],
   "source": [
    "mc = ModelCheckpoint(\"stage2_autoencoderX.h5\", monitor='val_accuracy', verbose=1, save_best_only=True, save_weights_only=False, mode='auto', period=1)\n",
    "es = EarlyStopping(monitor='val_accuracy', min_delta=0, patience=5, verbose=1, mode='auto')\n",
    "lr_s = LearningRateScheduler(StepDecay(initAlpha=initial_lr), verbose=1)"
   ]
  },
  {
   "cell_type": "code",
   "execution_count": 22,
   "id": "31fc4801",
   "metadata": {},
   "outputs": [
    {
     "name": "stdout",
     "output_type": "stream",
     "text": [
      "X_train shape:  (8715, 224, 224, 3)\n",
      "y_train shape:  (8715, 11)\n",
      "X_val shape:  (2905, 224, 224, 3)\n",
      "y_val shape:  (2905, 11)\n"
     ]
    }
   ],
   "source": [
    "X_train, X_val, y_train, y_val = load_and_split_data()"
   ]
  },
  {
   "cell_type": "code",
   "execution_count": 23,
   "id": "65dfadd8",
   "metadata": {},
   "outputs": [
    {
     "name": "stdout",
     "output_type": "stream",
     "text": [
      "Epoch 1/50\n",
      "\n",
      "Epoch 00001: LearningRateScheduler setting learning rate to 0.001.\n"
     ]
    },
    {
     "name": "stderr",
     "output_type": "stream",
     "text": [
      "2022-03-16 11:59:00.617319: I tensorflow/core/grappler/optimizers/custom_graph_optimizer_registry.cc:112] Plugin optimizer for device_type GPU is enabled.\n"
     ]
    },
    {
     "name": "stdout",
     "output_type": "stream",
     "text": [
      "272/272 [==============================] - ETA: 0s - loss: 2.3301 - accuracy: 0.1561"
     ]
    },
    {
     "name": "stderr",
     "output_type": "stream",
     "text": [
      "2022-03-16 12:00:08.537259: I tensorflow/core/grappler/optimizers/custom_graph_optimizer_registry.cc:112] Plugin optimizer for device_type GPU is enabled.\n"
     ]
    },
    {
     "name": "stdout",
     "output_type": "stream",
     "text": [
      "272/272 [==============================] - 75s 272ms/step - loss: 2.3301 - accuracy: 0.1561 - val_loss: 2.1306 - val_accuracy: 0.2295\n",
      "\n",
      "Epoch 00001: val_accuracy improved from -inf to 0.22951, saving model to stage2_autoencoderX.h5\n",
      "Epoch 2/50\n",
      "\n",
      "Epoch 00002: LearningRateScheduler setting learning rate to 0.001.\n",
      "272/272 [==============================] - 69s 252ms/step - loss: 2.3160 - accuracy: 0.1633 - val_loss: 2.0215 - val_accuracy: 0.2792\n",
      "\n",
      "Epoch 00002: val_accuracy improved from 0.22951 to 0.27917, saving model to stage2_autoencoderX.h5\n",
      "Epoch 3/50\n",
      "\n",
      "Epoch 00003: LearningRateScheduler setting learning rate to 0.001.\n",
      "272/272 [==============================] - 69s 252ms/step - loss: 2.3076 - accuracy: 0.1633 - val_loss: 2.0398 - val_accuracy: 0.2753\n",
      "\n",
      "Epoch 00003: val_accuracy did not improve from 0.27917\n",
      "Epoch 4/50\n",
      "\n",
      "Epoch 00004: LearningRateScheduler setting learning rate to 0.001.\n",
      "272/272 [==============================] - 68s 250ms/step - loss: 2.2991 - accuracy: 0.1687 - val_loss: 2.0067 - val_accuracy: 0.2872\n",
      "\n",
      "Epoch 00004: val_accuracy improved from 0.27917 to 0.28715, saving model to stage2_autoencoderX.h5\n",
      "Epoch 5/50\n",
      "\n",
      "Epoch 00005: LearningRateScheduler setting learning rate to 0.001.\n",
      "272/272 [==============================] - 68s 252ms/step - loss: 2.2898 - accuracy: 0.1711 - val_loss: 2.0388 - val_accuracy: 0.2965\n",
      "\n",
      "Epoch 00005: val_accuracy improved from 0.28715 to 0.29653, saving model to stage2_autoencoderX.h5\n",
      "Epoch 6/50\n",
      "\n",
      "Epoch 00006: LearningRateScheduler setting learning rate to 0.001.\n",
      "272/272 [==============================] - 68s 251ms/step - loss: 2.2791 - accuracy: 0.1778 - val_loss: 1.9718 - val_accuracy: 0.3101\n",
      "\n",
      "Epoch 00006: val_accuracy improved from 0.29653 to 0.31007, saving model to stage2_autoencoderX.h5\n",
      "Epoch 7/50\n",
      "\n",
      "Epoch 00007: LearningRateScheduler setting learning rate to 0.001.\n",
      "272/272 [==============================] - 68s 251ms/step - loss: 2.2692 - accuracy: 0.1812 - val_loss: 2.0489 - val_accuracy: 0.2962\n",
      "\n",
      "Epoch 00007: val_accuracy did not improve from 0.31007\n",
      "Epoch 8/50\n",
      "\n",
      "Epoch 00008: LearningRateScheduler setting learning rate to 0.001.\n",
      "272/272 [==============================] - 68s 252ms/step - loss: 2.2629 - accuracy: 0.1838 - val_loss: 1.9520 - val_accuracy: 0.3208\n",
      "\n",
      "Epoch 00008: val_accuracy improved from 0.31007 to 0.32083, saving model to stage2_autoencoderX.h5\n",
      "Epoch 9/50\n",
      "\n",
      "Epoch 00009: LearningRateScheduler setting learning rate to 0.001.\n",
      "272/272 [==============================] - 68s 252ms/step - loss: 2.2441 - accuracy: 0.1885 - val_loss: 2.0147 - val_accuracy: 0.3198\n",
      "\n",
      "Epoch 00009: val_accuracy did not improve from 0.32083\n",
      "Epoch 10/50\n",
      "\n",
      "Epoch 00010: LearningRateScheduler setting learning rate to 0.0005.\n",
      "272/272 [==============================] - 68s 252ms/step - loss: 2.2156 - accuracy: 0.2034 - val_loss: 2.0047 - val_accuracy: 0.3257\n",
      "\n",
      "Epoch 00010: val_accuracy improved from 0.32083 to 0.32569, saving model to stage2_autoencoderX.h5\n",
      "Epoch 11/50\n",
      "\n",
      "Epoch 00011: LearningRateScheduler setting learning rate to 0.0005.\n",
      "272/272 [==============================] - 68s 251ms/step - loss: 2.2007 - accuracy: 0.2041 - val_loss: 2.1308 - val_accuracy: 0.3299\n",
      "\n",
      "Epoch 00011: val_accuracy improved from 0.32569 to 0.32986, saving model to stage2_autoencoderX.h5\n",
      "Epoch 12/50\n",
      "\n",
      "Epoch 00012: LearningRateScheduler setting learning rate to 0.0005.\n",
      "272/272 [==============================] - 69s 252ms/step - loss: 2.1859 - accuracy: 0.2071 - val_loss: 2.0916 - val_accuracy: 0.3313\n",
      "\n",
      "Epoch 00012: val_accuracy improved from 0.32986 to 0.33125, saving model to stage2_autoencoderX.h5\n",
      "Epoch 13/50\n",
      "\n",
      "Epoch 00013: LearningRateScheduler setting learning rate to 0.0005.\n",
      "272/272 [==============================] - 69s 252ms/step - loss: 2.1681 - accuracy: 0.2170 - val_loss: 2.0964 - val_accuracy: 0.3354\n",
      "\n",
      "Epoch 00013: val_accuracy improved from 0.33125 to 0.33542, saving model to stage2_autoencoderX.h5\n",
      "Epoch 14/50\n",
      "\n",
      "Epoch 00014: LearningRateScheduler setting learning rate to 0.0005.\n",
      "272/272 [==============================] - 69s 253ms/step - loss: 2.1465 - accuracy: 0.2268 - val_loss: 2.1727 - val_accuracy: 0.3330\n",
      "\n",
      "Epoch 00014: val_accuracy did not improve from 0.33542\n",
      "Epoch 15/50\n",
      "\n",
      "Epoch 00015: LearningRateScheduler setting learning rate to 0.0005.\n",
      "272/272 [==============================] - 69s 252ms/step - loss: 2.1344 - accuracy: 0.2284 - val_loss: 2.2962 - val_accuracy: 0.3524\n",
      "\n",
      "Epoch 00015: val_accuracy improved from 0.33542 to 0.35243, saving model to stage2_autoencoderX.h5\n",
      "Epoch 16/50\n",
      "\n",
      "Epoch 00016: LearningRateScheduler setting learning rate to 0.0005.\n",
      "272/272 [==============================] - 69s 252ms/step - loss: 2.1145 - accuracy: 0.2349 - val_loss: 2.4123 - val_accuracy: 0.3288\n",
      "\n",
      "Epoch 00016: val_accuracy did not improve from 0.35243\n",
      "Epoch 17/50\n",
      "\n",
      "Epoch 00017: LearningRateScheduler setting learning rate to 0.0005.\n",
      "272/272 [==============================] - 69s 252ms/step - loss: 2.0978 - accuracy: 0.2416 - val_loss: 2.3948 - val_accuracy: 0.3396\n",
      "\n",
      "Epoch 00017: val_accuracy did not improve from 0.35243\n",
      "Epoch 18/50\n",
      "\n",
      "Epoch 00018: LearningRateScheduler setting learning rate to 0.0005.\n",
      "272/272 [==============================] - 68s 251ms/step - loss: 2.0865 - accuracy: 0.2440 - val_loss: 2.6477 - val_accuracy: 0.3316\n",
      "\n",
      "Epoch 00018: val_accuracy did not improve from 0.35243\n",
      "Epoch 19/50\n",
      "\n",
      "Epoch 00019: LearningRateScheduler setting learning rate to 0.0005.\n",
      "272/272 [==============================] - 69s 252ms/step - loss: 2.0658 - accuracy: 0.2518 - val_loss: 2.8865 - val_accuracy: 0.3392\n",
      "\n",
      "Epoch 00019: val_accuracy did not improve from 0.35243\n",
      "Epoch 20/50\n",
      "\n",
      "Epoch 00020: LearningRateScheduler setting learning rate to 0.00025.\n",
      "272/272 [==============================] - 69s 252ms/step - loss: 2.0398 - accuracy: 0.2630 - val_loss: 2.8856 - val_accuracy: 0.3490\n",
      "\n",
      "Epoch 00020: val_accuracy did not improve from 0.35243\n",
      "Epoch 00020: early stopping\n"
     ]
    }
   ],
   "source": [
    "# training the model\n",
    "history = saved_model.fit(\n",
    "    X_train, \n",
    "    y_train, \n",
    "    epochs=epochs,\n",
    "    batch_size=batch_size,\n",
    "    steps_per_epoch=steps_per_epoch,\n",
    "    validation_steps=validation_steps,\n",
    "    validation_data=(X_val, y_val),\n",
    "    callbacks=[mc, es, lr_s])\n",
    "\n",
    "# saving training history (for future visualization)\n",
    "with open('./train_history_s2_autoencoderX.pkl', 'wb') as handle:\n",
    "    pickle.dump(history.history, handle, protocol=pickle.HIGHEST_PROTOCOL)"
   ]
  },
  {
   "cell_type": "code",
   "execution_count": 24,
   "id": "192ed878",
   "metadata": {},
   "outputs": [
    {
     "data": {
      "text/plain": [
       "<matplotlib.legend.Legend at 0x153cd1940>"
      ]
     },
     "execution_count": 24,
     "metadata": {},
     "output_type": "execute_result"
    },
    {
     "data": {
      "image/png": "[encoded data removed]",
      "text/plain": [
       "<Figure size 1080x288 with 2 Axes>"
      ]
     },
     "metadata": {
      "needs_background": "light"
     },
     "output_type": "display_data"
    }
   ],
   "source": [
    "#@title Plot training history\n",
    "train_hist = pickle.load(open(\"./train_history_s1_autoencoderX.pkl\",\"rb\"))\n",
    "train_hist_2nd = pickle.load(open(\"./train_history_s2_autoencoderX.pkl\",\"rb\"))\n",
    "\n",
    "fig, (ax1, ax2) = plt.subplots(1, 2, figsize=(15, 4))\n",
    "fig.suptitle('Training history (Stage 1 and Stage 2)', fontsize=14, fontweight='bold')\n",
    "\n",
    "ax1.plot(train_hist['loss']+train_hist_2nd['loss'])\n",
    "ax1.plot(train_hist['val_loss']+train_hist_2nd['val_loss'])\n",
    "ax1.axvline(27, 0, 1, ls='--', color='r')\n",
    "ax1.set(xlabel='epoch', ylabel='Loss')\n",
    "ax1.legend(['train', 'valid'], loc='upper right')\n",
    "\n",
    "ax2.plot(train_hist['accuracy']+train_hist_2nd['accuracy'])\n",
    "ax2.plot(train_hist['val_accuracy']+train_hist_2nd['val_accuracy'])\n",
    "ax2.axvline(27, 0, 1, ls='--', color='r')\n",
    "ax2.set(xlabel='epoch', ylabel='Accuracy')\n",
    "ax2.legend(['train', 'valid'], loc='upper right')"
   ]
  },
  {
   "cell_type": "markdown",
   "id": "30d6fd0c",
   "metadata": {},
   "source": [
    "### Stage 3"
   ]
  },
  {
   "cell_type": "code",
   "execution_count": null,
   "id": "372f83d9",
   "metadata": {},
   "outputs": [],
   "source": [
    "saved_model2 = load_model('stage2_v3.h5')"
   ]
  },
  {
   "cell_type": "code",
   "execution_count": null,
   "id": "025faf17",
   "metadata": {},
   "outputs": [],
   "source": [
    "#@title Set to trainable last 10 blocks\n",
    "# setting all layers of the model to trainable\n",
    "saved_model2.trainable = True"
   ]
  },
  {
   "cell_type": "code",
   "execution_count": null,
   "id": "47497a0a",
   "metadata": {},
   "outputs": [],
   "source": [
    "initial_lr = 1e-5\n",
    "#compile model using accuracy to measure model performance\n",
    "model.compile(loss='categorical_crossentropy', optimizer=Adam(learning_rate=initial_lr), metrics=['accuracy'])"
   ]
  },
  {
   "cell_type": "code",
   "execution_count": null,
   "id": "e9347c28",
   "metadata": {},
   "outputs": [],
   "source": [
    "mc = ModelCheckpoint(\"stage3_v3.h5\", monitor='val_accuracy', verbose=1, save_best_only=True, save_weights_only=False, mode='auto', period=1)\n",
    "es = EarlyStopping(monitor='val_accuracy', min_delta=0, patience=10, verbose=1, mode='auto')\n",
    "lr_s = LearningRateScheduler(StepDecay(initAlpha=initial_lr), verbose=1)"
   ]
  },
  {
   "cell_type": "code",
   "execution_count": null,
   "id": "e2b19a7c",
   "metadata": {},
   "outputs": [],
   "source": [
    "X_train, X_val, y_train, y_val = load_and_split_data()"
   ]
  },
  {
   "cell_type": "code",
   "execution_count": null,
   "id": "6a1c82bd",
   "metadata": {},
   "outputs": [],
   "source": [
    "# training the model\n",
    "history = saved_model.fit(\n",
    "    X_train, \n",
    "    y_train, \n",
    "    epochs=epochs,\n",
    "    batch_size=batch_size,\n",
    "    steps_per_epoch=steps_per_epoch,\n",
    "    validation_steps=validation_steps,\n",
    "    validation_data=(X_val, y_val),\n",
    "    callbacks=[mc, es, lr_s])\n",
    "\n",
    "# saving training history (for future visualization)\n",
    "with open('./train_history_s3_v3.pkl', 'wb') as handle:\n",
    "    pickle.dump(history.history, handle, protocol=pickle.HIGHEST_PROTOCOL)"
   ]
  },
  {
   "cell_type": "code",
   "execution_count": null,
   "id": "30f671f9",
   "metadata": {},
   "outputs": [],
   "source": [
    "#@title Plot training history\n",
    "train_hist = pickle.load(open(\"./train_history_s1_v3.pkl\",\"rb\"))\n",
    "train_hist_2nd = pickle.load(open(\"./train_history_s2_v3.pkl\",\"rb\"))\n",
    "train_hist_3rd = pickle.load(open(\"./train_history_s3_v3.pkl\",\"rb\"))\n",
    "\n",
    "fig, (ax1, ax2) = plt.subplots(1, 2, figsize=(15, 4))\n",
    "fig.suptitle('Training history (Stage 1, Stage 2, Stage 3)', fontsize=14, fontweight='bold')\n",
    "\n",
    "ax1.plot(train_hist['loss']+train_hist_2nd['loss']+train_hist_3rd['loss'])\n",
    "ax1.plot(train_hist['val_loss']+train_hist_2nd['val_loss']+train_hist_3rd['val_loss'])\n",
    "ax1.axvline(36, 0, 1, ls='--', color='r')\n",
    "ax1.axvline(70, 0, 1, ls='--', color='r')\n",
    "ax1.set(xlabel='epoch', ylabel='Loss')\n",
    "ax1.legend(['train', 'valid'], loc='upper right')\n",
    "\n",
    "ax2.plot(train_hist['accuracy']+train_hist_2nd['accuracy']+train_hist_3rd['accuracy'])\n",
    "ax2.plot(train_hist['val_accuracy']+train_hist_2nd['val_accuracy']+train_hist_3rd['val_accuracy'])\n",
    "ax2.axvline(36, 0, 1, ls='--', color='r')\n",
    "ax2.axvline(70, 0, 1, ls='--', color='r')\n",
    "ax2.set(xlabel='epoch', ylabel='Accuracy')\n",
    "ax2.legend(['train', 'valid'], loc='upper right')"
   ]
  },
  {
   "cell_type": "code",
   "execution_count": null,
   "id": "fd264d77",
   "metadata": {},
   "outputs": [],
   "source": []
  }
 ],
 "metadata": {
  "kernelspec": {
   "display_name": "Python 3 (ipykernel)",
   "language": "python",
   "name": "python3"
  },
  "language_info": {
   "codemirror_mode": {
    "name": "ipython",
    "version": 3
   },
   "file_extension": ".py",
   "mimetype": "text/x-python",
   "name": "python",
   "nbconvert_exporter": "python",
   "pygments_lexer": "ipython3",
   "version": "3.9.10"
  }
 },
 "nbformat": 4,
 "nbformat_minor": 5
}
